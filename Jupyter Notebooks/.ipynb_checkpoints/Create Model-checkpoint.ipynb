{
 "cells": [
  {
   "cell_type": "code",
   "execution_count": 1,
   "metadata": {},
   "outputs": [],
   "source": [
    "import pandas as pd\n",
    "from sklearn.metrics import accuracy_score\n",
    "import numpy as np\n",
    "from sklearn.model_selection import train_test_split\n",
    "from sklearn.preprocessing import MinMaxScaler\n",
    "from gensim.models import FastText\n",
    "import re\n",
    "from sklearn.ensemble import RandomForestClassifier\n",
    "from sklearn.neural_network import MLPClassifier\n",
    "from sklearn.svm import LinearSVC\n",
    "import warnings\n",
    "warnings.filterwarnings('ignore')"
   ]
  },
  {
   "cell_type": "code",
   "execution_count": 2,
   "metadata": {},
   "outputs": [],
   "source": [
    "testing_data = pd.read_csv(\"testing_data.csv\")\n",
    "training_data = pd.read_csv(\"training_data.csv\")\n",
    "training_data = training_data.drop(['Unnamed: 0'],axis=1)\n",
    "testing_data = testing_data.drop(['Unnamed: 0'],axis=1)"
   ]
  },
  {
   "cell_type": "code",
   "execution_count": 3,
   "metadata": {},
   "outputs": [],
   "source": [
    "y_test = pd.read_csv(\"testing_labels.csv\")\n",
    "y_train = pd.read_csv(\"training_labels.csv\")\n",
    "y_train = y_train.drop([\"Unnamed: 0\"],axis=1)\n",
    "y_test = y_test.drop([\"Unnamed: 0\"],axis=1)"
   ]
  },
  {
   "cell_type": "code",
   "execution_count": 4,
   "metadata": {},
   "outputs": [],
   "source": [
    "import json\n",
    "def get_concateated_data(dataset):\n",
    "    final_data = []\n",
    "    for col in dataset.columns:\n",
    "        if dataset[col].dtype == 'object':\n",
    "            feature_values = []\n",
    "            float_array = dataset[col].apply(lambda x: np.array([float(y) for y in json.loads(x)]))\n",
    "            for u in np.array(float_array):\n",
    "                feature_values.append(u)\n",
    "            feature_values = np.array(feature_values)\n",
    "        else:\n",
    "            feature_values = np.array(dataset[col].astype('float'))\n",
    "            feature_values = feature_values.reshape(feature_values.shape[0],1)\n",
    "        if final_data == []:\n",
    "            final_data = feature_values\n",
    "            continue\n",
    "        final_data = np.concatenate((feature_values,final_data),axis=1)\n",
    "    return final_data"
   ]
  },
  {
   "cell_type": "code",
   "execution_count": 5,
   "metadata": {},
   "outputs": [],
   "source": [
    "def get_train_test(tr_data,te_data):\n",
    "    final_data_train = get_concateated_data(tr_data)\n",
    "    final_data_test = get_concateated_data(te_data)\n",
    "    train = pd.DataFrame(final_data_train).fillna(0)\n",
    "    test = pd.DataFrame(final_data_test).fillna(0)\n",
    "    return train,test"
   ]
  },
  {
   "cell_type": "code",
   "execution_count": 6,
   "metadata": {},
   "outputs": [],
   "source": [
    "def randomForrest(train,test,y_tr,y_te):\n",
    "    clf = RandomForestClassifier(random_state=1).fit(train, y_tr)\n",
    "    y_predictions = clf.predict(test)\n",
    "    return accuracy_score(y_te, y_predictions), clf"
   ]
  },
  {
   "cell_type": "code",
   "execution_count": 7,
   "metadata": {},
   "outputs": [],
   "source": [
    "def mlpClassifier(train,test,y_tr,y_te):\n",
    "    clf = MLPClassifier(random_state=1).fit(train, y_tr)\n",
    "    y_predictions = clf.predict(test)\n",
    "    return accuracy_score(y_te, y_predictions),clf"
   ]
  },
  {
   "cell_type": "code",
   "execution_count": 8,
   "metadata": {},
   "outputs": [],
   "source": [
    "def linearSVC(train,test,y_tr,y_te):\n",
    "    clf = LinearSVC(random_state=1).fit(train,y_tr)\n",
    "    y_predictions = clf.predict(test)\n",
    "    return accuracy_score(y_te, y_predictions),clf"
   ]
  },
  {
   "cell_type": "code",
   "execution_count": 9,
   "metadata": {},
   "outputs": [],
   "source": [
    "def getPredictions(feature_array):\n",
    "    tr,te = get_train_test(training_data[feature_array],testing_data[feature_array])\n",
    "    arf,crf = randomForrest(tr,te,y_train,y_test)\n",
    "    amlp,cmlp = mlpClassifier(tr,te,y_train,y_test)\n",
    "    alsvc,clsvc = linearSVC(tr,te,y_train,y_test)\n",
    "    return arf,amlp,alsvc"
   ]
  },
  {
   "cell_type": "code",
   "execution_count": 10,
   "metadata": {},
   "outputs": [
    {
     "data": {
      "text/plain": [
       "(0.39, 0.445, 0.44)"
      ]
     },
     "execution_count": 10,
     "metadata": {},
     "output_type": "execute_result"
    }
   ],
   "source": [
    "getPredictions([\n",
    " 'selftext',\n",
    " 'comments',\n",
    " 'title',\n",
    " 'url',\n",
    "])"
   ]
  },
  {
   "cell_type": "code",
   "execution_count": 11,
   "metadata": {},
   "outputs": [],
   "source": [
    "boolean_cols = ['allow_live_comments',\n",
    " 'archived',\n",
    " 'author_premium',\n",
    " 'contest_mode',\n",
    " 'hide_score',\n",
    " 'is_original_content',\n",
    " 'is_reddit_media_domain',\n",
    " 'is_self',\n",
    " 'is_video',\n",
    " 'locked',\n",
    " 'no_follow',\n",
    " 'send_replies',\n",
    " 'spoiler',\n",
    " 'stickied']"
   ]
  },
  {
   "cell_type": "code",
   "execution_count": 12,
   "metadata": {},
   "outputs": [
    {
     "data": {
      "text/plain": [
       "(0.245, 0.2325, 0.235)"
      ]
     },
     "execution_count": 12,
     "metadata": {},
     "output_type": "execute_result"
    }
   ],
   "source": [
    "getPredictions(boolean_cols)"
   ]
  },
  {
   "cell_type": "code",
   "execution_count": 13,
   "metadata": {},
   "outputs": [],
   "source": [
    "numerical_cols = [col for col in training_data.columns if np.issubdtype(training_data[col].dtype, np.number) and col not in boolean_cols]"
   ]
  },
  {
   "cell_type": "code",
   "execution_count": 14,
   "metadata": {},
   "outputs": [
    {
     "data": {
      "text/plain": [
       "(0.78, 0.7525, 0.5775)"
      ]
     },
     "execution_count": 14,
     "metadata": {},
     "output_type": "execute_result"
    }
   ],
   "source": [
    "getPredictions(numerical_cols)"
   ]
  },
  {
   "cell_type": "code",
   "execution_count": 16,
   "metadata": {},
   "outputs": [],
   "source": [
    "all_cols = training_data.columns"
   ]
  },
  {
   "cell_type": "code",
   "execution_count": 17,
   "metadata": {},
   "outputs": [
    {
     "data": {
      "text/plain": [
       "(0.7925, 0.775, 0.72)"
      ]
     },
     "execution_count": 17,
     "metadata": {},
     "output_type": "execute_result"
    }
   ],
   "source": [
    "getPredictions(all_cols)"
   ]
  },
  {
   "cell_type": "code",
   "execution_count": 18,
   "metadata": {},
   "outputs": [
    {
     "name": "stdout",
     "output_type": "stream",
     "text": [
      "allow_live_comments\n",
      "(0.1025, 0.1025, 0.1025)\n",
      "archived\n",
      "(0.1875, 0.1875, 0.1875)\n",
      "author_premium\n",
      "(0.12, 0.12, 0.12)\n",
      "contest_mode\n",
      "(0.09, 0.09, 0.09)\n",
      "hide_score\n",
      "(0.09, 0.09, 0.09)\n",
      "is_original_content\n",
      "(0.0875, 0.0875, 0.0875)\n",
      "is_reddit_media_domain\n",
      "(0.1125, 0.1125, 0.1125)\n",
      "is_self\n",
      "(0.1525, 0.1525, 0.1525)\n",
      "is_video\n",
      "(0.09, 0.09, 0.09)\n",
      "locked\n",
      "(0.09, 0.09, 0.09)\n",
      "no_follow\n",
      "(0.105, 0.105, 0.105)\n",
      "send_replies\n",
      "(0.1175, 0.12, 0.1175)\n",
      "spoiler\n",
      "(0.09, 0.09, 0.09)\n",
      "stickied\n",
      "(0.09, 0.09, 0.09)\n",
      "created\n",
      "(0.205, 0.225, 0.2075)\n",
      "gilded\n",
      "(0.1075, 0.1075, 0.105)\n",
      "num_comments\n",
      "(0.1375, 0.1325, 0.1375)\n",
      "num_crossposts\n",
      "(0.12, 0.12, 0.1075)\n",
      "num_duplicates\n",
      "(0.11, 0.1125, 0.1125)\n",
      "score\n",
      "(0.11, 0.13, 0.135)\n",
      "subreddit_subscribers\n",
      "(0.62, 0.6225, 0.4925)\n",
      "thumbnail_height\n",
      "(0.1525, 0.15, 0.135)\n",
      "thumbnail_width\n",
      "(0.15, 0.15, 0.15)\n",
      "total_awards_received\n",
      "(0.115, 0.12, 0.12)\n",
      "upvote_ratio\n",
      "(0.1375, 0.155, 0.1475)\n",
      "selftext\n",
      "(0.225, 0.2525, 0.25)\n",
      "comments\n",
      "(0.2525, 0.31, 0.3125)\n",
      "title\n",
      "(0.3125, 0.43, 0.3725)\n",
      "url\n",
      "(0.09, 0.09, 0.09)\n"
     ]
    }
   ],
   "source": [
    "for col in all_cols:\n",
    "    print(col)\n",
    "    print(getPredictions([col]))"
   ]
  },
  {
   "cell_type": "code",
   "execution_count": 20,
   "metadata": {},
   "outputs": [
    {
     "data": {
      "text/plain": [
       "(0.365, 0.3125, 0.2875)"
      ]
     },
     "execution_count": 20,
     "metadata": {},
     "output_type": "execute_result"
    }
   ],
   "source": [
    "getPredictions(['created',\n",
    " 'gilded',\n",
    " 'num_comments',\n",
    " 'num_crossposts',\n",
    " 'num_duplicates',\n",
    " 'score',\n",
    " 'thumbnail_height',\n",
    " 'thumbnail_width',\n",
    " 'total_awards_received',\n",
    " 'upvote_ratio'])"
   ]
  },
  {
   "cell_type": "code",
   "execution_count": 25,
   "metadata": {},
   "outputs": [],
   "source": [
    "string_cols = [c for c in all_cols if c not in numerical_cols and c not in boolean_cols]"
   ]
  },
  {
   "cell_type": "code",
   "execution_count": null,
   "metadata": {},
   "outputs": [],
   "source": []
  }
 ],
 "metadata": {
  "kernelspec": {
   "display_name": "Python 3",
   "language": "python",
   "name": "python3"
  },
  "language_info": {
   "codemirror_mode": {
    "name": "ipython",
    "version": 3
   },
   "file_extension": ".py",
   "mimetype": "text/x-python",
   "name": "python",
   "nbconvert_exporter": "python",
   "pygments_lexer": "ipython3",
   "version": "3.5.2"
  }
 },
 "nbformat": 4,
 "nbformat_minor": 2
}
