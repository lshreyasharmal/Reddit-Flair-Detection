{
 "cells": [
  {
   "cell_type": "code",
   "execution_count": 4,
   "metadata": {},
   "outputs": [],
   "source": [
    "import numpy as np\n",
    "import pandas as pd\n",
    "import pickle\n",
    "from preprocessing_functions import *\n",
    "from predict_function import *\n",
    "import praw\n",
    "import re\n",
    "import joblib\n",
    "\n",
    "fastText_model = joblib.load(\"fast_text_model.pkl\")\n",
    "classifier = joblib.load(\"classifier.pkl\")\n",
    "scalar = joblib.load(\"scaler.pkl\")\n",
    "\n",
    "\n",
    "reddit = praw.Reddit(client_id=\"z8UhRRiFnEVZ8Q\",\n",
    "                     client_secret=\"bV7OxwG-VKjdyKxcuUihnV1lNPg\",\n",
    "                     password=\"qazwsx123\",\n",
    "                     username=\"lshreyasharmal\",\n",
    "                     user_agent=\"bot1 user agent\")\n",
    "final_features = [u'author', u'comments', u'is_original_content',\n",
    "       u'is_reddit_media_domain', u'is_video', u'over_18', u'permalink',\n",
    "       u'secure_media', u'selftext', u'send_replies', u'title', u'url',\n",
    "       u'edited', u'num_comments', u'num_duplicates', u'subreddit_subscribers',\n",
    "       u'ups', u'upvote_ratio']\n",
    "numerical_cols = [u'edited', u'num_comments',u'num_duplicates',u'subreddit_subscribers', u'ups', u'upvote_ratio']\n",
    "flairs_mapping = {1:'AskIndia',2:'Business/Finance',3:'Food',4:'Non-Political',5:'Photography',6:'Policy/Economy',7:'Politics',8:'Scheduled',9:'Science/Technology',10:'Sports',0:'Others'}\n",
    "    \n",
    "\n",
    "def get_feature_dict(s):\n",
    "    to_dict = vars(s)\n",
    "    y_true = s.link_flair_text\n",
    "    to_dict['upvote_ratio'] = s.upvote_ratio\n",
    "    author = str(s.author).split(\"'\")\n",
    "    to_dict['author'] = author[len(author)-2]\n",
    "    comments = []\n",
    "    s.comments.replace_more(limit=None)\n",
    "    for comment in s.comments.list():\n",
    "        comments.append(comment.body)\n",
    "    to_dict['comments'] = comments\n",
    "    sub_dict = {field:to_dict[field] for field in final_features}\n",
    "    return y_true,sub_dict\n",
    "\n",
    "\n",
    "def get_flair(code):\n",
    "    s = reddit.submission(code)\n",
    "    y_true,sub_dict = get_feature_dict(s)\n",
    "    new_data = hanlde_bool_and_tokenize([sub_dict])\n",
    "    new_data = pd.DataFrame.from_records(new_data)\n",
    "    numerical_data = new_data[numerical_cols]\n",
    "    numeric_X  = scalar.transform(numerical_data)\n",
    "    numeric_X = pd.DataFrame(numeric_X, index=numerical_data.index, columns=numerical_data.columns)\n",
    "    X = new_data.drop(numerical_cols,axis=1)\n",
    "    X_final = X.join(numeric_X)\n",
    "    obj_cols = X_final.select_dtypes(include=[object]).columns\n",
    "    temp_X = X_final\n",
    "    for obj_col in obj_cols:\n",
    "        temp_X = get_obj_column(obj_col,temp_X,fastText_model)\n",
    "    final_data = get_given_features_from_data(final_features,temp_X)\n",
    "    return flairs_mapping[classifier.predict(final_data)[0]]\n",
    "    \n",
    "def predict_flair_from_url(url_link):\n",
    "    code = \"\"\n",
    "    try:\n",
    "        url_link_formatted = re.sub(r'https://www.reddit.com/','',url_link)\n",
    "        url_tokens = url_link_formatted.split(\"/\")\n",
    "        if url_tokens[0]!=\"r\" or url_tokens[1]!=\"india\":\n",
    "            return \"Error: Incorrect Link\"\n",
    "        for i in range(len(url_tokens)):\n",
    "            if(url_tokens[i]=='comments'):\n",
    "                code = url_tokens[i+1]\n",
    "    except:\n",
    "        return \"Error Occurred!\"\n",
    "    if(code!=\"\"):\n",
    "        return get_flair(code)\n",
    "    else:\n",
    "        return \"post code not found\"\n",
    "    "
   ]
  },
  {
   "cell_type": "code",
   "execution_count": 5,
   "metadata": {},
   "outputs": [
    {
     "data": {
      "text/plain": [
       "'Non-Political'"
      ]
     },
     "execution_count": 5,
     "metadata": {},
     "output_type": "execute_result"
    }
   ],
   "source": [
    "predict_flair_from_url(\"https://www.reddit.com/r/india/comments/daq2vy/weekly_mental_health_support_thread_september_29/\")"
   ]
  },
  {
   "cell_type": "code",
   "execution_count": null,
   "metadata": {},
   "outputs": [],
   "source": []
  }
 ],
 "metadata": {
  "kernelspec": {
   "display_name": "Python 3",
   "language": "python",
   "name": "python3"
  },
  "language_info": {
   "codemirror_mode": {
    "name": "ipython",
    "version": 3
   },
   "file_extension": ".py",
   "mimetype": "text/x-python",
   "name": "python",
   "nbconvert_exporter": "python",
   "pygments_lexer": "ipython3",
   "version": "3.5.2"
  }
 },
 "nbformat": 4,
 "nbformat_minor": 2
}
