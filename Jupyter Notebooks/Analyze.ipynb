{
 "cells": [
  {
   "cell_type": "code",
   "execution_count": 1,
   "metadata": {},
   "outputs": [],
   "source": [
    "import numpy as np\n",
    "import pandas as pd\n",
    "import os\n",
    "\n",
    "dir_path = os.getcwd()\n",
    "data = np.load(dir_path + \"/final_data.npy\")\n",
    "all_data = pd.DataFrame.from_records(data)\n",
    "flairs_comments = {\"0\":0,\"1\":0,\"2\":0,\"3\":0,\"4\":0,\"5\":0,\"6\":0,\"7\":0,\"8\":0,\"9\":0,\"10\":0}\n",
    "flairs_mapping = {1:'AskIndia',2:'Business/Finance',3:'Food',4:'Non-Political',5:'Photography',6:'Policy/Economy',7:'Politics',8:'Scheduled',9:'Science/Technology',10:'Sports',0:'Others'}\n",
    "flairs_ups = {\"0\":0,\"1\":0,\"2\":0,\"3\":0,\"4\":0,\"5\":0,\"6\":0,\"7\":0,\"8\":0,\"9\":0,\"10\":0}\n",
    "\n",
    "def get_upvotes_vs_flairs():\n",
    "    for i in range(len(all_data.ups)):\n",
    "        flairs_ups[str(all_data.link_flair_text.iloc[i])]+=all_data.ups.iloc[i]\n",
    "    upvotes_vs_flairs = {}\n",
    "    for key in flairs_ups.keys():\n",
    "        upvotes_vs_flairs[flairs_mapping[int(key)]] = flairs_ups[key]\n",
    "    return upvotes_vs_flairs\n",
    "\n",
    "def get_comments_vs_flairs():\n",
    "    for i in range(len(all_data.num_comments)):\n",
    "        flairs_comments[str(all_data.link_flair_text.iloc[i])]+=all_data.num_comments.iloc[i]\n",
    "    comment_vs_flairs = {}\n",
    "    for key in flairs_comments.keys():\n",
    "        comment_vs_flairs[flairs_mapping[int(key)]] = flairs_comments[key]\n",
    "    return comment_vs_flairs"
   ]
  },
  {
   "cell_type": "code",
   "execution_count": 2,
   "metadata": {},
   "outputs": [
    {
     "data": {
      "text/plain": [
       "{'Others': 37513,\n",
       " 'AskIndia': 2539,\n",
       " 'Business/Finance': 3515,\n",
       " 'Food': 3228,\n",
       " 'Non-Political': 78346,\n",
       " 'Photography': 4429,\n",
       " 'Policy/Economy': 3056,\n",
       " 'Politics': 40181,\n",
       " 'Scheduled': 0,\n",
       " 'Science/Technology': 3472,\n",
       " 'Sports': 4502}"
      ]
     },
     "execution_count": 2,
     "metadata": {},
     "output_type": "execute_result"
    }
   ],
   "source": [
    "get_comments_vs_flairs()"
   ]
  },
  {
   "cell_type": "code",
   "execution_count": 3,
   "metadata": {},
   "outputs": [
    {
     "data": {
      "text/plain": [
       "{'Others': 277365,\n",
       " 'AskIndia': 13166,\n",
       " 'Business/Finance': 39000,\n",
       " 'Food': 34231,\n",
       " 'Non-Political': 1025318,\n",
       " 'Photography': 83944,\n",
       " 'Policy/Economy': 29815,\n",
       " 'Politics': 354146,\n",
       " 'Scheduled': 0,\n",
       " 'Science/Technology': 44028,\n",
       " 'Sports': 81371}"
      ]
     },
     "execution_count": 3,
     "metadata": {},
     "output_type": "execute_result"
    }
   ],
   "source": [
    "get_upvotes_vs_flairs()"
   ]
  },
  {
   "cell_type": "code",
   "execution_count": 4,
   "metadata": {},
   "outputs": [],
   "source": [
    "upvotes_vs_flairs = get_upvotes_vs_flairs()"
   ]
  },
  {
   "cell_type": "code",
   "execution_count": 8,
   "metadata": {},
   "outputs": [
    {
     "data": {
      "text/plain": [
       "'[\"Others\", \"AskIndia\", \"Business/Finance\", \"Food\", \"Non-Political\", \"Photography\", \"Policy/Economy\", \"Politics\", \"Scheduled\", \"Science/Technology\", \"Sports\"]'"
      ]
     },
     "execution_count": 8,
     "metadata": {},
     "output_type": "execute_result"
    }
   ],
   "source": [
    "import json\n",
    "json.dumps(list(upvotes_vs_flairs.keys()))"
   ]
  },
  {
   "cell_type": "code",
   "execution_count": null,
   "metadata": {},
   "outputs": [],
   "source": []
  }
 ],
 "metadata": {
  "kernelspec": {
   "display_name": "Python 3",
   "language": "python",
   "name": "python3"
  },
  "language_info": {
   "codemirror_mode": {
    "name": "ipython",
    "version": 3
   },
   "file_extension": ".py",
   "mimetype": "text/x-python",
   "name": "python",
   "nbconvert_exporter": "python",
   "pygments_lexer": "ipython3",
   "version": "3.5.2"
  }
 },
 "nbformat": 4,
 "nbformat_minor": 2
}
