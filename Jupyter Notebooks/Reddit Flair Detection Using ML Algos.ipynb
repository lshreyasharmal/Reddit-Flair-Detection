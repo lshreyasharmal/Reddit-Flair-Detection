{
 "cells": [
  {
   "cell_type": "code",
   "execution_count": 1,
   "metadata": {},
   "outputs": [
    {
     "name": "stderr",
     "output_type": "stream",
     "text": [
      "[nltk_data] Downloading collection 'all'\n",
      "[nltk_data]    | \n",
      "[nltk_data]    | Downloading package abc to\n",
      "[nltk_data]    |     /Users/shreyasharma/nltk_data...\n",
      "[nltk_data]    |   Package abc is already up-to-date!\n",
      "[nltk_data]    | Downloading package alpino to\n",
      "[nltk_data]    |     /Users/shreyasharma/nltk_data...\n",
      "[nltk_data]    |   Package alpino is already up-to-date!\n",
      "[nltk_data]    | Downloading package biocreative_ppi to\n",
      "[nltk_data]    |     /Users/shreyasharma/nltk_data...\n",
      "[nltk_data]    |   Package biocreative_ppi is already up-to-date!\n",
      "[nltk_data]    | Downloading package brown to\n",
      "[nltk_data]    |     /Users/shreyasharma/nltk_data...\n",
      "[nltk_data]    |   Package brown is already up-to-date!\n",
      "[nltk_data]    | Downloading package brown_tei to\n",
      "[nltk_data]    |     /Users/shreyasharma/nltk_data...\n",
      "[nltk_data]    |   Package brown_tei is already up-to-date!\n",
      "[nltk_data]    | Downloading package cess_cat to\n",
      "[nltk_data]    |     /Users/shreyasharma/nltk_data...\n",
      "[nltk_data]    |   Package cess_cat is already up-to-date!\n",
      "[nltk_data]    | Downloading package cess_esp to\n",
      "[nltk_data]    |     /Users/shreyasharma/nltk_data...\n",
      "[nltk_data]    |   Package cess_esp is already up-to-date!\n",
      "[nltk_data]    | Downloading package chat80 to\n",
      "[nltk_data]    |     /Users/shreyasharma/nltk_data...\n",
      "[nltk_data]    |   Package chat80 is already up-to-date!\n",
      "[nltk_data]    | Downloading package city_database to\n",
      "[nltk_data]    |     /Users/shreyasharma/nltk_data...\n",
      "[nltk_data]    |   Package city_database is already up-to-date!\n",
      "[nltk_data]    | Downloading package cmudict to\n",
      "[nltk_data]    |     /Users/shreyasharma/nltk_data...\n",
      "[nltk_data]    |   Package cmudict is already up-to-date!\n",
      "[nltk_data]    | Downloading package comparative_sentences to\n",
      "[nltk_data]    |     /Users/shreyasharma/nltk_data...\n",
      "[nltk_data]    |   Package comparative_sentences is already up-to-\n",
      "[nltk_data]    |       date!\n",
      "[nltk_data]    | Downloading package comtrans to\n",
      "[nltk_data]    |     /Users/shreyasharma/nltk_data...\n",
      "[nltk_data]    |   Package comtrans is already up-to-date!\n",
      "[nltk_data]    | Downloading package conll2000 to\n",
      "[nltk_data]    |     /Users/shreyasharma/nltk_data...\n",
      "[nltk_data]    |   Package conll2000 is already up-to-date!\n",
      "[nltk_data]    | Downloading package conll2002 to\n",
      "[nltk_data]    |     /Users/shreyasharma/nltk_data...\n",
      "[nltk_data]    |   Package conll2002 is already up-to-date!\n",
      "[nltk_data]    | Downloading package conll2007 to\n",
      "[nltk_data]    |     /Users/shreyasharma/nltk_data...\n",
      "[nltk_data]    |   Package conll2007 is already up-to-date!\n",
      "[nltk_data]    | Downloading package crubadan to\n",
      "[nltk_data]    |     /Users/shreyasharma/nltk_data...\n",
      "[nltk_data]    |   Package crubadan is already up-to-date!\n",
      "[nltk_data]    | Downloading package dependency_treebank to\n",
      "[nltk_data]    |     /Users/shreyasharma/nltk_data...\n",
      "[nltk_data]    |   Package dependency_treebank is already up-to-date!\n",
      "[nltk_data]    | Downloading package dolch to\n",
      "[nltk_data]    |     /Users/shreyasharma/nltk_data...\n",
      "[nltk_data]    |   Package dolch is already up-to-date!\n",
      "[nltk_data]    | Downloading package europarl_raw to\n",
      "[nltk_data]    |     /Users/shreyasharma/nltk_data...\n",
      "[nltk_data]    |   Package europarl_raw is already up-to-date!\n",
      "[nltk_data]    | Downloading package floresta to\n",
      "[nltk_data]    |     /Users/shreyasharma/nltk_data...\n",
      "[nltk_data]    |   Package floresta is already up-to-date!\n",
      "[nltk_data]    | Downloading package framenet_v15 to\n",
      "[nltk_data]    |     /Users/shreyasharma/nltk_data...\n",
      "[nltk_data]    |   Package framenet_v15 is already up-to-date!\n",
      "[nltk_data]    | Downloading package framenet_v17 to\n",
      "[nltk_data]    |     /Users/shreyasharma/nltk_data...\n",
      "[nltk_data]    |   Package framenet_v17 is already up-to-date!\n",
      "[nltk_data]    | Downloading package gazetteers to\n",
      "[nltk_data]    |     /Users/shreyasharma/nltk_data...\n",
      "[nltk_data]    |   Package gazetteers is already up-to-date!\n",
      "[nltk_data]    | Downloading package genesis to\n",
      "[nltk_data]    |     /Users/shreyasharma/nltk_data...\n",
      "[nltk_data]    |   Package genesis is already up-to-date!\n",
      "[nltk_data]    | Downloading package gutenberg to\n",
      "[nltk_data]    |     /Users/shreyasharma/nltk_data...\n",
      "[nltk_data]    |   Package gutenberg is already up-to-date!\n",
      "[nltk_data]    | Downloading package ieer to\n",
      "[nltk_data]    |     /Users/shreyasharma/nltk_data...\n",
      "[nltk_data]    |   Package ieer is already up-to-date!\n",
      "[nltk_data]    | Downloading package inaugural to\n",
      "[nltk_data]    |     /Users/shreyasharma/nltk_data...\n",
      "[nltk_data]    |   Package inaugural is already up-to-date!\n",
      "[nltk_data]    | Downloading package indian to\n",
      "[nltk_data]    |     /Users/shreyasharma/nltk_data...\n",
      "[nltk_data]    |   Package indian is already up-to-date!\n",
      "[nltk_data]    | Downloading package jeita to\n",
      "[nltk_data]    |     /Users/shreyasharma/nltk_data...\n",
      "[nltk_data]    |   Package jeita is already up-to-date!\n",
      "[nltk_data]    | Downloading package kimmo to\n",
      "[nltk_data]    |     /Users/shreyasharma/nltk_data...\n",
      "[nltk_data]    |   Package kimmo is already up-to-date!\n",
      "[nltk_data]    | Downloading package knbc to\n",
      "[nltk_data]    |     /Users/shreyasharma/nltk_data...\n",
      "[nltk_data]    |   Package knbc is already up-to-date!\n",
      "[nltk_data]    | Downloading package lin_thesaurus to\n",
      "[nltk_data]    |     /Users/shreyasharma/nltk_data...\n",
      "[nltk_data]    |   Package lin_thesaurus is already up-to-date!\n",
      "[nltk_data]    | Downloading package mac_morpho to\n",
      "[nltk_data]    |     /Users/shreyasharma/nltk_data...\n",
      "[nltk_data]    |   Package mac_morpho is already up-to-date!\n",
      "[nltk_data]    | Downloading package machado to\n",
      "[nltk_data]    |     /Users/shreyasharma/nltk_data...\n",
      "[nltk_data]    |   Package machado is already up-to-date!\n",
      "[nltk_data]    | Downloading package masc_tagged to\n",
      "[nltk_data]    |     /Users/shreyasharma/nltk_data...\n",
      "[nltk_data]    |   Package masc_tagged is already up-to-date!\n",
      "[nltk_data]    | Downloading package moses_sample to\n",
      "[nltk_data]    |     /Users/shreyasharma/nltk_data...\n",
      "[nltk_data]    |   Package moses_sample is already up-to-date!\n",
      "[nltk_data]    | Downloading package movie_reviews to\n",
      "[nltk_data]    |     /Users/shreyasharma/nltk_data...\n",
      "[nltk_data]    |   Package movie_reviews is already up-to-date!\n",
      "[nltk_data]    | Downloading package names to\n",
      "[nltk_data]    |     /Users/shreyasharma/nltk_data...\n",
      "[nltk_data]    |   Package names is already up-to-date!\n",
      "[nltk_data]    | Downloading package nombank.1.0 to\n",
      "[nltk_data]    |     /Users/shreyasharma/nltk_data...\n",
      "[nltk_data]    |   Package nombank.1.0 is already up-to-date!\n",
      "[nltk_data]    | Downloading package nps_chat to\n",
      "[nltk_data]    |     /Users/shreyasharma/nltk_data...\n",
      "[nltk_data]    |   Package nps_chat is already up-to-date!\n",
      "[nltk_data]    | Downloading package omw to\n",
      "[nltk_data]    |     /Users/shreyasharma/nltk_data...\n",
      "[nltk_data]    |   Package omw is already up-to-date!\n",
      "[nltk_data]    | Downloading package opinion_lexicon to\n",
      "[nltk_data]    |     /Users/shreyasharma/nltk_data...\n",
      "[nltk_data]    |   Package opinion_lexicon is already up-to-date!\n",
      "[nltk_data]    | Downloading package paradigms to\n",
      "[nltk_data]    |     /Users/shreyasharma/nltk_data...\n",
      "[nltk_data]    |   Package paradigms is already up-to-date!\n",
      "[nltk_data]    | Downloading package pil to\n",
      "[nltk_data]    |     /Users/shreyasharma/nltk_data...\n",
      "[nltk_data]    |   Package pil is already up-to-date!\n",
      "[nltk_data]    | Downloading package pl196x to\n",
      "[nltk_data]    |     /Users/shreyasharma/nltk_data...\n",
      "[nltk_data]    |   Package pl196x is already up-to-date!\n",
      "[nltk_data]    | Downloading package ppattach to\n",
      "[nltk_data]    |     /Users/shreyasharma/nltk_data...\n",
      "[nltk_data]    |   Package ppattach is already up-to-date!\n",
      "[nltk_data]    | Downloading package problem_reports to\n",
      "[nltk_data]    |     /Users/shreyasharma/nltk_data...\n",
      "[nltk_data]    |   Package problem_reports is already up-to-date!\n",
      "[nltk_data]    | Downloading package propbank to\n",
      "[nltk_data]    |     /Users/shreyasharma/nltk_data...\n",
      "[nltk_data]    |   Package propbank is already up-to-date!\n",
      "[nltk_data]    | Downloading package ptb to\n",
      "[nltk_data]    |     /Users/shreyasharma/nltk_data...\n",
      "[nltk_data]    |   Package ptb is already up-to-date!\n",
      "[nltk_data]    | Downloading package product_reviews_1 to\n",
      "[nltk_data]    |     /Users/shreyasharma/nltk_data...\n",
      "[nltk_data]    |   Package product_reviews_1 is already up-to-date!\n",
      "[nltk_data]    | Downloading package product_reviews_2 to\n",
      "[nltk_data]    |     /Users/shreyasharma/nltk_data...\n",
      "[nltk_data]    |   Package product_reviews_2 is already up-to-date!\n",
      "[nltk_data]    | Downloading package pros_cons to\n",
      "[nltk_data]    |     /Users/shreyasharma/nltk_data...\n",
      "[nltk_data]    |   Package pros_cons is already up-to-date!\n",
      "[nltk_data]    | Downloading package qc to\n",
      "[nltk_data]    |     /Users/shreyasharma/nltk_data...\n",
      "[nltk_data]    |   Package qc is already up-to-date!\n",
      "[nltk_data]    | Downloading package reuters to\n",
      "[nltk_data]    |     /Users/shreyasharma/nltk_data...\n",
      "[nltk_data]    |   Package reuters is already up-to-date!\n",
      "[nltk_data]    | Downloading package rte to\n",
      "[nltk_data]    |     /Users/shreyasharma/nltk_data...\n",
      "[nltk_data]    |   Package rte is already up-to-date!\n",
      "[nltk_data]    | Downloading package semcor to\n",
      "[nltk_data]    |     /Users/shreyasharma/nltk_data...\n",
      "[nltk_data]    |   Package semcor is already up-to-date!\n",
      "[nltk_data]    | Downloading package senseval to\n",
      "[nltk_data]    |     /Users/shreyasharma/nltk_data...\n",
      "[nltk_data]    |   Package senseval is already up-to-date!\n",
      "[nltk_data]    | Downloading package sentiwordnet to\n",
      "[nltk_data]    |     /Users/shreyasharma/nltk_data...\n",
      "[nltk_data]    |   Package sentiwordnet is already up-to-date!\n",
      "[nltk_data]    | Downloading package sentence_polarity to\n",
      "[nltk_data]    |     /Users/shreyasharma/nltk_data...\n",
      "[nltk_data]    |   Package sentence_polarity is already up-to-date!\n",
      "[nltk_data]    | Downloading package shakespeare to\n",
      "[nltk_data]    |     /Users/shreyasharma/nltk_data...\n",
      "[nltk_data]    |   Package shakespeare is already up-to-date!\n",
      "[nltk_data]    | Downloading package sinica_treebank to\n",
      "[nltk_data]    |     /Users/shreyasharma/nltk_data...\n",
      "[nltk_data]    |   Package sinica_treebank is already up-to-date!\n",
      "[nltk_data]    | Downloading package smultron to\n",
      "[nltk_data]    |     /Users/shreyasharma/nltk_data...\n",
      "[nltk_data]    |   Package smultron is already up-to-date!\n",
      "[nltk_data]    | Downloading package state_union to\n",
      "[nltk_data]    |     /Users/shreyasharma/nltk_data...\n",
      "[nltk_data]    |   Package state_union is already up-to-date!\n",
      "[nltk_data]    | Downloading package stopwords to\n",
      "[nltk_data]    |     /Users/shreyasharma/nltk_data...\n",
      "[nltk_data]    |   Package stopwords is already up-to-date!\n",
      "[nltk_data]    | Downloading package subjectivity to\n",
      "[nltk_data]    |     /Users/shreyasharma/nltk_data...\n",
      "[nltk_data]    |   Package subjectivity is already up-to-date!\n",
      "[nltk_data]    | Downloading package swadesh to\n",
      "[nltk_data]    |     /Users/shreyasharma/nltk_data...\n",
      "[nltk_data]    |   Package swadesh is already up-to-date!\n",
      "[nltk_data]    | Downloading package switchboard to\n",
      "[nltk_data]    |     /Users/shreyasharma/nltk_data...\n",
      "[nltk_data]    |   Package switchboard is already up-to-date!\n",
      "[nltk_data]    | Downloading package timit to\n",
      "[nltk_data]    |     /Users/shreyasharma/nltk_data...\n"
     ]
    },
    {
     "name": "stderr",
     "output_type": "stream",
     "text": [
      "[nltk_data]    |   Package timit is already up-to-date!\n",
      "[nltk_data]    | Downloading package toolbox to\n",
      "[nltk_data]    |     /Users/shreyasharma/nltk_data...\n",
      "[nltk_data]    |   Package toolbox is already up-to-date!\n",
      "[nltk_data]    | Downloading package treebank to\n",
      "[nltk_data]    |     /Users/shreyasharma/nltk_data...\n",
      "[nltk_data]    |   Package treebank is already up-to-date!\n",
      "[nltk_data]    | Downloading package twitter_samples to\n",
      "[nltk_data]    |     /Users/shreyasharma/nltk_data...\n",
      "[nltk_data]    |   Package twitter_samples is already up-to-date!\n",
      "[nltk_data]    | Downloading package udhr to\n",
      "[nltk_data]    |     /Users/shreyasharma/nltk_data...\n",
      "[nltk_data]    |   Package udhr is already up-to-date!\n",
      "[nltk_data]    | Downloading package udhr2 to\n",
      "[nltk_data]    |     /Users/shreyasharma/nltk_data...\n",
      "[nltk_data]    |   Package udhr2 is already up-to-date!\n",
      "[nltk_data]    | Downloading package unicode_samples to\n",
      "[nltk_data]    |     /Users/shreyasharma/nltk_data...\n",
      "[nltk_data]    |   Package unicode_samples is already up-to-date!\n",
      "[nltk_data]    | Downloading package universal_treebanks_v20 to\n",
      "[nltk_data]    |     /Users/shreyasharma/nltk_data...\n",
      "[nltk_data]    |   Package universal_treebanks_v20 is already up-to-\n",
      "[nltk_data]    |       date!\n",
      "[nltk_data]    | Downloading package verbnet to\n",
      "[nltk_data]    |     /Users/shreyasharma/nltk_data...\n",
      "[nltk_data]    |   Package verbnet is already up-to-date!\n",
      "[nltk_data]    | Downloading package verbnet3 to\n",
      "[nltk_data]    |     /Users/shreyasharma/nltk_data...\n",
      "[nltk_data]    |   Package verbnet3 is already up-to-date!\n",
      "[nltk_data]    | Downloading package webtext to\n",
      "[nltk_data]    |     /Users/shreyasharma/nltk_data...\n",
      "[nltk_data]    |   Package webtext is already up-to-date!\n",
      "[nltk_data]    | Downloading package wordnet to\n",
      "[nltk_data]    |     /Users/shreyasharma/nltk_data...\n",
      "[nltk_data]    |   Package wordnet is already up-to-date!\n",
      "[nltk_data]    | Downloading package wordnet_ic to\n",
      "[nltk_data]    |     /Users/shreyasharma/nltk_data...\n",
      "[nltk_data]    |   Package wordnet_ic is already up-to-date!\n",
      "[nltk_data]    | Downloading package words to\n",
      "[nltk_data]    |     /Users/shreyasharma/nltk_data...\n",
      "[nltk_data]    |   Package words is already up-to-date!\n",
      "[nltk_data]    | Downloading package ycoe to\n",
      "[nltk_data]    |     /Users/shreyasharma/nltk_data...\n",
      "[nltk_data]    |   Package ycoe is already up-to-date!\n",
      "[nltk_data]    | Downloading package rslp to\n",
      "[nltk_data]    |     /Users/shreyasharma/nltk_data...\n",
      "[nltk_data]    |   Package rslp is already up-to-date!\n",
      "[nltk_data]    | Downloading package maxent_treebank_pos_tagger to\n",
      "[nltk_data]    |     /Users/shreyasharma/nltk_data...\n",
      "[nltk_data]    |   Package maxent_treebank_pos_tagger is already up-\n",
      "[nltk_data]    |       to-date!\n",
      "[nltk_data]    | Downloading package universal_tagset to\n",
      "[nltk_data]    |     /Users/shreyasharma/nltk_data...\n",
      "[nltk_data]    |   Package universal_tagset is already up-to-date!\n",
      "[nltk_data]    | Downloading package maxent_ne_chunker to\n",
      "[nltk_data]    |     /Users/shreyasharma/nltk_data...\n",
      "[nltk_data]    |   Package maxent_ne_chunker is already up-to-date!\n",
      "[nltk_data]    | Downloading package punkt to\n",
      "[nltk_data]    |     /Users/shreyasharma/nltk_data...\n",
      "[nltk_data]    |   Package punkt is already up-to-date!\n",
      "[nltk_data]    | Downloading package book_grammars to\n",
      "[nltk_data]    |     /Users/shreyasharma/nltk_data...\n",
      "[nltk_data]    |   Package book_grammars is already up-to-date!\n",
      "[nltk_data]    | Downloading package sample_grammars to\n",
      "[nltk_data]    |     /Users/shreyasharma/nltk_data...\n",
      "[nltk_data]    |   Package sample_grammars is already up-to-date!\n",
      "[nltk_data]    | Downloading package spanish_grammars to\n",
      "[nltk_data]    |     /Users/shreyasharma/nltk_data...\n",
      "[nltk_data]    |   Package spanish_grammars is already up-to-date!\n",
      "[nltk_data]    | Downloading package basque_grammars to\n",
      "[nltk_data]    |     /Users/shreyasharma/nltk_data...\n",
      "[nltk_data]    |   Package basque_grammars is already up-to-date!\n",
      "[nltk_data]    | Downloading package large_grammars to\n",
      "[nltk_data]    |     /Users/shreyasharma/nltk_data...\n",
      "[nltk_data]    |   Package large_grammars is already up-to-date!\n",
      "[nltk_data]    | Downloading package tagsets to\n",
      "[nltk_data]    |     /Users/shreyasharma/nltk_data...\n",
      "[nltk_data]    |   Package tagsets is already up-to-date!\n",
      "[nltk_data]    | Downloading package snowball_data to\n",
      "[nltk_data]    |     /Users/shreyasharma/nltk_data...\n",
      "[nltk_data]    |   Package snowball_data is already up-to-date!\n",
      "[nltk_data]    | Downloading package bllip_wsj_no_aux to\n",
      "[nltk_data]    |     /Users/shreyasharma/nltk_data...\n",
      "[nltk_data]    |   Package bllip_wsj_no_aux is already up-to-date!\n",
      "[nltk_data]    | Downloading package word2vec_sample to\n",
      "[nltk_data]    |     /Users/shreyasharma/nltk_data...\n",
      "[nltk_data]    |   Package word2vec_sample is already up-to-date!\n",
      "[nltk_data]    | Downloading package panlex_swadesh to\n",
      "[nltk_data]    |     /Users/shreyasharma/nltk_data...\n",
      "[nltk_data]    |   Package panlex_swadesh is already up-to-date!\n",
      "[nltk_data]    | Downloading package mte_teip5 to\n",
      "[nltk_data]    |     /Users/shreyasharma/nltk_data...\n",
      "[nltk_data]    |   Package mte_teip5 is already up-to-date!\n",
      "[nltk_data]    | Downloading package averaged_perceptron_tagger to\n",
      "[nltk_data]    |     /Users/shreyasharma/nltk_data...\n",
      "[nltk_data]    |   Package averaged_perceptron_tagger is already up-\n",
      "[nltk_data]    |       to-date!\n",
      "[nltk_data]    | Downloading package averaged_perceptron_tagger_ru to\n",
      "[nltk_data]    |     /Users/shreyasharma/nltk_data...\n",
      "[nltk_data]    |   Package averaged_perceptron_tagger_ru is already\n",
      "[nltk_data]    |       up-to-date!\n",
      "[nltk_data]    | Downloading package perluniprops to\n",
      "[nltk_data]    |     /Users/shreyasharma/nltk_data...\n",
      "[nltk_data]    |   Package perluniprops is already up-to-date!\n",
      "[nltk_data]    | Downloading package nonbreaking_prefixes to\n",
      "[nltk_data]    |     /Users/shreyasharma/nltk_data...\n",
      "[nltk_data]    |   Package nonbreaking_prefixes is already up-to-date!\n",
      "[nltk_data]    | Downloading package vader_lexicon to\n",
      "[nltk_data]    |     /Users/shreyasharma/nltk_data...\n",
      "[nltk_data]    |   Package vader_lexicon is already up-to-date!\n",
      "[nltk_data]    | Downloading package porter_test to\n",
      "[nltk_data]    |     /Users/shreyasharma/nltk_data...\n",
      "[nltk_data]    |   Package porter_test is already up-to-date!\n",
      "[nltk_data]    | Downloading package wmt15_eval to\n",
      "[nltk_data]    |     /Users/shreyasharma/nltk_data...\n",
      "[nltk_data]    |   Package wmt15_eval is already up-to-date!\n",
      "[nltk_data]    | Downloading package mwa_ppdb to\n",
      "[nltk_data]    |     /Users/shreyasharma/nltk_data...\n",
      "[nltk_data]    |   Package mwa_ppdb is already up-to-date!\n",
      "[nltk_data]    | \n",
      "[nltk_data]  Done downloading collection all\n"
     ]
    }
   ],
   "source": [
    "import os\n",
    "import praw\n",
    "import pandas as pd\n",
    "import datetime as dt\n",
    "import logging\n",
    "import numpy as np\n",
    "from numpy import random\n",
    "import gensim\n",
    "import nltk\n",
    "nltk.download('all')\n",
    "from sklearn.model_selection import train_test_split\n",
    "from sklearn.feature_extraction.text import CountVectorizer, TfidfVectorizer\n",
    "from sklearn.metrics import accuracy_score, confusion_matrix\n",
    "import matplotlib.pyplot as plt\n",
    "from nltk.corpus import stopwords\n",
    "import re\n",
    "from bs4 import BeautifulSoup\n",
    "from sklearn.pipeline import Pipeline\n",
    "from sklearn.feature_extraction.text import TfidfTransformer\n",
    "from sklearn.metrics import classification_report\n",
    "from sklearn.decomposition import TruncatedSVD\n",
    "import tensorflow as tf\n",
    "from tensorflow import keras\n",
    "from tensorflow.keras.layers import LSTM, Dropout, Masking, Embedding, Conv1D, Activation, Dense, SpatialDropout1D, GlobalMaxPooling1D\n",
    "from tensorflow.keras import Sequential\n",
    "from tensorflow.keras.callbacks import ModelCheckpoint, EarlyStopping\n",
    "import matplotlib.pyplot as plt\n",
    "from tensorflow.keras.optimizers import SGD\n",
    "from sklearn.decomposition import TruncatedSVD"
   ]
  },
  {
   "cell_type": "code",
   "execution_count": 2,
   "metadata": {},
   "outputs": [],
   "source": [
    "\n",
    "REPLACE_BY_SPACE_RE = re.compile('[/(){}\\[\\]\\|@,;]')\n",
    "BAD_SYMBOLS_RE = re.compile('[^0-9a-z #+_]')\n",
    "STOPWORDS = set(stopwords.words('english'))\n",
    "\n",
    "def string_form(value):\n",
    "    return str(value)\n",
    "\n",
    "def clean_text(text):\n",
    "   \n",
    "    text = BeautifulSoup(text, \"lxml\").text\n",
    "    text = text.lower()\n",
    "    text = REPLACE_BY_SPACE_RE.sub(' ', text)\n",
    "    text = BAD_SYMBOLS_RE.sub('', text)\n",
    "    text = ' '.join(word for word in text.split() if word not in STOPWORDS)\n",
    "    return text\n",
    "\n",
    "def generate_accuracy_plot(hist):\n",
    "    plt.plot(hist.history['accuracy'])\n",
    "    plt.plot(hist.history['val_accuracy'])\n",
    "    plt.title('model accuracy')\n",
    "    plt.ylabel('accuracy')\n",
    "    plt.xlabel('epoch')\n",
    "    plt.legend(['train', 'test'], loc='upper left')\n",
    "    plt.show()\n",
    "\n",
    "def generate_loss_plot(hist):\n",
    "    plt.plot(hist.history['loss'])\n",
    "    plt.plot(hist.history['val_loss'])\n",
    "    plt.title('model loss')\n",
    "    plt.ylabel('loss')\n",
    "    plt.xlabel('epoch')\n",
    "    plt.legend(['train', 'test'], loc='upper left')\n",
    "    plt.show()"
   ]
  },
  {
   "cell_type": "code",
   "execution_count": 3,
   "metadata": {},
   "outputs": [],
   "source": [
    "reddit = praw.Reddit(client_id='z8UhRRiFnEVZ8Q', client_secret='bV7OxwG-VKjdyKxcuUihnV1lNPg', user_agent='candle', username='lshreyasharmal', password='ShreyaSharma12@')\n",
    "\n",
    "\n",
    "flairs_map = {\"AskIndia\":0, \"Non-Political\":1, \"[R]eddiquette\":2, \"Scheduled\":3, \"Photography\":4, \"Science/Technology\":5, \"Politics\":6, \"Business/Finance\":7, \"Policy/Economy\":8, \"Sports\":9, \"Food\":10, \"AMA\":11}\n",
    "flairs = flairs_map.keys()\n",
    "\n",
    "subreddit = reddit.subreddit('india')\n",
    "topics_dict = {\"flair\":[], \"title\":[],\"id\":[], \"body\":[], \"comments\":[]}\n",
    "\n",
    "for flair in flairs:\n",
    "    \n",
    "    get_subreddits = subreddit.search(flair, limit=1)\n",
    "    \n",
    "    for submission in get_subreddits:\n",
    "\n",
    "        topics_dict[\"flair\"].append(flair)\n",
    "        topics_dict[\"title\"].append(submission.title)\n",
    "        topics_dict[\"id\"].append(submission.id)\n",
    "        topics_dict[\"body\"].append(submission.selftext)\n",
    "\n",
    "        submission.comments.replace_more(limit=None)\n",
    "        comment = ''\n",
    "        for top_level_comment in submission.comments:\n",
    "            comment = comment + ' ' + top_level_comment.body\n",
    "        topics_dict[\"comments\"].append(comment)"
   ]
  },
  {
   "cell_type": "code",
   "execution_count": 4,
   "metadata": {},
   "outputs": [],
   "source": [
    "df = pd.Series(topics_dict['flair'], name='flair')\n",
    "for k in topics_dict.keys():\n",
    "    if k!=\"flair\":\n",
    "        df2 = pd.Series(topics_dict[k], name = k)\n",
    "        df = pd.concat([df,df2], axis=1)\n",
    "        \n",
    "topics_data = pd.DataFrame(df)\n",
    "topics_data.to_csv('reddit-india-dat2.csv', index=False)         "
   ]
  },
  {
   "cell_type": "code",
   "execution_count": 5,
   "metadata": {},
   "outputs": [
    {
     "data": {
      "text/html": [
       "<div>\n",
       "<style scoped>\n",
       "    .dataframe tbody tr th:only-of-type {\n",
       "        vertical-align: middle;\n",
       "    }\n",
       "\n",
       "    .dataframe tbody tr th {\n",
       "        vertical-align: top;\n",
       "    }\n",
       "\n",
       "    .dataframe thead th {\n",
       "        text-align: right;\n",
       "    }\n",
       "</style>\n",
       "<table border=\"1\" class=\"dataframe\">\n",
       "  <thead>\n",
       "    <tr style=\"text-align: right;\">\n",
       "      <th></th>\n",
       "      <th>flair</th>\n",
       "      <th>title</th>\n",
       "      <th>score</th>\n",
       "      <th>id</th>\n",
       "      <th>url</th>\n",
       "      <th>comms_num</th>\n",
       "      <th>created</th>\n",
       "      <th>body</th>\n",
       "      <th>author</th>\n",
       "      <th>comments</th>\n",
       "    </tr>\n",
       "  </thead>\n",
       "  <tbody>\n",
       "    <tr>\n",
       "      <td>0</td>\n",
       "      <td>AskIndia</td>\n",
       "      <td>[askindia] My brothers bank account was hacked...</td>\n",
       "      <td>NaN</td>\n",
       "      <td>dacmel</td>\n",
       "      <td>NaN</td>\n",
       "      <td>NaN</td>\n",
       "      <td>NaN</td>\n",
       "      <td>My brother received bunch of SMS this morning ...</td>\n",
       "      <td>NaN</td>\n",
       "      <td>I ll copy paste one of my previous comments-\\...</td>\n",
       "    </tr>\n",
       "    <tr>\n",
       "      <td>1</td>\n",
       "      <td>AskIndia</td>\n",
       "      <td>Why do Indian doctors have such a large ego?</td>\n",
       "      <td>NaN</td>\n",
       "      <td>d41pq6</td>\n",
       "      <td>NaN</td>\n",
       "      <td>NaN</td>\n",
       "      <td>NaN</td>\n",
       "      <td>Some context: (We're Indian in India), My pare...</td>\n",
       "      <td>NaN</td>\n",
       "      <td>Here’s the simple answer:-\\n\\n1. Echo is to d...</td>\n",
       "    </tr>\n",
       "    <tr>\n",
       "      <td>2</td>\n",
       "      <td>AskIndia</td>\n",
       "      <td>Attractive men, what type of attention do you ...</td>\n",
       "      <td>NaN</td>\n",
       "      <td>cprtaa</td>\n",
       "      <td>NaN</td>\n",
       "      <td>NaN</td>\n",
       "      <td>NaN</td>\n",
       "      <td>xposted from /r/askmen, posted here because In...</td>\n",
       "      <td>NaN</td>\n",
       "      <td>My mom says I'm good looking. Can I answer? \\...</td>\n",
       "    </tr>\n",
       "    <tr>\n",
       "      <td>3</td>\n",
       "      <td>AskIndia</td>\n",
       "      <td>People who left their 9 to 5 jobs to pursue a ...</td>\n",
       "      <td>NaN</td>\n",
       "      <td>dtvliq</td>\n",
       "      <td>NaN</td>\n",
       "      <td>NaN</td>\n",
       "      <td>NaN</td>\n",
       "      <td>Couldn't add AskIndia flair from the mobile br...</td>\n",
       "      <td>NaN</td>\n",
       "      <td>An Engineer, doing advertisement shoots since...</td>\n",
       "    </tr>\n",
       "    <tr>\n",
       "      <td>4</td>\n",
       "      <td>AskIndia</td>\n",
       "      <td>Somebody want to kill my full family what to do?</td>\n",
       "      <td>NaN</td>\n",
       "      <td>b7pvwt</td>\n",
       "      <td>NaN</td>\n",
       "      <td>NaN</td>\n",
       "      <td>NaN</td>\n",
       "      <td>It's now 24hrs, But local police station is no...</td>\n",
       "      <td>NaN</td>\n",
       "      <td>Calm down.\\nGo to the SP office of your town,...</td>\n",
       "    </tr>\n",
       "    <tr>\n",
       "      <td>5</td>\n",
       "      <td>AskIndia</td>\n",
       "      <td>Ambassador of India takes back my newly issued...</td>\n",
       "      <td>NaN</td>\n",
       "      <td>bdfid1</td>\n",
       "      <td>NaN</td>\n",
       "      <td>NaN</td>\n",
       "      <td>NaN</td>\n",
       "      <td>Hello /AskIndia!  First time poster, long time...</td>\n",
       "      <td>NaN</td>\n",
       "      <td>Honestly, she and her supervisor behaved *exa...</td>\n",
       "    </tr>\n",
       "    <tr>\n",
       "      <td>6</td>\n",
       "      <td>AskIndia</td>\n",
       "      <td>Randians, what are you too afraid to ask?</td>\n",
       "      <td>NaN</td>\n",
       "      <td>cu1xn4</td>\n",
       "      <td>NaN</td>\n",
       "      <td>NaN</td>\n",
       "      <td>NaN</td>\n",
       "      <td>r/TooAfraidToAsk India edition</td>\n",
       "      <td>NaN</td>\n",
       "      <td>How does Modi control his sex desires? Or if ...</td>\n",
       "    </tr>\n",
       "    <tr>\n",
       "      <td>7</td>\n",
       "      <td>AskIndia</td>\n",
       "      <td>Toothpaste alternative?</td>\n",
       "      <td>NaN</td>\n",
       "      <td>dfljx0</td>\n",
       "      <td>NaN</td>\n",
       "      <td>NaN</td>\n",
       "      <td>NaN</td>\n",
       "      <td>Hello India. I'm currently trying to find a to...</td>\n",
       "      <td>NaN</td>\n",
       "      <td>Chew neem stick in desi style [https://en.wik...</td>\n",
       "    </tr>\n",
       "    <tr>\n",
       "      <td>8</td>\n",
       "      <td>AskIndia</td>\n",
       "      <td>Need feedback for Insurance Policy that I took...</td>\n",
       "      <td>NaN</td>\n",
       "      <td>1s57oi</td>\n",
       "      <td>NaN</td>\n",
       "      <td>NaN</td>\n",
       "      <td>NaN</td>\n",
       "      <td>**Re-posting here because of lack of activity ...</td>\n",
       "      <td>NaN</td>\n",
       "      <td>Dear Policy Holder(Dhavalcoholic),\\n \\nWe req...</td>\n",
       "    </tr>\n",
       "    <tr>\n",
       "      <td>9</td>\n",
       "      <td>AskIndia</td>\n",
       "      <td>Private Limited Company Closure/ Consumer Cour...</td>\n",
       "      <td>NaN</td>\n",
       "      <td>dy6g8z</td>\n",
       "      <td>NaN</td>\n",
       "      <td>NaN</td>\n",
       "      <td>NaN</td>\n",
       "      <td>We registered a private limited company (with ...</td>\n",
       "      <td>NaN</td>\n",
       "      <td>NaN</td>\n",
       "    </tr>\n",
       "    <tr>\n",
       "      <td>10</td>\n",
       "      <td>AskIndia</td>\n",
       "      <td>What are the skill sets required to be an entr...</td>\n",
       "      <td>NaN</td>\n",
       "      <td>d1seg1</td>\n",
       "      <td>NaN</td>\n",
       "      <td>NaN</td>\n",
       "      <td>NaN</td>\n",
       "      <td>Because of the growing unemployment in India d...</td>\n",
       "      <td>NaN</td>\n",
       "      <td>NaN</td>\n",
       "    </tr>\n",
       "  </tbody>\n",
       "</table>\n",
       "</div>"
      ],
      "text/plain": [
       "       flair                                              title  score  \\\n",
       "0   AskIndia  [askindia] My brothers bank account was hacked...    NaN   \n",
       "1   AskIndia       Why do Indian doctors have such a large ego?    NaN   \n",
       "2   AskIndia  Attractive men, what type of attention do you ...    NaN   \n",
       "3   AskIndia  People who left their 9 to 5 jobs to pursue a ...    NaN   \n",
       "4   AskIndia   Somebody want to kill my full family what to do?    NaN   \n",
       "5   AskIndia  Ambassador of India takes back my newly issued...    NaN   \n",
       "6   AskIndia          Randians, what are you too afraid to ask?    NaN   \n",
       "7   AskIndia                            Toothpaste alternative?    NaN   \n",
       "8   AskIndia  Need feedback for Insurance Policy that I took...    NaN   \n",
       "9   AskIndia  Private Limited Company Closure/ Consumer Cour...    NaN   \n",
       "10  AskIndia  What are the skill sets required to be an entr...    NaN   \n",
       "\n",
       "        id  url  comms_num  created  \\\n",
       "0   dacmel  NaN        NaN      NaN   \n",
       "1   d41pq6  NaN        NaN      NaN   \n",
       "2   cprtaa  NaN        NaN      NaN   \n",
       "3   dtvliq  NaN        NaN      NaN   \n",
       "4   b7pvwt  NaN        NaN      NaN   \n",
       "5   bdfid1  NaN        NaN      NaN   \n",
       "6   cu1xn4  NaN        NaN      NaN   \n",
       "7   dfljx0  NaN        NaN      NaN   \n",
       "8   1s57oi  NaN        NaN      NaN   \n",
       "9   dy6g8z  NaN        NaN      NaN   \n",
       "10  d1seg1  NaN        NaN      NaN   \n",
       "\n",
       "                                                 body  author  \\\n",
       "0   My brother received bunch of SMS this morning ...     NaN   \n",
       "1   Some context: (We're Indian in India), My pare...     NaN   \n",
       "2   xposted from /r/askmen, posted here because In...     NaN   \n",
       "3   Couldn't add AskIndia flair from the mobile br...     NaN   \n",
       "4   It's now 24hrs, But local police station is no...     NaN   \n",
       "5   Hello /AskIndia!  First time poster, long time...     NaN   \n",
       "6                      r/TooAfraidToAsk India edition     NaN   \n",
       "7   Hello India. I'm currently trying to find a to...     NaN   \n",
       "8   **Re-posting here because of lack of activity ...     NaN   \n",
       "9   We registered a private limited company (with ...     NaN   \n",
       "10  Because of the growing unemployment in India d...     NaN   \n",
       "\n",
       "                                             comments  \n",
       "0    I ll copy paste one of my previous comments-\\...  \n",
       "1    Here’s the simple answer:-\\n\\n1. Echo is to d...  \n",
       "2    My mom says I'm good looking. Can I answer? \\...  \n",
       "3    An Engineer, doing advertisement shoots since...  \n",
       "4    Calm down.\\nGo to the SP office of your town,...  \n",
       "5    Honestly, she and her supervisor behaved *exa...  \n",
       "6    How does Modi control his sex desires? Or if ...  \n",
       "7    Chew neem stick in desi style [https://en.wik...  \n",
       "8    Dear Policy Holder(Dhavalcoholic),\\n \\nWe req...  \n",
       "9                                                 NaN  \n",
       "10                                                NaN  "
      ]
     },
     "execution_count": 5,
     "metadata": {},
     "output_type": "execute_result"
    }
   ],
   "source": [
    "topics_data = pd.read_csv('reddit-india-data.csv')\n",
    "topics_data.head(11)"
   ]
  },
  {
   "cell_type": "code",
   "execution_count": 6,
   "metadata": {},
   "outputs": [
    {
     "name": "stderr",
     "output_type": "stream",
     "text": [
      "/usr/local/anaconda3/lib/python3.7/site-packages/bs4/__init__.py:357: UserWarning: \"https://youtu.be/kBvIqVr__C0\" looks like a URL. Beautiful Soup is not an HTTP client. You should probably use an HTTP client like requests to get the document behind the URL, and feed that document to Beautiful Soup.\n",
      "  ' that document to Beautiful Soup.' % decoded_markup\n"
     ]
    }
   ],
   "source": [
    "topics_data['title'] = topics_data['title'].apply(string_form)\n",
    "topics_data['body'] = topics_data['body'].apply(string_form)\n",
    "topics_data['comments'] = topics_data['comments'].apply(string_form)\n",
    "\n",
    "topics_data['title'] = topics_data['title'].apply(clean_text)\n",
    "topics_data['body'] = topics_data['body'].apply(clean_text)\n",
    "topics_data['comments'] = topics_data['comments'].apply(clean_text)\n",
    "\n",
    "feature_combine = topics_data[\"title\"] + topics_data[\"comments\"] + topics_data[\"body\"]\n",
    "topics_data = topics_data.assign(feature_combine = feature_combine)"
   ]
  },
  {
   "cell_type": "code",
   "execution_count": 7,
   "metadata": {},
   "outputs": [],
   "source": [
    "def nb_classifier(X_train, X_test, y_train, y_test):\n",
    "  \n",
    "    from sklearn.naive_bayes import MultinomialNB\n",
    "\n",
    "    nb = Pipeline([('vect', CountVectorizer()),\n",
    "             ('tfidf', TfidfTransformer()),\n",
    "             ('clf', MultinomialNB()),\n",
    "            ])\n",
    "    nb.fit(X_train, y_train)\n",
    "\n",
    "    y_pred = nb.predict(X_test)\n",
    "\n",
    "    print('testing accuracy %s' % accuracy_score(y_pred, y_test))\n",
    "    print(classification_report(y_test, y_pred,target_names=flairs))\n",
    "    \n",
    "    y_pred = nb.predict(X_train)\n",
    "    \n",
    "    print('training accuracy %s' % accuracy_score(y_pred, y_train))\n",
    "    print(classification_report(y_train, y_pred,target_names=flairs))"
   ]
  },
  {
   "cell_type": "code",
   "execution_count": 8,
   "metadata": {},
   "outputs": [],
   "source": [
    "def linear_svm(X_train, X_test, y_train, y_test):\n",
    "\n",
    "    from sklearn.linear_model import SGDClassifier\n",
    "\n",
    "    sgd = Pipeline([('vect', CountVectorizer()),\n",
    "                  ('tfidf', TfidfTransformer()),\n",
    "                  ('clf', SGDClassifier(loss='hinge', penalty='l2',alpha=1e-3, random_state=42, max_iter=5, tol=None)),\n",
    "                 ])\n",
    "    sgd.fit(X_train, y_train)\n",
    "\n",
    "    y_pred = sgd.predict(X_test)\n",
    "\n",
    "    print('testing accuracy %s' % accuracy_score(y_pred, y_test))\n",
    "    print(classification_report(y_test, y_pred,target_names=flairs))\n",
    "    \n",
    "    y_pred = sgd.predict(X_train)\n",
    "    \n",
    "    print('training accuracy %s' % accuracy_score(y_pred, y_train))\n",
    "    print(classification_report(y_train, y_pred,target_names=flairs))"
   ]
  },
  {
   "cell_type": "code",
   "execution_count": 9,
   "metadata": {},
   "outputs": [],
   "source": [
    "def logisticreg(X_train, X_test, y_train, y_test):\n",
    "\n",
    "    from sklearn.linear_model import LogisticRegression\n",
    "\n",
    "    logreg = Pipeline([('vect', CountVectorizer()),\n",
    "                  ('tfidf', TfidfTransformer()),\n",
    "                  ('clf', LogisticRegression(n_jobs=1, C=1e5)),\n",
    "                 ])\n",
    "    logreg.fit(X_train, y_train)\n",
    "\n",
    "    y_pred = logreg.predict(X_test)\n",
    "\n",
    "    print('testing accuracy %s' % accuracy_score(y_pred, y_test))\n",
    "    print(classification_report(y_test, y_pred,target_names=flairs))\n",
    "    \n",
    "    y_pred = logreg.predict(X_train)\n",
    "    \n",
    "    print('training accuracy %s' % accuracy_score(y_pred, y_train))\n",
    "    print(classification_report(y_train, y_pred,target_names=flairs))"
   ]
  },
  {
   "cell_type": "code",
   "execution_count": 10,
   "metadata": {},
   "outputs": [],
   "source": [
    "def randomforest(X_train, X_test, y_train, y_test):\n",
    "  \n",
    "    from sklearn.ensemble import RandomForestClassifier\n",
    "\n",
    "    ranfor = Pipeline([('vect', CountVectorizer()),\n",
    "                  ('tfidf', TfidfTransformer()),\n",
    "                  ('clf', RandomForestClassifier(n_estimators = 1000, random_state = 42)),\n",
    "                 ])\n",
    "    ranfor.fit(X_train, y_train)\n",
    "\n",
    "    y_pred = ranfor.predict(X_test)\n",
    "\n",
    "\n",
    "    print('test accuracy %s' % accuracy_score(y_pred, y_test))\n",
    "    print(classification_report(y_test, y_pred,target_names=flairs))\n",
    "    \n",
    "    y_pred = ranfor.predict(X_train)\n",
    "\n",
    "\n",
    "    print('train accuracy %s' % accuracy_score(y_pred, y_train))\n",
    "    print(classification_report(y_train, y_pred,target_names=flairs))"
   ]
  },
  {
   "cell_type": "code",
   "execution_count": 11,
   "metadata": {},
   "outputs": [],
   "source": [
    "def mlpclassifier(X_train, X_test, y_train, y_test):\n",
    "  \n",
    "    from sklearn.neural_network import MLPClassifier\n",
    "\n",
    "    mlp = Pipeline([('vect', CountVectorizer()),\n",
    "                  ('tfidf', TfidfTransformer()),\n",
    "                  ('clf', MLPClassifier(hidden_layer_sizes=(30,30,30))),\n",
    "                 ])\n",
    "    mlp.fit(X_train, y_train)\n",
    "\n",
    "    y_pred = mlp.predict(X_test)\n",
    "\n",
    "    print('testing accuracy %s' % accuracy_score(y_pred, y_test))\n",
    "    print(classification_report(y_test, y_pred,target_names=flairs))\n",
    "    \n",
    "    y_pred = mlp.predict(X_train)\n",
    "    \n",
    "    print('training accuracy %s' % accuracy_score(y_pred, y_train))\n",
    "    print(classification_report(y_train, y_pred,target_names=flairs))"
   ]
  },
  {
   "cell_type": "code",
   "execution_count": 12,
   "metadata": {},
   "outputs": [],
   "source": [
    "def feature_transformation_and_reduction(V,cat):\n",
    "    y = [flairs_map[e] for e in cat]\n",
    "    X_train, X_test, y_train, y_test = train_test_split(V, y, test_size=0.3, random_state = 42)\n",
    "    n=200\n",
    " \n",
    "    \n",
    "    vec = Pipeline([('vect', CountVectorizer()),\n",
    "                  ('tfidf', TfidfTransformer()),])\n",
    "    \n",
    "    X_train = vec.fit_transform(X_train)\n",
    "    X_test = vec.transform(X_test)\n",
    "   \n",
    "    svd = TruncatedSVD(n_components=n, n_iter=10, random_state=42)\n",
    "    X_train = svd.fit_transform(X_train)\n",
    "    X_test = svd.transform(X_test)\n",
    "    \n",
    "    \n",
    "    return X_train, X_test, y_train, y_test"
   ]
  },
  {
   "cell_type": "code",
   "execution_count": 20,
   "metadata": {},
   "outputs": [],
   "source": [
    "def nn_LSTM(V,cat):\n",
    "    \n",
    "    X_train, X_test, y_train, y_test = feature_transformation_and_reduction(V,cat)\n",
    "    \n",
    "    X_train = np.array(X_train).reshape(X_train.shape[0],1,X_train.shape[1])\n",
    "    X_test = np.array(X_test).reshape(X_test.shape[0],1,X_test.shape[1])\n",
    "    y_train = np.array(y_train)\n",
    "    y_test = np.array(y_test)\n",
    "    \n",
    "    num_labels = 12\n",
    "    model = Sequential()\n",
    "    model.add(LSTM(512, dropout=0.2, recurrent_dropout=0.2, activation='tanh',input_shape = X_train.shape[1:]))\n",
    "    model.add(Dense(12, activation='softmax'))\n",
    "    model.compile(loss='sparse_categorical_crossentropy', optimizer='adam', metrics=['accuracy'])\n",
    "\n",
    "    epochs = 30\n",
    "    batch_size = 64\n",
    "\n",
    "    history = model.fit(X_train, y_train, epochs=epochs,batch_size = batch_size,validation_split=0.33)\n",
    "\n",
    "    generate_loss_plot(history)\n",
    "    generate_accuracy_plot(history)\n",
    "    \n",
    "    y_predictions = model.predict(X_test)\n",
    "    y_pred = [np.argmax(r) for r in y_predictions]\n",
    "    print('testing accuracy %s' % accuracy_score(y_pred, y_test))\n",
    "    print(classification_report(y_test, y_pred,target_names=flairs))\n",
    "    \n",
    "    y_predictions = model.predict(X_train)\n",
    "    y_pred = [np.argmax(r) for r in y_predictions]\n",
    "    print('training accuracy %s' % accuracy_score(y_pred, y_train))\n",
    "    print(classification_report(y_train, y_pred,target_names=flairs))"
   ]
  },
  {
   "cell_type": "code",
   "execution_count": 21,
   "metadata": {},
   "outputs": [],
   "source": [
    "def nn_dense(V,cat):\n",
    "    \n",
    "    X_train, X_test, y_train, y_test = feature_transformation_and_reduction(V,cat)\n",
    "    \n",
    "    num_labels = 12\n",
    "    model = Sequential()\n",
    "    model.add(Dense(512, input_shape=(X_train.shape[1],)))\n",
    "    model.add(Activation('tanh'))\n",
    "    model.add(Dropout(0.2))\n",
    "    model.add(Dense(num_labels))\n",
    "    model.add(Activation('softmax'))\n",
    "\n",
    "    sgd = SGD(lr=0.01, decay=1e-6, momentum=0.9, nesterov=True)\n",
    "    model.compile(optimizer=sgd, loss='sparse_categorical_crossentropy',metrics=['accuracy'])\n",
    "    history = model.fit(np.array(X_train),np.array(y_train),validation_split=0.33,epochs=100)\n",
    "    \n",
    "    generate_loss_plot(history)\n",
    "    generate_accuracy_plot(history)\n",
    "    \n",
    "    y_pred = model.predict(X_test)\n",
    "    y_predictions = [np.argmax(t) for t in y_pred]\n",
    "    print('testing accuracy %s' % accuracy_score(y_predictions, y_test))\n",
    "    print(classification_report(y_test, y_predictions,target_names=flairs))\n",
    "    \n",
    "    y_predictions = model.predict(X_train)\n",
    "    y_pred = [np.argmax(r) for r in y_predictions]\n",
    "    print('training accuracy %s' % accuracy_score(y_pred, y_train))\n",
    "    print(classification_report(y_train, y_pred,target_names=flairs))"
   ]
  },
  {
   "cell_type": "code",
   "execution_count": 22,
   "metadata": {},
   "outputs": [],
   "source": [
    "def nn_cnn(V,cat):\n",
    "    \n",
    "    X_train, X_test, y_train, y_test = feature_transformation_and_reduction(V,cat)\n",
    "    \n",
    "    X_train = np.array(X_train).reshape(X_train.shape[0],1,X_train.shape[1])\n",
    "    X_test = np.array(X_test).reshape(X_test.shape[0],1,X_test.shape[1])\n",
    "    y_train = np.array(y_train)\n",
    "    y_test = np.array(y_test)\n",
    "    \n",
    "    num_labels = 12\n",
    "    model = Sequential()\n",
    "    model.add(Conv1D(512, activation = 'tanh', input_shape=X_train.shape[1:], kernel_size = 1))\n",
    "    model.add(Dropout(0.2))\n",
    "    model.add(Dense(num_labels))\n",
    "    model.add(Activation('softmax'))\n",
    "    \n",
    "    \n",
    "    sgd = SGD(lr=0.01, decay=1e-6, momentum=0.9, nesterov=True)\n",
    "    model.compile(optimizer=sgd, loss='sparse_categorical_crossentropy',metrics=['accuracy'])\n",
    "    history = model.fit(np.array(X_train),np.array(y_train),validation_split=0.33,epochs=100)\n",
    "    \n",
    "    generate_loss_plot(history)\n",
    "    generate_accuracy_plot(history)\n",
    "    \n",
    "    y_pred = model.predict(X_test)\n",
    "    y_predictions = [np.argmax(t) for t in y_pred]\n",
    "    print('testing accuracy %s' % accuracy_score(y_predictions, y_test))\n",
    "    print(classification_report(y_test, y_predictions,target_names=flairs))\n",
    "    \n",
    "    y_predictions = model.predict(X_train)\n",
    "    y_pred = [np.argmax(r) for r in y_predictions]\n",
    "    print('training accuracy %s' % accuracy_score(y_pred, y_train))\n",
    "    print(classification_report(y_train, y_pred,target_names=flairs))"
   ]
  },
  {
   "cell_type": "code",
   "execution_count": 23,
   "metadata": {},
   "outputs": [],
   "source": [
    "def train_test(X,y):\n",
    "\n",
    "    X_train, X_test, y_train, y_test = train_test_split(X, y, test_size=0.3, random_state = 42)\n",
    "\n",
    "    print(\"Results of Naive Bayes Classifier\")\n",
    "    nb_classifier(X_train, X_test, y_train, y_test)\n",
    "    print(\"Results of Linear Support Vector Machine\")\n",
    "    linear_svm(X_train, X_test, y_train, y_test)\n",
    "    print(\"Results of Logistic Regression\")\n",
    "    logisticreg(X_train, X_test, y_train, y_test)\n",
    "    print(\"Results of Random Forest\")\n",
    "    randomforest(X_train, X_test, y_train, y_test)\n",
    "    print(\"Results of MLP Classifier\")\n",
    "    mlpclassifier(X_train, X_test, y_train, y_test)\n",
    "    print(\"Results of Neural Network Classifier with Dense Hidden Layer\")\n",
    "    nn_dense(X,y)\n",
    "    print(\"Results of Neural Network Classifier with Convolution Hidden Layer\")\n",
    "    nn_cnn(X,y)\n",
    "    print(\"Results of Neural Network Classifier with LSTM Hidden Layer\")\n",
    "    nn_LSTM(X,y)"
   ]
  },
  {
   "cell_type": "code",
   "execution_count": 17,
   "metadata": {},
   "outputs": [],
   "source": [
    "cat = topics_data.flair\n",
    "V = topics_data.feature_combine"
   ]
  },
  {
   "cell_type": "code",
   "execution_count": 18,
   "metadata": {},
   "outputs": [
    {
     "data": {
      "text/html": [
       "        <script type=\"text/javascript\">\n",
       "        window.PlotlyConfig = {MathJaxConfig: 'local'};\n",
       "        if (window.MathJax) {MathJax.Hub.Config({SVG: {font: \"STIX-Web\"}});}\n",
       "        if (typeof require !== 'undefined') {\n",
       "        require.undef(\"plotly\");\n",
       "        requirejs.config({\n",
       "            paths: {\n",
       "                'plotly': ['https://cdn.plot.ly/plotly-latest.min']\n",
       "            }\n",
       "        });\n",
       "        require(['plotly'], function(Plotly) {\n",
       "            window._Plotly = Plotly;\n",
       "        });\n",
       "        }\n",
       "        </script>\n",
       "        "
      ]
     },
     "metadata": {},
     "output_type": "display_data"
    },
    {
     "data": {
      "application/vnd.plotly.v1+json": {
       "config": {
        "linkText": "Export to plot.ly",
        "plotlyServerURL": "https://plot.ly",
        "showLink": true
       },
       "data": [
        {
         "marker": {
          "color": "rgba(255, 153, 51, 0.6)",
          "line": {
           "color": "rgba(255, 153, 51, 1.0)",
           "width": 1
          }
         },
         "name": "target",
         "orientation": "v",
         "text": "",
         "type": "bar",
         "x": [
          "Politics",
          "Food",
          "Sports",
          "Scheduled",
          "Business/Finance",
          "AskIndia",
          "Science/Technology",
          "Policy/Economy",
          "Photography",
          "Non-Political",
          "AMA",
          "[R]eddiquette"
         ],
         "y": [
          248,
          245,
          237,
          236,
          234,
          228,
          222,
          221,
          221,
          215,
          212,
          18
         ]
        }
       ],
       "layout": {
        "legend": {
         "bgcolor": "#F5F6F9",
         "font": {
          "color": "#4D5663"
         }
        },
        "paper_bgcolor": "#F5F6F9",
        "plot_bgcolor": "#F5F6F9",
        "template": {
         "data": {
          "bar": [
           {
            "error_x": {
             "color": "#2a3f5f"
            },
            "error_y": {
             "color": "#2a3f5f"
            },
            "marker": {
             "line": {
              "color": "#E5ECF6",
              "width": 0.5
             }
            },
            "type": "bar"
           }
          ],
          "barpolar": [
           {
            "marker": {
             "line": {
              "color": "#E5ECF6",
              "width": 0.5
             }
            },
            "type": "barpolar"
           }
          ],
          "carpet": [
           {
            "aaxis": {
             "endlinecolor": "#2a3f5f",
             "gridcolor": "white",
             "linecolor": "white",
             "minorgridcolor": "white",
             "startlinecolor": "#2a3f5f"
            },
            "baxis": {
             "endlinecolor": "#2a3f5f",
             "gridcolor": "white",
             "linecolor": "white",
             "minorgridcolor": "white",
             "startlinecolor": "#2a3f5f"
            },
            "type": "carpet"
           }
          ],
          "choropleth": [
           {
            "colorbar": {
             "outlinewidth": 0,
             "ticks": ""
            },
            "type": "choropleth"
           }
          ],
          "contour": [
           {
            "colorbar": {
             "outlinewidth": 0,
             "ticks": ""
            },
            "colorscale": [
             [
              0,
              "#0d0887"
             ],
             [
              0.1111111111111111,
              "#46039f"
             ],
             [
              0.2222222222222222,
              "#7201a8"
             ],
             [
              0.3333333333333333,
              "#9c179e"
             ],
             [
              0.4444444444444444,
              "#bd3786"
             ],
             [
              0.5555555555555556,
              "#d8576b"
             ],
             [
              0.6666666666666666,
              "#ed7953"
             ],
             [
              0.7777777777777778,
              "#fb9f3a"
             ],
             [
              0.8888888888888888,
              "#fdca26"
             ],
             [
              1,
              "#f0f921"
             ]
            ],
            "type": "contour"
           }
          ],
          "contourcarpet": [
           {
            "colorbar": {
             "outlinewidth": 0,
             "ticks": ""
            },
            "type": "contourcarpet"
           }
          ],
          "heatmap": [
           {
            "colorbar": {
             "outlinewidth": 0,
             "ticks": ""
            },
            "colorscale": [
             [
              0,
              "#0d0887"
             ],
             [
              0.1111111111111111,
              "#46039f"
             ],
             [
              0.2222222222222222,
              "#7201a8"
             ],
             [
              0.3333333333333333,
              "#9c179e"
             ],
             [
              0.4444444444444444,
              "#bd3786"
             ],
             [
              0.5555555555555556,
              "#d8576b"
             ],
             [
              0.6666666666666666,
              "#ed7953"
             ],
             [
              0.7777777777777778,
              "#fb9f3a"
             ],
             [
              0.8888888888888888,
              "#fdca26"
             ],
             [
              1,
              "#f0f921"
             ]
            ],
            "type": "heatmap"
           }
          ],
          "heatmapgl": [
           {
            "colorbar": {
             "outlinewidth": 0,
             "ticks": ""
            },
            "colorscale": [
             [
              0,
              "#0d0887"
             ],
             [
              0.1111111111111111,
              "#46039f"
             ],
             [
              0.2222222222222222,
              "#7201a8"
             ],
             [
              0.3333333333333333,
              "#9c179e"
             ],
             [
              0.4444444444444444,
              "#bd3786"
             ],
             [
              0.5555555555555556,
              "#d8576b"
             ],
             [
              0.6666666666666666,
              "#ed7953"
             ],
             [
              0.7777777777777778,
              "#fb9f3a"
             ],
             [
              0.8888888888888888,
              "#fdca26"
             ],
             [
              1,
              "#f0f921"
             ]
            ],
            "type": "heatmapgl"
           }
          ],
          "histogram": [
           {
            "marker": {
             "colorbar": {
              "outlinewidth": 0,
              "ticks": ""
             }
            },
            "type": "histogram"
           }
          ],
          "histogram2d": [
           {
            "colorbar": {
             "outlinewidth": 0,
             "ticks": ""
            },
            "colorscale": [
             [
              0,
              "#0d0887"
             ],
             [
              0.1111111111111111,
              "#46039f"
             ],
             [
              0.2222222222222222,
              "#7201a8"
             ],
             [
              0.3333333333333333,
              "#9c179e"
             ],
             [
              0.4444444444444444,
              "#bd3786"
             ],
             [
              0.5555555555555556,
              "#d8576b"
             ],
             [
              0.6666666666666666,
              "#ed7953"
             ],
             [
              0.7777777777777778,
              "#fb9f3a"
             ],
             [
              0.8888888888888888,
              "#fdca26"
             ],
             [
              1,
              "#f0f921"
             ]
            ],
            "type": "histogram2d"
           }
          ],
          "histogram2dcontour": [
           {
            "colorbar": {
             "outlinewidth": 0,
             "ticks": ""
            },
            "colorscale": [
             [
              0,
              "#0d0887"
             ],
             [
              0.1111111111111111,
              "#46039f"
             ],
             [
              0.2222222222222222,
              "#7201a8"
             ],
             [
              0.3333333333333333,
              "#9c179e"
             ],
             [
              0.4444444444444444,
              "#bd3786"
             ],
             [
              0.5555555555555556,
              "#d8576b"
             ],
             [
              0.6666666666666666,
              "#ed7953"
             ],
             [
              0.7777777777777778,
              "#fb9f3a"
             ],
             [
              0.8888888888888888,
              "#fdca26"
             ],
             [
              1,
              "#f0f921"
             ]
            ],
            "type": "histogram2dcontour"
           }
          ],
          "mesh3d": [
           {
            "colorbar": {
             "outlinewidth": 0,
             "ticks": ""
            },
            "type": "mesh3d"
           }
          ],
          "parcoords": [
           {
            "line": {
             "colorbar": {
              "outlinewidth": 0,
              "ticks": ""
             }
            },
            "type": "parcoords"
           }
          ],
          "pie": [
           {
            "automargin": true,
            "type": "pie"
           }
          ],
          "scatter": [
           {
            "marker": {
             "colorbar": {
              "outlinewidth": 0,
              "ticks": ""
             }
            },
            "type": "scatter"
           }
          ],
          "scatter3d": [
           {
            "line": {
             "colorbar": {
              "outlinewidth": 0,
              "ticks": ""
             }
            },
            "marker": {
             "colorbar": {
              "outlinewidth": 0,
              "ticks": ""
             }
            },
            "type": "scatter3d"
           }
          ],
          "scattercarpet": [
           {
            "marker": {
             "colorbar": {
              "outlinewidth": 0,
              "ticks": ""
             }
            },
            "type": "scattercarpet"
           }
          ],
          "scattergeo": [
           {
            "marker": {
             "colorbar": {
              "outlinewidth": 0,
              "ticks": ""
             }
            },
            "type": "scattergeo"
           }
          ],
          "scattergl": [
           {
            "marker": {
             "colorbar": {
              "outlinewidth": 0,
              "ticks": ""
             }
            },
            "type": "scattergl"
           }
          ],
          "scattermapbox": [
           {
            "marker": {
             "colorbar": {
              "outlinewidth": 0,
              "ticks": ""
             }
            },
            "type": "scattermapbox"
           }
          ],
          "scatterpolar": [
           {
            "marker": {
             "colorbar": {
              "outlinewidth": 0,
              "ticks": ""
             }
            },
            "type": "scatterpolar"
           }
          ],
          "scatterpolargl": [
           {
            "marker": {
             "colorbar": {
              "outlinewidth": 0,
              "ticks": ""
             }
            },
            "type": "scatterpolargl"
           }
          ],
          "scatterternary": [
           {
            "marker": {
             "colorbar": {
              "outlinewidth": 0,
              "ticks": ""
             }
            },
            "type": "scatterternary"
           }
          ],
          "surface": [
           {
            "colorbar": {
             "outlinewidth": 0,
             "ticks": ""
            },
            "colorscale": [
             [
              0,
              "#0d0887"
             ],
             [
              0.1111111111111111,
              "#46039f"
             ],
             [
              0.2222222222222222,
              "#7201a8"
             ],
             [
              0.3333333333333333,
              "#9c179e"
             ],
             [
              0.4444444444444444,
              "#bd3786"
             ],
             [
              0.5555555555555556,
              "#d8576b"
             ],
             [
              0.6666666666666666,
              "#ed7953"
             ],
             [
              0.7777777777777778,
              "#fb9f3a"
             ],
             [
              0.8888888888888888,
              "#fdca26"
             ],
             [
              1,
              "#f0f921"
             ]
            ],
            "type": "surface"
           }
          ],
          "table": [
           {
            "cells": {
             "fill": {
              "color": "#EBF0F8"
             },
             "line": {
              "color": "white"
             }
            },
            "header": {
             "fill": {
              "color": "#C8D4E3"
             },
             "line": {
              "color": "white"
             }
            },
            "type": "table"
           }
          ]
         },
         "layout": {
          "annotationdefaults": {
           "arrowcolor": "#2a3f5f",
           "arrowhead": 0,
           "arrowwidth": 1
          },
          "coloraxis": {
           "colorbar": {
            "outlinewidth": 0,
            "ticks": ""
           }
          },
          "colorscale": {
           "diverging": [
            [
             0,
             "#8e0152"
            ],
            [
             0.1,
             "#c51b7d"
            ],
            [
             0.2,
             "#de77ae"
            ],
            [
             0.3,
             "#f1b6da"
            ],
            [
             0.4,
             "#fde0ef"
            ],
            [
             0.5,
             "#f7f7f7"
            ],
            [
             0.6,
             "#e6f5d0"
            ],
            [
             0.7,
             "#b8e186"
            ],
            [
             0.8,
             "#7fbc41"
            ],
            [
             0.9,
             "#4d9221"
            ],
            [
             1,
             "#276419"
            ]
           ],
           "sequential": [
            [
             0,
             "#0d0887"
            ],
            [
             0.1111111111111111,
             "#46039f"
            ],
            [
             0.2222222222222222,
             "#7201a8"
            ],
            [
             0.3333333333333333,
             "#9c179e"
            ],
            [
             0.4444444444444444,
             "#bd3786"
            ],
            [
             0.5555555555555556,
             "#d8576b"
            ],
            [
             0.6666666666666666,
             "#ed7953"
            ],
            [
             0.7777777777777778,
             "#fb9f3a"
            ],
            [
             0.8888888888888888,
             "#fdca26"
            ],
            [
             1,
             "#f0f921"
            ]
           ],
           "sequentialminus": [
            [
             0,
             "#0d0887"
            ],
            [
             0.1111111111111111,
             "#46039f"
            ],
            [
             0.2222222222222222,
             "#7201a8"
            ],
            [
             0.3333333333333333,
             "#9c179e"
            ],
            [
             0.4444444444444444,
             "#bd3786"
            ],
            [
             0.5555555555555556,
             "#d8576b"
            ],
            [
             0.6666666666666666,
             "#ed7953"
            ],
            [
             0.7777777777777778,
             "#fb9f3a"
            ],
            [
             0.8888888888888888,
             "#fdca26"
            ],
            [
             1,
             "#f0f921"
            ]
           ]
          },
          "colorway": [
           "#636efa",
           "#EF553B",
           "#00cc96",
           "#ab63fa",
           "#FFA15A",
           "#19d3f3",
           "#FF6692",
           "#B6E880",
           "#FF97FF",
           "#FECB52"
          ],
          "font": {
           "color": "#2a3f5f"
          },
          "geo": {
           "bgcolor": "white",
           "lakecolor": "white",
           "landcolor": "#E5ECF6",
           "showlakes": true,
           "showland": true,
           "subunitcolor": "white"
          },
          "hoverlabel": {
           "align": "left"
          },
          "hovermode": "closest",
          "mapbox": {
           "style": "light"
          },
          "paper_bgcolor": "white",
          "plot_bgcolor": "#E5ECF6",
          "polar": {
           "angularaxis": {
            "gridcolor": "white",
            "linecolor": "white",
            "ticks": ""
           },
           "bgcolor": "#E5ECF6",
           "radialaxis": {
            "gridcolor": "white",
            "linecolor": "white",
            "ticks": ""
           }
          },
          "scene": {
           "xaxis": {
            "backgroundcolor": "#E5ECF6",
            "gridcolor": "white",
            "gridwidth": 2,
            "linecolor": "white",
            "showbackground": true,
            "ticks": "",
            "zerolinecolor": "white"
           },
           "yaxis": {
            "backgroundcolor": "#E5ECF6",
            "gridcolor": "white",
            "gridwidth": 2,
            "linecolor": "white",
            "showbackground": true,
            "ticks": "",
            "zerolinecolor": "white"
           },
           "zaxis": {
            "backgroundcolor": "#E5ECF6",
            "gridcolor": "white",
            "gridwidth": 2,
            "linecolor": "white",
            "showbackground": true,
            "ticks": "",
            "zerolinecolor": "white"
           }
          },
          "shapedefaults": {
           "line": {
            "color": "#2a3f5f"
           }
          },
          "ternary": {
           "aaxis": {
            "gridcolor": "white",
            "linecolor": "white",
            "ticks": ""
           },
           "baxis": {
            "gridcolor": "white",
            "linecolor": "white",
            "ticks": ""
           },
           "bgcolor": "#E5ECF6",
           "caxis": {
            "gridcolor": "white",
            "linecolor": "white",
            "ticks": ""
           }
          },
          "title": {
           "x": 0.05
          },
          "xaxis": {
           "automargin": true,
           "gridcolor": "white",
           "linecolor": "white",
           "ticks": "",
           "title": {
            "standoff": 15
           },
           "zerolinecolor": "white",
           "zerolinewidth": 2
          },
          "yaxis": {
           "automargin": true,
           "gridcolor": "white",
           "linecolor": "white",
           "ticks": "",
           "title": {
            "standoff": 15
           },
           "zerolinecolor": "white",
           "zerolinewidth": 2
          }
         }
        },
        "title": {
         "font": {
          "color": "#4D5663"
         },
         "text": "Flair"
        },
        "xaxis": {
         "gridcolor": "#E1E5ED",
         "showgrid": true,
         "tickfont": {
          "color": "#4D5663"
         },
         "title": {
          "font": {
           "color": "#4D5663"
          },
          "text": ""
         },
         "zerolinecolor": "#E1E5ED"
        },
        "yaxis": {
         "gridcolor": "#E1E5ED",
         "showgrid": true,
         "tickfont": {
          "color": "#4D5663"
         },
         "title": {
          "font": {
           "color": "#4D5663"
          },
          "text": "Number of Posts"
         },
         "zerolinecolor": "#E1E5ED"
        }
       }
      },
      "text/html": [
       "<div>\n",
       "        \n",
       "        \n",
       "            <div id=\"5243964d-104c-4ffd-bbfe-dff6412c3f6f\" class=\"plotly-graph-div\" style=\"height:525px; width:100%;\"></div>\n",
       "            <script type=\"text/javascript\">\n",
       "                require([\"plotly\"], function(Plotly) {\n",
       "                    window.PLOTLYENV=window.PLOTLYENV || {};\n",
       "                    window.PLOTLYENV.BASE_URL='https://plot.ly';\n",
       "                    \n",
       "                if (document.getElementById(\"5243964d-104c-4ffd-bbfe-dff6412c3f6f\")) {\n",
       "                    Plotly.newPlot(\n",
       "                        '5243964d-104c-4ffd-bbfe-dff6412c3f6f',\n",
       "                        [{\"marker\": {\"color\": \"rgba(255, 153, 51, 0.6)\", \"line\": {\"color\": \"rgba(255, 153, 51, 1.0)\", \"width\": 1}}, \"name\": \"target\", \"orientation\": \"v\", \"text\": \"\", \"type\": \"bar\", \"x\": [\"Politics\", \"Food\", \"Sports\", \"Scheduled\", \"Business/Finance\", \"AskIndia\", \"Science/Technology\", \"Policy/Economy\", \"Photography\", \"Non-Political\", \"AMA\", \"[R]eddiquette\"], \"y\": [248, 245, 237, 236, 234, 228, 222, 221, 221, 215, 212, 18]}],\n",
       "                        {\"legend\": {\"bgcolor\": \"#F5F6F9\", \"font\": {\"color\": \"#4D5663\"}}, \"paper_bgcolor\": \"#F5F6F9\", \"plot_bgcolor\": \"#F5F6F9\", \"template\": {\"data\": {\"bar\": [{\"error_x\": {\"color\": \"#2a3f5f\"}, \"error_y\": {\"color\": \"#2a3f5f\"}, \"marker\": {\"line\": {\"color\": \"#E5ECF6\", \"width\": 0.5}}, \"type\": \"bar\"}], \"barpolar\": [{\"marker\": {\"line\": {\"color\": \"#E5ECF6\", \"width\": 0.5}}, \"type\": \"barpolar\"}], \"carpet\": [{\"aaxis\": {\"endlinecolor\": \"#2a3f5f\", \"gridcolor\": \"white\", \"linecolor\": \"white\", \"minorgridcolor\": \"white\", \"startlinecolor\": \"#2a3f5f\"}, \"baxis\": {\"endlinecolor\": \"#2a3f5f\", \"gridcolor\": \"white\", \"linecolor\": \"white\", \"minorgridcolor\": \"white\", \"startlinecolor\": \"#2a3f5f\"}, \"type\": \"carpet\"}], \"choropleth\": [{\"colorbar\": {\"outlinewidth\": 0, \"ticks\": \"\"}, \"type\": \"choropleth\"}], \"contour\": [{\"colorbar\": {\"outlinewidth\": 0, \"ticks\": \"\"}, \"colorscale\": [[0.0, \"#0d0887\"], [0.1111111111111111, \"#46039f\"], [0.2222222222222222, \"#7201a8\"], [0.3333333333333333, \"#9c179e\"], [0.4444444444444444, \"#bd3786\"], [0.5555555555555556, \"#d8576b\"], [0.6666666666666666, \"#ed7953\"], [0.7777777777777778, \"#fb9f3a\"], [0.8888888888888888, \"#fdca26\"], [1.0, \"#f0f921\"]], \"type\": \"contour\"}], \"contourcarpet\": [{\"colorbar\": {\"outlinewidth\": 0, \"ticks\": \"\"}, \"type\": \"contourcarpet\"}], \"heatmap\": [{\"colorbar\": {\"outlinewidth\": 0, \"ticks\": \"\"}, \"colorscale\": [[0.0, \"#0d0887\"], [0.1111111111111111, \"#46039f\"], [0.2222222222222222, \"#7201a8\"], [0.3333333333333333, \"#9c179e\"], [0.4444444444444444, \"#bd3786\"], [0.5555555555555556, \"#d8576b\"], [0.6666666666666666, \"#ed7953\"], [0.7777777777777778, \"#fb9f3a\"], [0.8888888888888888, \"#fdca26\"], [1.0, \"#f0f921\"]], \"type\": \"heatmap\"}], \"heatmapgl\": [{\"colorbar\": {\"outlinewidth\": 0, \"ticks\": \"\"}, \"colorscale\": [[0.0, \"#0d0887\"], [0.1111111111111111, \"#46039f\"], [0.2222222222222222, \"#7201a8\"], [0.3333333333333333, \"#9c179e\"], [0.4444444444444444, \"#bd3786\"], [0.5555555555555556, \"#d8576b\"], [0.6666666666666666, \"#ed7953\"], [0.7777777777777778, \"#fb9f3a\"], [0.8888888888888888, \"#fdca26\"], [1.0, \"#f0f921\"]], \"type\": \"heatmapgl\"}], \"histogram\": [{\"marker\": {\"colorbar\": {\"outlinewidth\": 0, \"ticks\": \"\"}}, \"type\": \"histogram\"}], \"histogram2d\": [{\"colorbar\": {\"outlinewidth\": 0, \"ticks\": \"\"}, \"colorscale\": [[0.0, \"#0d0887\"], [0.1111111111111111, \"#46039f\"], [0.2222222222222222, \"#7201a8\"], [0.3333333333333333, \"#9c179e\"], [0.4444444444444444, \"#bd3786\"], [0.5555555555555556, \"#d8576b\"], [0.6666666666666666, \"#ed7953\"], [0.7777777777777778, \"#fb9f3a\"], [0.8888888888888888, \"#fdca26\"], [1.0, \"#f0f921\"]], \"type\": \"histogram2d\"}], \"histogram2dcontour\": [{\"colorbar\": {\"outlinewidth\": 0, \"ticks\": \"\"}, \"colorscale\": [[0.0, \"#0d0887\"], [0.1111111111111111, \"#46039f\"], [0.2222222222222222, \"#7201a8\"], [0.3333333333333333, \"#9c179e\"], [0.4444444444444444, \"#bd3786\"], [0.5555555555555556, \"#d8576b\"], [0.6666666666666666, \"#ed7953\"], [0.7777777777777778, \"#fb9f3a\"], [0.8888888888888888, \"#fdca26\"], [1.0, \"#f0f921\"]], \"type\": \"histogram2dcontour\"}], \"mesh3d\": [{\"colorbar\": {\"outlinewidth\": 0, \"ticks\": \"\"}, \"type\": \"mesh3d\"}], \"parcoords\": [{\"line\": {\"colorbar\": {\"outlinewidth\": 0, \"ticks\": \"\"}}, \"type\": \"parcoords\"}], \"pie\": [{\"automargin\": true, \"type\": \"pie\"}], \"scatter\": [{\"marker\": {\"colorbar\": {\"outlinewidth\": 0, \"ticks\": \"\"}}, \"type\": \"scatter\"}], \"scatter3d\": [{\"line\": {\"colorbar\": {\"outlinewidth\": 0, \"ticks\": \"\"}}, \"marker\": {\"colorbar\": {\"outlinewidth\": 0, \"ticks\": \"\"}}, \"type\": \"scatter3d\"}], \"scattercarpet\": [{\"marker\": {\"colorbar\": {\"outlinewidth\": 0, \"ticks\": \"\"}}, \"type\": \"scattercarpet\"}], \"scattergeo\": [{\"marker\": {\"colorbar\": {\"outlinewidth\": 0, \"ticks\": \"\"}}, \"type\": \"scattergeo\"}], \"scattergl\": [{\"marker\": {\"colorbar\": {\"outlinewidth\": 0, \"ticks\": \"\"}}, \"type\": \"scattergl\"}], \"scattermapbox\": [{\"marker\": {\"colorbar\": {\"outlinewidth\": 0, \"ticks\": \"\"}}, \"type\": \"scattermapbox\"}], \"scatterpolar\": [{\"marker\": {\"colorbar\": {\"outlinewidth\": 0, \"ticks\": \"\"}}, \"type\": \"scatterpolar\"}], \"scatterpolargl\": [{\"marker\": {\"colorbar\": {\"outlinewidth\": 0, \"ticks\": \"\"}}, \"type\": \"scatterpolargl\"}], \"scatterternary\": [{\"marker\": {\"colorbar\": {\"outlinewidth\": 0, \"ticks\": \"\"}}, \"type\": \"scatterternary\"}], \"surface\": [{\"colorbar\": {\"outlinewidth\": 0, \"ticks\": \"\"}, \"colorscale\": [[0.0, \"#0d0887\"], [0.1111111111111111, \"#46039f\"], [0.2222222222222222, \"#7201a8\"], [0.3333333333333333, \"#9c179e\"], [0.4444444444444444, \"#bd3786\"], [0.5555555555555556, \"#d8576b\"], [0.6666666666666666, \"#ed7953\"], [0.7777777777777778, \"#fb9f3a\"], [0.8888888888888888, \"#fdca26\"], [1.0, \"#f0f921\"]], \"type\": \"surface\"}], \"table\": [{\"cells\": {\"fill\": {\"color\": \"#EBF0F8\"}, \"line\": {\"color\": \"white\"}}, \"header\": {\"fill\": {\"color\": \"#C8D4E3\"}, \"line\": {\"color\": \"white\"}}, \"type\": \"table\"}]}, \"layout\": {\"annotationdefaults\": {\"arrowcolor\": \"#2a3f5f\", \"arrowhead\": 0, \"arrowwidth\": 1}, \"coloraxis\": {\"colorbar\": {\"outlinewidth\": 0, \"ticks\": \"\"}}, \"colorscale\": {\"diverging\": [[0, \"#8e0152\"], [0.1, \"#c51b7d\"], [0.2, \"#de77ae\"], [0.3, \"#f1b6da\"], [0.4, \"#fde0ef\"], [0.5, \"#f7f7f7\"], [0.6, \"#e6f5d0\"], [0.7, \"#b8e186\"], [0.8, \"#7fbc41\"], [0.9, \"#4d9221\"], [1, \"#276419\"]], \"sequential\": [[0.0, \"#0d0887\"], [0.1111111111111111, \"#46039f\"], [0.2222222222222222, \"#7201a8\"], [0.3333333333333333, \"#9c179e\"], [0.4444444444444444, \"#bd3786\"], [0.5555555555555556, \"#d8576b\"], [0.6666666666666666, \"#ed7953\"], [0.7777777777777778, \"#fb9f3a\"], [0.8888888888888888, \"#fdca26\"], [1.0, \"#f0f921\"]], \"sequentialminus\": [[0.0, \"#0d0887\"], [0.1111111111111111, \"#46039f\"], [0.2222222222222222, \"#7201a8\"], [0.3333333333333333, \"#9c179e\"], [0.4444444444444444, \"#bd3786\"], [0.5555555555555556, \"#d8576b\"], [0.6666666666666666, \"#ed7953\"], [0.7777777777777778, \"#fb9f3a\"], [0.8888888888888888, \"#fdca26\"], [1.0, \"#f0f921\"]]}, \"colorway\": [\"#636efa\", \"#EF553B\", \"#00cc96\", \"#ab63fa\", \"#FFA15A\", \"#19d3f3\", \"#FF6692\", \"#B6E880\", \"#FF97FF\", \"#FECB52\"], \"font\": {\"color\": \"#2a3f5f\"}, \"geo\": {\"bgcolor\": \"white\", \"lakecolor\": \"white\", \"landcolor\": \"#E5ECF6\", \"showlakes\": true, \"showland\": true, \"subunitcolor\": \"white\"}, \"hoverlabel\": {\"align\": \"left\"}, \"hovermode\": \"closest\", \"mapbox\": {\"style\": \"light\"}, \"paper_bgcolor\": \"white\", \"plot_bgcolor\": \"#E5ECF6\", \"polar\": {\"angularaxis\": {\"gridcolor\": \"white\", \"linecolor\": \"white\", \"ticks\": \"\"}, \"bgcolor\": \"#E5ECF6\", \"radialaxis\": {\"gridcolor\": \"white\", \"linecolor\": \"white\", \"ticks\": \"\"}}, \"scene\": {\"xaxis\": {\"backgroundcolor\": \"#E5ECF6\", \"gridcolor\": \"white\", \"gridwidth\": 2, \"linecolor\": \"white\", \"showbackground\": true, \"ticks\": \"\", \"zerolinecolor\": \"white\"}, \"yaxis\": {\"backgroundcolor\": \"#E5ECF6\", \"gridcolor\": \"white\", \"gridwidth\": 2, \"linecolor\": \"white\", \"showbackground\": true, \"ticks\": \"\", \"zerolinecolor\": \"white\"}, \"zaxis\": {\"backgroundcolor\": \"#E5ECF6\", \"gridcolor\": \"white\", \"gridwidth\": 2, \"linecolor\": \"white\", \"showbackground\": true, \"ticks\": \"\", \"zerolinecolor\": \"white\"}}, \"shapedefaults\": {\"line\": {\"color\": \"#2a3f5f\"}}, \"ternary\": {\"aaxis\": {\"gridcolor\": \"white\", \"linecolor\": \"white\", \"ticks\": \"\"}, \"baxis\": {\"gridcolor\": \"white\", \"linecolor\": \"white\", \"ticks\": \"\"}, \"bgcolor\": \"#E5ECF6\", \"caxis\": {\"gridcolor\": \"white\", \"linecolor\": \"white\", \"ticks\": \"\"}}, \"title\": {\"x\": 0.05}, \"xaxis\": {\"automargin\": true, \"gridcolor\": \"white\", \"linecolor\": \"white\", \"ticks\": \"\", \"title\": {\"standoff\": 15}, \"zerolinecolor\": \"white\", \"zerolinewidth\": 2}, \"yaxis\": {\"automargin\": true, \"gridcolor\": \"white\", \"linecolor\": \"white\", \"ticks\": \"\", \"title\": {\"standoff\": 15}, \"zerolinecolor\": \"white\", \"zerolinewidth\": 2}}}, \"title\": {\"font\": {\"color\": \"#4D5663\"}, \"text\": \"Flair\"}, \"xaxis\": {\"gridcolor\": \"#E1E5ED\", \"showgrid\": true, \"tickfont\": {\"color\": \"#4D5663\"}, \"title\": {\"font\": {\"color\": \"#4D5663\"}, \"text\": \"\"}, \"zerolinecolor\": \"#E1E5ED\"}, \"yaxis\": {\"gridcolor\": \"#E1E5ED\", \"showgrid\": true, \"tickfont\": {\"color\": \"#4D5663\"}, \"title\": {\"font\": {\"color\": \"#4D5663\"}, \"text\": \"Number of Posts\"}, \"zerolinecolor\": \"#E1E5ED\"}},\n",
       "                        {\"showLink\": true, \"linkText\": \"Export to plot.ly\", \"plotlyServerURL\": \"https://plot.ly\", \"responsive\": true}\n",
       "                    ).then(function(){\n",
       "                            \n",
       "var gd = document.getElementById('5243964d-104c-4ffd-bbfe-dff6412c3f6f');\n",
       "var x = new MutationObserver(function (mutations, observer) {{\n",
       "        var display = window.getComputedStyle(gd).display;\n",
       "        if (!display || display === 'none') {{\n",
       "            console.log([gd, 'removed!']);\n",
       "            Plotly.purge(gd);\n",
       "            observer.disconnect();\n",
       "        }}\n",
       "}});\n",
       "\n",
       "// Listen for the removal of the full notebook cells\n",
       "var notebookContainer = gd.closest('#notebook-container');\n",
       "if (notebookContainer) {{\n",
       "    x.observe(notebookContainer, {childList: true});\n",
       "}}\n",
       "\n",
       "// Listen for the clearing of the current output cell\n",
       "var outputEl = gd.closest('.output');\n",
       "if (outputEl) {{\n",
       "    x.observe(outputEl, {childList: true});\n",
       "}}\n",
       "\n",
       "                        })\n",
       "                };\n",
       "                });\n",
       "            </script>\n",
       "        </div>"
      ]
     },
     "metadata": {},
     "output_type": "display_data"
    }
   ],
   "source": [
    "data = pd.DataFrame(V).assign(target = cat)\n",
    "import cufflinks as cf\n",
    "cf.go_offline()\n",
    "cf.set_config_file(offline=False, world_readable=True)\n",
    "\n",
    "(data.target).value_counts().sort_values(ascending=False).iplot(kind='bar', yTitle='Number of Posts', \n",
    "                                                                title='Flair')"
   ]
  },
  {
   "cell_type": "code",
   "execution_count": 24,
   "metadata": {},
   "outputs": [
    {
     "name": "stdout",
     "output_type": "stream",
     "text": [
      "Flair Detection using Comments as Feature\n",
      "Results of Naive Bayes Classifier\n",
      "testing accuracy 0.5511811023622047\n",
      "                    precision    recall  f1-score   support\n",
      "\n",
      "          AskIndia       0.75      0.66      0.70        67\n",
      "     Non-Political       0.29      0.64      0.40        61\n",
      "     [R]eddiquette       0.53      0.54      0.53        76\n",
      "         Scheduled       0.73      0.66      0.69        68\n",
      "       Photography       1.00      0.07      0.13        73\n",
      "Science/Technology       0.73      0.58      0.65        65\n",
      "          Politics       0.36      0.69      0.47        61\n",
      "  Business/Finance       0.49      0.90      0.63        68\n",
      "    Policy/Economy       0.79      0.29      0.43        75\n",
      "            Sports       0.71      0.46      0.56        69\n",
      "              Food       0.91      0.68      0.78        75\n",
      "               AMA       0.00      0.00      0.00         4\n",
      "\n",
      "          accuracy                           0.55       762\n",
      "         macro avg       0.61      0.51      0.50       762\n",
      "      weighted avg       0.67      0.55      0.54       762\n",
      "\n"
     ]
    },
    {
     "name": "stderr",
     "output_type": "stream",
     "text": [
      "/usr/local/anaconda3/lib/python3.7/site-packages/sklearn/metrics/classification.py:1437: UndefinedMetricWarning:\n",
      "\n",
      "Precision and F-score are ill-defined and being set to 0.0 in labels with no predicted samples.\n",
      "\n"
     ]
    },
    {
     "name": "stdout",
     "output_type": "stream",
     "text": [
      "training accuracy 0.8450704225352113\n",
      "                    precision    recall  f1-score   support\n",
      "\n",
      "          AskIndia       0.91      0.90      0.91       145\n",
      "     Non-Political       0.68      0.90      0.77       167\n",
      "     [R]eddiquette       0.84      0.91      0.87       158\n",
      "         Scheduled       0.88      0.90      0.89       177\n",
      "       Photography       0.99      0.53      0.69       142\n",
      "Science/Technology       0.90      0.86      0.88       156\n",
      "          Politics       0.77      0.93      0.84       160\n",
      "  Business/Finance       0.73      0.98      0.84       180\n",
      "    Policy/Economy       0.96      0.65      0.78       161\n",
      "            Sports       0.95      0.88      0.91       153\n",
      "              Food       0.98      0.88      0.93       162\n",
      "               AMA       0.00      0.00      0.00        14\n",
      "\n",
      "          accuracy                           0.85      1775\n",
      "         macro avg       0.80      0.78      0.78      1775\n",
      "      weighted avg       0.86      0.85      0.84      1775\n",
      "\n",
      "Results of Linear Support Vector Machine\n",
      "testing accuracy 0.7493438320209974\n",
      "                    precision    recall  f1-score   support\n",
      "\n",
      "          AskIndia       0.85      0.85      0.85        67\n",
      "     Non-Political       0.69      0.59      0.64        61\n",
      "     [R]eddiquette       0.71      0.63      0.67        76\n",
      "         Scheduled       0.81      0.84      0.83        68\n",
      "       Photography       0.90      0.62      0.73        73\n",
      "Science/Technology       0.72      0.85      0.78        65\n",
      "          Politics       0.59      0.69      0.64        61\n",
      "  Business/Finance       0.75      0.88      0.81        68\n",
      "    Policy/Economy       0.74      0.64      0.69        75\n",
      "            Sports       0.67      0.84      0.75        69\n",
      "              Food       0.85      0.85      0.85        75\n",
      "               AMA       0.50      0.25      0.33         4\n",
      "\n",
      "          accuracy                           0.75       762\n",
      "         macro avg       0.73      0.71      0.71       762\n",
      "      weighted avg       0.76      0.75      0.75       762\n",
      "\n",
      "training accuracy 0.9605633802816902\n",
      "                    precision    recall  f1-score   support\n",
      "\n",
      "          AskIndia       0.97      0.97      0.97       145\n",
      "     Non-Political       1.00      0.94      0.97       167\n",
      "     [R]eddiquette       0.95      0.96      0.95       158\n",
      "         Scheduled       0.95      0.98      0.96       177\n",
      "       Photography       0.99      0.99      0.99       142\n",
      "Science/Technology       0.92      0.98      0.95       156\n",
      "          Politics       0.93      0.94      0.94       160\n",
      "  Business/Finance       0.96      0.98      0.97       180\n",
      "    Policy/Economy       0.99      0.86      0.92       161\n",
      "            Sports       0.94      0.99      0.97       153\n",
      "              Food       0.98      0.99      0.98       162\n",
      "               AMA       1.00      0.86      0.92        14\n",
      "\n",
      "          accuracy                           0.96      1775\n",
      "         macro avg       0.96      0.95      0.96      1775\n",
      "      weighted avg       0.96      0.96      0.96      1775\n",
      "\n",
      "Results of Logistic Regression\n"
     ]
    },
    {
     "name": "stderr",
     "output_type": "stream",
     "text": [
      "/usr/local/anaconda3/lib/python3.7/site-packages/sklearn/linear_model/logistic.py:432: FutureWarning:\n",
      "\n",
      "Default solver will be changed to 'lbfgs' in 0.22. Specify a solver to silence this warning.\n",
      "\n",
      "/usr/local/anaconda3/lib/python3.7/site-packages/sklearn/linear_model/logistic.py:469: FutureWarning:\n",
      "\n",
      "Default multi_class will be changed to 'auto' in 0.22. Specify the multi_class option to silence this warning.\n",
      "\n"
     ]
    },
    {
     "name": "stdout",
     "output_type": "stream",
     "text": [
      "testing accuracy 0.7230971128608924\n",
      "                    precision    recall  f1-score   support\n",
      "\n",
      "          AskIndia       0.84      0.76      0.80        67\n",
      "     Non-Political       0.59      0.72      0.65        61\n",
      "     [R]eddiquette       0.66      0.62      0.64        76\n",
      "         Scheduled       0.85      0.76      0.81        68\n",
      "       Photography       0.90      0.62      0.73        73\n",
      "Science/Technology       0.69      0.75      0.72        65\n",
      "          Politics       0.54      0.62      0.58        61\n",
      "  Business/Finance       0.72      0.87      0.79        68\n",
      "    Policy/Economy       0.71      0.64      0.67        75\n",
      "            Sports       0.71      0.80      0.75        69\n",
      "              Food       0.86      0.83      0.84        75\n",
      "               AMA       0.50      0.25      0.33         4\n",
      "\n",
      "          accuracy                           0.72       762\n",
      "         macro avg       0.71      0.69      0.69       762\n",
      "      weighted avg       0.74      0.72      0.72       762\n",
      "\n",
      "training accuracy 0.976338028169014\n",
      "                    precision    recall  f1-score   support\n",
      "\n",
      "          AskIndia       0.99      1.00      0.99       145\n",
      "     Non-Political       0.99      0.98      0.98       167\n",
      "     [R]eddiquette       0.97      0.97      0.97       158\n",
      "         Scheduled       0.99      0.98      0.98       177\n",
      "       Photography       0.99      0.99      0.99       142\n",
      "Science/Technology       0.95      0.98      0.97       156\n",
      "          Politics       0.96      0.95      0.96       160\n",
      "  Business/Finance       0.96      0.99      0.98       180\n",
      "    Policy/Economy       0.97      0.91      0.94       161\n",
      "            Sports       0.98      0.99      0.99       153\n",
      "              Food       0.99      0.99      0.99       162\n",
      "               AMA       1.00      1.00      1.00        14\n",
      "\n",
      "          accuracy                           0.98      1775\n",
      "         macro avg       0.98      0.98      0.98      1775\n",
      "      weighted avg       0.98      0.98      0.98      1775\n",
      "\n",
      "Results of Random Forest\n",
      "test accuracy 0.7716535433070866\n",
      "                    precision    recall  f1-score   support\n",
      "\n",
      "          AskIndia       0.85      0.91      0.88        67\n",
      "     Non-Political       0.69      0.80      0.74        61\n",
      "     [R]eddiquette       0.72      0.68      0.70        76\n",
      "         Scheduled       0.87      0.78      0.82        68\n",
      "       Photography       0.85      0.73      0.79        73\n",
      "Science/Technology       0.72      0.82      0.76        65\n",
      "          Politics       0.56      0.61      0.58        61\n",
      "  Business/Finance       0.69      0.90      0.78        68\n",
      "    Policy/Economy       0.89      0.63      0.73        75\n",
      "            Sports       0.76      0.83      0.79        69\n",
      "              Food       0.97      0.85      0.91        75\n",
      "               AMA       0.50      0.25      0.33         4\n",
      "\n",
      "          accuracy                           0.77       762\n",
      "         macro avg       0.76      0.73      0.74       762\n",
      "      weighted avg       0.78      0.77      0.77       762\n",
      "\n",
      "train accuracy 0.976338028169014\n",
      "                    precision    recall  f1-score   support\n",
      "\n",
      "          AskIndia       0.99      1.00      0.99       145\n",
      "     Non-Political       0.99      0.98      0.98       167\n",
      "     [R]eddiquette       0.97      0.97      0.97       158\n",
      "         Scheduled       0.99      0.97      0.98       177\n",
      "       Photography       0.99      0.99      0.99       142\n",
      "Science/Technology       0.96      0.97      0.97       156\n",
      "          Politics       0.95      0.96      0.95       160\n",
      "  Business/Finance       0.97      0.99      0.98       180\n",
      "    Policy/Economy       0.96      0.92      0.94       161\n",
      "            Sports       0.98      0.99      0.99       153\n",
      "              Food       0.99      0.99      0.99       162\n",
      "               AMA       1.00      1.00      1.00        14\n",
      "\n",
      "          accuracy                           0.98      1775\n",
      "         macro avg       0.98      0.98      0.98      1775\n",
      "      weighted avg       0.98      0.98      0.98      1775\n",
      "\n",
      "Results of MLP Classifier\n",
      "testing accuracy 0.5026246719160105\n",
      "                    precision    recall  f1-score   support\n",
      "\n",
      "          AskIndia       0.76      0.46      0.57        67\n",
      "     Non-Political       0.26      0.28      0.27        61\n",
      "     [R]eddiquette       0.66      0.50      0.57        76\n",
      "         Scheduled       0.43      0.76      0.55        68\n",
      "       Photography       0.79      0.15      0.25        73\n",
      "Science/Technology       0.70      0.48      0.57        65\n",
      "          Politics       0.37      0.52      0.44        61\n",
      "  Business/Finance       0.34      0.85      0.49        68\n",
      "    Policy/Economy       0.54      0.45      0.49        75\n",
      "            Sports       0.72      0.49      0.59        69\n",
      "              Food       0.92      0.59      0.72        75\n",
      "               AMA       0.50      0.25      0.33         4\n",
      "\n",
      "          accuracy                           0.50       762\n",
      "         macro avg       0.58      0.48      0.49       762\n",
      "      weighted avg       0.60      0.50      0.50       762\n",
      "\n",
      "training accuracy 0.976338028169014\n",
      "                    precision    recall  f1-score   support\n",
      "\n",
      "          AskIndia       0.99      0.99      0.99       145\n",
      "     Non-Political       0.98      0.99      0.99       167\n",
      "     [R]eddiquette       0.96      0.97      0.97       158\n",
      "         Scheduled       0.98      0.98      0.98       177\n",
      "       Photography       0.99      0.99      0.99       142\n",
      "Science/Technology       0.93      1.00      0.97       156\n",
      "          Politics       0.94      0.97      0.95       160\n",
      "  Business/Finance       0.97      0.99      0.98       180\n",
      "    Policy/Economy       0.99      0.89      0.94       161\n",
      "            Sports       0.99      0.99      0.99       153\n",
      "              Food       1.00      0.98      0.99       162\n",
      "               AMA       1.00      1.00      1.00        14\n",
      "\n",
      "          accuracy                           0.98      1775\n",
      "         macro avg       0.98      0.98      0.98      1775\n",
      "      weighted avg       0.98      0.98      0.98      1775\n",
      "\n",
      "Results of Neural Network Classifier with Dense Hidden Layer\n",
      "Train on 1189 samples, validate on 586 samples\n",
      "Epoch 1/100\n",
      "1189/1189 [==============================] - 0s 222us/sample - loss: 2.4680 - accuracy: 0.0959 - val_loss: 2.4394 - val_accuracy: 0.1263\n",
      "Epoch 2/100\n",
      "1189/1189 [==============================] - 0s 48us/sample - loss: 2.4192 - accuracy: 0.1632 - val_loss: 2.4101 - val_accuracy: 0.1689\n",
      "Epoch 3/100\n",
      "1189/1189 [==============================] - 0s 49us/sample - loss: 2.3874 - accuracy: 0.2103 - val_loss: 2.3852 - val_accuracy: 0.2201\n",
      "Epoch 4/100\n",
      "1189/1189 [==============================] - 0s 48us/sample - loss: 2.3628 - accuracy: 0.2338 - val_loss: 2.3614 - val_accuracy: 0.2765\n",
      "Epoch 5/100\n",
      "1189/1189 [==============================] - 0s 48us/sample - loss: 2.3359 - accuracy: 0.2279 - val_loss: 2.3381 - val_accuracy: 0.2969\n",
      "Epoch 6/100\n",
      "1189/1189 [==============================] - 0s 48us/sample - loss: 2.3125 - accuracy: 0.3793 - val_loss: 2.3165 - val_accuracy: 0.4317\n",
      "Epoch 7/100\n",
      "1189/1189 [==============================] - 0s 48us/sample - loss: 2.2849 - accuracy: 0.4424 - val_loss: 2.2883 - val_accuracy: 0.4608\n",
      "Epoch 8/100\n",
      "1189/1189 [==============================] - 0s 47us/sample - loss: 2.2587 - accuracy: 0.4079 - val_loss: 2.2676 - val_accuracy: 0.4488\n",
      "Epoch 9/100\n",
      "1189/1189 [==============================] - 0s 48us/sample - loss: 2.2312 - accuracy: 0.4701 - val_loss: 2.2413 - val_accuracy: 0.4881\n",
      "Epoch 10/100\n",
      "1189/1189 [==============================] - 0s 48us/sample - loss: 2.2023 - accuracy: 0.5542 - val_loss: 2.2191 - val_accuracy: 0.5188\n",
      "Epoch 11/100\n",
      "1189/1189 [==============================] - 0s 49us/sample - loss: 2.1735 - accuracy: 0.4996 - val_loss: 2.1906 - val_accuracy: 0.5119\n",
      "Epoch 12/100\n",
      "1189/1189 [==============================] - 0s 52us/sample - loss: 2.1434 - accuracy: 0.5551 - val_loss: 2.1597 - val_accuracy: 0.5631\n",
      "Epoch 13/100\n",
      "1189/1189 [==============================] - 0s 52us/sample - loss: 2.1083 - accuracy: 0.5198 - val_loss: 2.1305 - val_accuracy: 0.5495\n",
      "Epoch 14/100\n",
      "1189/1189 [==============================] - 0s 52us/sample - loss: 2.0773 - accuracy: 0.5904 - val_loss: 2.1005 - val_accuracy: 0.5802\n"
     ]
    },
    {
     "name": "stdout",
     "output_type": "stream",
     "text": [
      "Epoch 15/100\n",
      "1189/1189 [==============================] - 0s 53us/sample - loss: 2.0401 - accuracy: 0.6266 - val_loss: 2.0663 - val_accuracy: 0.5939\n",
      "Epoch 16/100\n",
      "1189/1189 [==============================] - 0s 53us/sample - loss: 2.0039 - accuracy: 0.6283 - val_loss: 2.0293 - val_accuracy: 0.6143\n",
      "Epoch 17/100\n",
      "1189/1189 [==============================] - 0s 52us/sample - loss: 1.9674 - accuracy: 0.6560 - val_loss: 1.9986 - val_accuracy: 0.6177\n",
      "Epoch 18/100\n",
      "1189/1189 [==============================] - 0s 51us/sample - loss: 1.9233 - accuracy: 0.6518 - val_loss: 1.9607 - val_accuracy: 0.6246\n",
      "Epoch 19/100\n",
      "1189/1189 [==============================] - 0s 51us/sample - loss: 1.8841 - accuracy: 0.6728 - val_loss: 1.9297 - val_accuracy: 0.6314\n",
      "Epoch 20/100\n",
      "1189/1189 [==============================] - 0s 51us/sample - loss: 1.8413 - accuracy: 0.6922 - val_loss: 1.8895 - val_accuracy: 0.6280\n",
      "Epoch 21/100\n",
      "1189/1189 [==============================] - 0s 52us/sample - loss: 1.8030 - accuracy: 0.6997 - val_loss: 1.8520 - val_accuracy: 0.6382\n",
      "Epoch 22/100\n",
      "1189/1189 [==============================] - 0s 51us/sample - loss: 1.7599 - accuracy: 0.7132 - val_loss: 1.8185 - val_accuracy: 0.6416\n",
      "Epoch 23/100\n",
      "1189/1189 [==============================] - 0s 47us/sample - loss: 1.7188 - accuracy: 0.7056 - val_loss: 1.7784 - val_accuracy: 0.6451\n",
      "Epoch 24/100\n",
      "1189/1189 [==============================] - 0s 46us/sample - loss: 1.6781 - accuracy: 0.7216 - val_loss: 1.7495 - val_accuracy: 0.6451\n",
      "Epoch 25/100\n",
      "1189/1189 [==============================] - 0s 47us/sample - loss: 1.6358 - accuracy: 0.7275 - val_loss: 1.7098 - val_accuracy: 0.6536\n",
      "Epoch 26/100\n",
      "1189/1189 [==============================] - 0s 46us/sample - loss: 1.5926 - accuracy: 0.7368 - val_loss: 1.6736 - val_accuracy: 0.6553\n",
      "Epoch 27/100\n",
      "1189/1189 [==============================] - 0s 46us/sample - loss: 1.5566 - accuracy: 0.7359 - val_loss: 1.6405 - val_accuracy: 0.6587\n",
      "Epoch 28/100\n",
      "1189/1189 [==============================] - 0s 47us/sample - loss: 1.5168 - accuracy: 0.7536 - val_loss: 1.6150 - val_accuracy: 0.6587\n",
      "Epoch 29/100\n",
      "1189/1189 [==============================] - 0s 49us/sample - loss: 1.4819 - accuracy: 0.7233 - val_loss: 1.5769 - val_accuracy: 0.6519\n",
      "Epoch 30/100\n",
      "1189/1189 [==============================] - 0s 50us/sample - loss: 1.4449 - accuracy: 0.7527 - val_loss: 1.5456 - val_accuracy: 0.6809\n",
      "Epoch 31/100\n",
      "1189/1189 [==============================] - 0s 51us/sample - loss: 1.4052 - accuracy: 0.7502 - val_loss: 1.5188 - val_accuracy: 0.6672\n",
      "Epoch 32/100\n",
      "1189/1189 [==============================] - 0s 51us/sample - loss: 1.3694 - accuracy: 0.7569 - val_loss: 1.4895 - val_accuracy: 0.6741\n",
      "Epoch 33/100\n",
      "1189/1189 [==============================] - 0s 57us/sample - loss: 1.3317 - accuracy: 0.7696 - val_loss: 1.4638 - val_accuracy: 0.6758\n",
      "Epoch 34/100\n",
      "1189/1189 [==============================] - 0s 58us/sample - loss: 1.3041 - accuracy: 0.7477 - val_loss: 1.4397 - val_accuracy: 0.6672\n",
      "Epoch 35/100\n",
      "1189/1189 [==============================] - 0s 47us/sample - loss: 1.2705 - accuracy: 0.7712 - val_loss: 1.4181 - val_accuracy: 0.6809\n",
      "Epoch 36/100\n",
      "1189/1189 [==============================] - 0s 46us/sample - loss: 1.2395 - accuracy: 0.7712 - val_loss: 1.3879 - val_accuracy: 0.6826\n",
      "Epoch 37/100\n",
      "1189/1189 [==============================] - 0s 46us/sample - loss: 1.2147 - accuracy: 0.7679 - val_loss: 1.3754 - val_accuracy: 0.6826\n",
      "Epoch 38/100\n",
      "1189/1189 [==============================] - 0s 46us/sample - loss: 1.1859 - accuracy: 0.7670 - val_loss: 1.3535 - val_accuracy: 0.6809\n",
      "Epoch 39/100\n",
      "1189/1189 [==============================] - 0s 46us/sample - loss: 1.1594 - accuracy: 0.7696 - val_loss: 1.3303 - val_accuracy: 0.6911\n",
      "Epoch 40/100\n",
      "1189/1189 [==============================] - 0s 47us/sample - loss: 1.1341 - accuracy: 0.7738 - val_loss: 1.3066 - val_accuracy: 0.6945\n",
      "Epoch 41/100\n",
      "1189/1189 [==============================] - 0s 51us/sample - loss: 1.1116 - accuracy: 0.7780 - val_loss: 1.2989 - val_accuracy: 0.6877\n",
      "Epoch 42/100\n",
      "1189/1189 [==============================] - 0s 51us/sample - loss: 1.0907 - accuracy: 0.7796 - val_loss: 1.2788 - val_accuracy: 0.6911\n",
      "Epoch 43/100\n",
      "1189/1189 [==============================] - 0s 51us/sample - loss: 1.0679 - accuracy: 0.7881 - val_loss: 1.2672 - val_accuracy: 0.6877\n",
      "Epoch 44/100\n",
      "1189/1189 [==============================] - 0s 51us/sample - loss: 1.0444 - accuracy: 0.7889 - val_loss: 1.2498 - val_accuracy: 0.6928\n",
      "Epoch 45/100\n",
      "1189/1189 [==============================] - 0s 51us/sample - loss: 1.0282 - accuracy: 0.7855 - val_loss: 1.2281 - val_accuracy: 0.6997\n",
      "Epoch 46/100\n",
      "1189/1189 [==============================] - 0s 51us/sample - loss: 1.0043 - accuracy: 0.7906 - val_loss: 1.2173 - val_accuracy: 0.6945\n",
      "Epoch 47/100\n",
      "1189/1189 [==============================] - 0s 47us/sample - loss: 0.9837 - accuracy: 0.7981 - val_loss: 1.2053 - val_accuracy: 0.7031\n",
      "Epoch 48/100\n",
      "1189/1189 [==============================] - 0s 46us/sample - loss: 0.9665 - accuracy: 0.8158 - val_loss: 1.1972 - val_accuracy: 0.6911\n",
      "Epoch 49/100\n",
      "1189/1189 [==============================] - 0s 47us/sample - loss: 0.9507 - accuracy: 0.8032 - val_loss: 1.1893 - val_accuracy: 0.6945\n",
      "Epoch 50/100\n",
      "1189/1189 [==============================] - 0s 47us/sample - loss: 0.9333 - accuracy: 0.8032 - val_loss: 1.1752 - val_accuracy: 0.6962\n",
      "Epoch 51/100\n",
      "1189/1189 [==============================] - 0s 47us/sample - loss: 0.9212 - accuracy: 0.8049 - val_loss: 1.1687 - val_accuracy: 0.6962\n",
      "Epoch 52/100\n",
      "1189/1189 [==============================] - 0s 52us/sample - loss: 0.9019 - accuracy: 0.7973 - val_loss: 1.1523 - val_accuracy: 0.7048\n",
      "Epoch 53/100\n",
      "1189/1189 [==============================] - 0s 51us/sample - loss: 0.8887 - accuracy: 0.8091 - val_loss: 1.1375 - val_accuracy: 0.7133\n",
      "Epoch 54/100\n",
      "1189/1189 [==============================] - 0s 52us/sample - loss: 0.8731 - accuracy: 0.8066 - val_loss: 1.1361 - val_accuracy: 0.6997\n",
      "Epoch 55/100\n",
      "1189/1189 [==============================] - 0s 51us/sample - loss: 0.8541 - accuracy: 0.8082 - val_loss: 1.1202 - val_accuracy: 0.7099\n",
      "Epoch 56/100\n",
      "1189/1189 [==============================] - 0s 53us/sample - loss: 0.8436 - accuracy: 0.8040 - val_loss: 1.1098 - val_accuracy: 0.7116\n",
      "Epoch 57/100\n",
      "1189/1189 [==============================] - 0s 48us/sample - loss: 0.8297 - accuracy: 0.8141 - val_loss: 1.1088 - val_accuracy: 0.7065\n",
      "Epoch 58/100\n",
      "1189/1189 [==============================] - 0s 48us/sample - loss: 0.8132 - accuracy: 0.8200 - val_loss: 1.1079 - val_accuracy: 0.7048\n",
      "Epoch 59/100\n",
      "1189/1189 [==============================] - 0s 47us/sample - loss: 0.8029 - accuracy: 0.8192 - val_loss: 1.0953 - val_accuracy: 0.7099\n",
      "Epoch 60/100\n",
      "1189/1189 [==============================] - 0s 48us/sample - loss: 0.7986 - accuracy: 0.8150 - val_loss: 1.0911 - val_accuracy: 0.7065\n",
      "Epoch 61/100\n",
      "1189/1189 [==============================] - 0s 47us/sample - loss: 0.7846 - accuracy: 0.8175 - val_loss: 1.0814 - val_accuracy: 0.7167\n",
      "Epoch 62/100\n",
      "1189/1189 [==============================] - 0s 51us/sample - loss: 0.7718 - accuracy: 0.8318 - val_loss: 1.0865 - val_accuracy: 0.7116\n",
      "Epoch 63/100\n",
      "1189/1189 [==============================] - 0s 52us/sample - loss: 0.7586 - accuracy: 0.8234 - val_loss: 1.0796 - val_accuracy: 0.6962\n",
      "Epoch 64/100\n",
      "1189/1189 [==============================] - 0s 51us/sample - loss: 0.7469 - accuracy: 0.8259 - val_loss: 1.0687 - val_accuracy: 0.7031\n",
      "Epoch 65/100\n",
      "1189/1189 [==============================] - 0s 51us/sample - loss: 0.7397 - accuracy: 0.8284 - val_loss: 1.0569 - val_accuracy: 0.7133\n",
      "Epoch 66/100\n",
      "1189/1189 [==============================] - 0s 50us/sample - loss: 0.7257 - accuracy: 0.8242 - val_loss: 1.0566 - val_accuracy: 0.7065\n",
      "Epoch 67/100\n",
      "1189/1189 [==============================] - 0s 52us/sample - loss: 0.7121 - accuracy: 0.8368 - val_loss: 1.0488 - val_accuracy: 0.7116\n",
      "Epoch 68/100\n",
      "1189/1189 [==============================] - 0s 51us/sample - loss: 0.7054 - accuracy: 0.8276 - val_loss: 1.0468 - val_accuracy: 0.7167\n",
      "Epoch 69/100\n",
      "1189/1189 [==============================] - 0s 51us/sample - loss: 0.6978 - accuracy: 0.8377 - val_loss: 1.0455 - val_accuracy: 0.7014\n"
     ]
    },
    {
     "name": "stdout",
     "output_type": "stream",
     "text": [
      "Epoch 70/100\n",
      "1189/1189 [==============================] - 0s 49us/sample - loss: 0.6876 - accuracy: 0.8310 - val_loss: 1.0392 - val_accuracy: 0.7065\n",
      "Epoch 71/100\n",
      "1189/1189 [==============================] - 0s 51us/sample - loss: 0.6799 - accuracy: 0.8377 - val_loss: 1.0315 - val_accuracy: 0.7150\n",
      "Epoch 72/100\n",
      "1189/1189 [==============================] - 0s 51us/sample - loss: 0.6738 - accuracy: 0.8436 - val_loss: 1.0488 - val_accuracy: 0.6997\n",
      "Epoch 73/100\n",
      "1189/1189 [==============================] - 0s 50us/sample - loss: 0.6623 - accuracy: 0.8410 - val_loss: 1.0288 - val_accuracy: 0.7082\n",
      "Epoch 74/100\n",
      "1189/1189 [==============================] - 0s 49us/sample - loss: 0.6551 - accuracy: 0.8478 - val_loss: 1.0281 - val_accuracy: 0.6945\n",
      "Epoch 75/100\n",
      "1189/1189 [==============================] - 0s 49us/sample - loss: 0.6449 - accuracy: 0.8326 - val_loss: 1.0287 - val_accuracy: 0.6980\n",
      "Epoch 76/100\n",
      "1189/1189 [==============================] - 0s 50us/sample - loss: 0.6375 - accuracy: 0.8511 - val_loss: 1.0217 - val_accuracy: 0.7014\n",
      "Epoch 77/100\n",
      "1189/1189 [==============================] - 0s 49us/sample - loss: 0.6309 - accuracy: 0.8444 - val_loss: 1.0219 - val_accuracy: 0.7014\n",
      "Epoch 78/100\n",
      "1189/1189 [==============================] - 0s 50us/sample - loss: 0.6270 - accuracy: 0.8461 - val_loss: 1.0190 - val_accuracy: 0.6980\n",
      "Epoch 79/100\n",
      "1189/1189 [==============================] - 0s 49us/sample - loss: 0.6193 - accuracy: 0.8452 - val_loss: 1.0121 - val_accuracy: 0.7150\n",
      "Epoch 80/100\n",
      "1189/1189 [==============================] - 0s 50us/sample - loss: 0.6090 - accuracy: 0.8511 - val_loss: 1.0189 - val_accuracy: 0.7099\n",
      "Epoch 81/100\n",
      "1189/1189 [==============================] - 0s 47us/sample - loss: 0.6050 - accuracy: 0.8486 - val_loss: 1.0222 - val_accuracy: 0.6980\n",
      "Epoch 82/100\n",
      "1189/1189 [==============================] - 0s 51us/sample - loss: 0.5932 - accuracy: 0.8570 - val_loss: 1.0205 - val_accuracy: 0.7031\n",
      "Epoch 83/100\n",
      "1189/1189 [==============================] - 0s 50us/sample - loss: 0.5886 - accuracy: 0.8537 - val_loss: 1.0104 - val_accuracy: 0.7082\n",
      "Epoch 84/100\n",
      "1189/1189 [==============================] - 0s 50us/sample - loss: 0.5871 - accuracy: 0.8520 - val_loss: 1.0018 - val_accuracy: 0.7099\n",
      "Epoch 85/100\n",
      "1189/1189 [==============================] - 0s 51us/sample - loss: 0.5753 - accuracy: 0.8537 - val_loss: 1.0233 - val_accuracy: 0.7031\n",
      "Epoch 86/100\n",
      "1189/1189 [==============================] - 0s 51us/sample - loss: 0.5710 - accuracy: 0.8503 - val_loss: 1.0054 - val_accuracy: 0.7065\n",
      "Epoch 87/100\n",
      "1189/1189 [==============================] - 0s 51us/sample - loss: 0.5637 - accuracy: 0.8562 - val_loss: 1.0083 - val_accuracy: 0.7014\n",
      "Epoch 88/100\n",
      "1189/1189 [==============================] - 0s 51us/sample - loss: 0.5591 - accuracy: 0.8612 - val_loss: 0.9989 - val_accuracy: 0.7065\n",
      "Epoch 89/100\n",
      "1189/1189 [==============================] - 0s 51us/sample - loss: 0.5548 - accuracy: 0.8595 - val_loss: 1.0043 - val_accuracy: 0.7065\n",
      "Epoch 90/100\n",
      "1189/1189 [==============================] - 0s 50us/sample - loss: 0.5513 - accuracy: 0.8680 - val_loss: 1.0023 - val_accuracy: 0.7014\n",
      "Epoch 91/100\n",
      "1189/1189 [==============================] - 0s 51us/sample - loss: 0.5421 - accuracy: 0.8646 - val_loss: 1.0057 - val_accuracy: 0.7065\n",
      "Epoch 92/100\n",
      "1189/1189 [==============================] - 0s 51us/sample - loss: 0.5428 - accuracy: 0.8595 - val_loss: 0.9915 - val_accuracy: 0.7099\n",
      "Epoch 93/100\n",
      "1189/1189 [==============================] - 0s 50us/sample - loss: 0.5357 - accuracy: 0.8696 - val_loss: 0.9975 - val_accuracy: 0.7048\n",
      "Epoch 94/100\n",
      "1189/1189 [==============================] - 0s 52us/sample - loss: 0.5265 - accuracy: 0.8696 - val_loss: 1.0071 - val_accuracy: 0.6911\n",
      "Epoch 95/100\n",
      "1189/1189 [==============================] - 0s 51us/sample - loss: 0.5181 - accuracy: 0.8629 - val_loss: 1.0030 - val_accuracy: 0.7065\n",
      "Epoch 96/100\n",
      "1189/1189 [==============================] - 0s 50us/sample - loss: 0.5226 - accuracy: 0.8663 - val_loss: 0.9973 - val_accuracy: 0.7065\n",
      "Epoch 97/100\n",
      "1189/1189 [==============================] - 0s 51us/sample - loss: 0.5138 - accuracy: 0.8696 - val_loss: 1.0103 - val_accuracy: 0.7048\n",
      "Epoch 98/100\n",
      "1189/1189 [==============================] - 0s 51us/sample - loss: 0.5087 - accuracy: 0.8738 - val_loss: 0.9961 - val_accuracy: 0.7082\n",
      "Epoch 99/100\n",
      "1189/1189 [==============================] - 0s 51us/sample - loss: 0.5047 - accuracy: 0.8713 - val_loss: 0.9936 - val_accuracy: 0.7065\n",
      "Epoch 100/100\n",
      "1189/1189 [==============================] - 0s 51us/sample - loss: 0.4981 - accuracy: 0.8780 - val_loss: 0.9998 - val_accuracy: 0.7014\n"
     ]
    },
    {
     "data": {
      "image/png": "[encoded data removed]",
      "text/plain": [
       "<Figure size 432x288 with 1 Axes>"
      ]
     },
     "metadata": {
      "needs_background": "light"
     },
     "output_type": "display_data"
    },
    {
     "data": {
      "image/png": "[encoded data removed]",
      "text/plain": [
       "<Figure size 432x288 with 1 Axes>"
      ]
     },
     "metadata": {
      "needs_background": "light"
     },
     "output_type": "display_data"
    },
    {
     "name": "stdout",
     "output_type": "stream",
     "text": [
      "testing accuracy 0.7099737532808399\n",
      "                    precision    recall  f1-score   support\n",
      "\n",
      "          AskIndia       0.40      0.67      0.50        61\n",
      "     Non-Political       0.83      0.59      0.69        73\n",
      "     [R]eddiquette       0.50      0.25      0.33         4\n",
      "         Scheduled       0.71      0.60      0.65        75\n",
      "       Photography       0.77      0.75      0.76        65\n",
      "Science/Technology       0.71      0.80      0.75        69\n",
      "          Politics       0.75      0.88      0.81        68\n",
      "  Business/Finance       0.74      0.61      0.67        76\n",
      "    Policy/Economy       0.53      0.62      0.57        61\n",
      "            Sports       0.91      0.80      0.85        75\n",
      "              Food       0.84      0.79      0.82        68\n",
      "               AMA       0.88      0.73      0.80        67\n",
      "\n",
      "          accuracy                           0.71       762\n",
      "         macro avg       0.71      0.67      0.68       762\n",
      "      weighted avg       0.74      0.71      0.72       762\n",
      "\n",
      "training accuracy 0.8185915492957746\n",
      "                    precision    recall  f1-score   support\n",
      "\n",
      "          AskIndia       0.65      0.77      0.70       167\n",
      "     Non-Political       0.83      0.85      0.84       142\n",
      "     [R]eddiquette       1.00      0.57      0.73        14\n",
      "         Scheduled       0.82      0.74      0.78       161\n",
      "       Photography       0.91      0.83      0.87       156\n",
      "Science/Technology       0.80      0.88      0.84       153\n",
      "          Politics       0.78      0.91      0.84       180\n",
      "  Business/Finance       0.84      0.75      0.80       158\n",
      "    Policy/Economy       0.77      0.77      0.77       160\n",
      "            Sports       0.92      0.88      0.90       162\n",
      "              Food       0.84      0.85      0.84       177\n",
      "               AMA       0.92      0.81      0.86       145\n",
      "\n",
      "          accuracy                           0.82      1775\n",
      "         macro avg       0.84      0.80      0.81      1775\n",
      "      weighted avg       0.83      0.82      0.82      1775\n",
      "\n",
      "Results of Neural Network Classifier with Convolution Hidden Layer\n",
      "Train on 1189 samples, validate on 586 samples\n",
      "Epoch 1/100\n",
      "1189/1189 [==============================] - 0s 336us/sample - loss: 2.4656 - accuracy: 0.1060 - val_loss: 2.4401 - val_accuracy: 0.1416\n",
      "Epoch 2/100\n",
      "1189/1189 [==============================] - 0s 56us/sample - loss: 2.4149 - accuracy: 0.1901 - val_loss: 2.4095 - val_accuracy: 0.1980\n",
      "Epoch 3/100\n",
      "1189/1189 [==============================] - 0s 55us/sample - loss: 2.3857 - accuracy: 0.2330 - val_loss: 2.3841 - val_accuracy: 0.2372\n",
      "Epoch 4/100\n",
      "1189/1189 [==============================] - 0s 56us/sample - loss: 2.3590 - accuracy: 0.2742 - val_loss: 2.3617 - val_accuracy: 0.3003\n",
      "Epoch 5/100\n",
      "1189/1189 [==============================] - 0s 55us/sample - loss: 2.3330 - accuracy: 0.3465 - val_loss: 2.3381 - val_accuracy: 0.3020\n",
      "Epoch 6/100\n",
      "1189/1189 [==============================] - 0s 54us/sample - loss: 2.3050 - accuracy: 0.3802 - val_loss: 2.3156 - val_accuracy: 0.3857\n",
      "Epoch 7/100\n",
      "1189/1189 [==============================] - 0s 54us/sample - loss: 2.2794 - accuracy: 0.4861 - val_loss: 2.2915 - val_accuracy: 0.4181\n",
      "Epoch 8/100\n",
      "1189/1189 [==============================] - 0s 54us/sample - loss: 2.2525 - accuracy: 0.4315 - val_loss: 2.2696 - val_accuracy: 0.4556\n",
      "Epoch 9/100\n",
      "1189/1189 [==============================] - 0s 54us/sample - loss: 2.2252 - accuracy: 0.5080 - val_loss: 2.2421 - val_accuracy: 0.5085\n",
      "Epoch 10/100\n",
      "1189/1189 [==============================] - 0s 54us/sample - loss: 2.1934 - accuracy: 0.5854 - val_loss: 2.2151 - val_accuracy: 0.5085\n",
      "Epoch 11/100\n",
      "1189/1189 [==============================] - 0s 54us/sample - loss: 2.1661 - accuracy: 0.5736 - val_loss: 2.1882 - val_accuracy: 0.5068\n",
      "Epoch 12/100\n",
      "1189/1189 [==============================] - 0s 56us/sample - loss: 2.1339 - accuracy: 0.5854 - val_loss: 2.1570 - val_accuracy: 0.5631\n",
      "Epoch 13/100\n",
      "1189/1189 [==============================] - 0s 61us/sample - loss: 2.1007 - accuracy: 0.6249 - val_loss: 2.1299 - val_accuracy: 0.5427\n",
      "Epoch 14/100\n",
      "1189/1189 [==============================] - 0s 60us/sample - loss: 2.0708 - accuracy: 0.5971 - val_loss: 2.0984 - val_accuracy: 0.5751\n",
      "Epoch 15/100\n",
      "1189/1189 [==============================] - 0s 60us/sample - loss: 2.0303 - accuracy: 0.6510 - val_loss: 2.0661 - val_accuracy: 0.5853\n",
      "Epoch 16/100\n",
      "1189/1189 [==============================] - 0s 65us/sample - loss: 1.9927 - accuracy: 0.6543 - val_loss: 2.0357 - val_accuracy: 0.5870\n",
      "Epoch 17/100\n",
      "1189/1189 [==============================] - 0s 64us/sample - loss: 1.9552 - accuracy: 0.6518 - val_loss: 1.9962 - val_accuracy: 0.6041\n",
      "Epoch 18/100\n",
      "1189/1189 [==============================] - 0s 59us/sample - loss: 1.9183 - accuracy: 0.6712 - val_loss: 1.9651 - val_accuracy: 0.6007\n",
      "Epoch 19/100\n",
      "1189/1189 [==============================] - 0s 53us/sample - loss: 1.8774 - accuracy: 0.6796 - val_loss: 1.9253 - val_accuracy: 0.6263\n",
      "Epoch 20/100\n",
      "1189/1189 [==============================] - 0s 53us/sample - loss: 1.8363 - accuracy: 0.6796 - val_loss: 1.8917 - val_accuracy: 0.6331\n",
      "Epoch 21/100\n",
      "1189/1189 [==============================] - 0s 53us/sample - loss: 1.7920 - accuracy: 0.6939 - val_loss: 1.8527 - val_accuracy: 0.6297\n",
      "Epoch 22/100\n",
      "1189/1189 [==============================] - 0s 53us/sample - loss: 1.7527 - accuracy: 0.7014 - val_loss: 1.8207 - val_accuracy: 0.6331\n",
      "Epoch 23/100\n",
      "1189/1189 [==============================] - 0s 53us/sample - loss: 1.7102 - accuracy: 0.7023 - val_loss: 1.7841 - val_accuracy: 0.6399\n",
      "Epoch 24/100\n",
      "1189/1189 [==============================] - 0s 54us/sample - loss: 1.6714 - accuracy: 0.7149 - val_loss: 1.7501 - val_accuracy: 0.6382\n",
      "Epoch 25/100\n",
      "1189/1189 [==============================] - 0s 55us/sample - loss: 1.6254 - accuracy: 0.7098 - val_loss: 1.7095 - val_accuracy: 0.6604\n",
      "Epoch 26/100\n",
      "1189/1189 [==============================] - 0s 53us/sample - loss: 1.5906 - accuracy: 0.7426 - val_loss: 1.6764 - val_accuracy: 0.6672\n",
      "Epoch 27/100\n",
      "1189/1189 [==============================] - 0s 56us/sample - loss: 1.5495 - accuracy: 0.7267 - val_loss: 1.6420 - val_accuracy: 0.6655\n",
      "Epoch 28/100\n",
      "1189/1189 [==============================] - 0s 55us/sample - loss: 1.5057 - accuracy: 0.7401 - val_loss: 1.6097 - val_accuracy: 0.6672\n",
      "Epoch 29/100\n",
      "1189/1189 [==============================] - 0s 55us/sample - loss: 1.4664 - accuracy: 0.7586 - val_loss: 1.5839 - val_accuracy: 0.6587\n",
      "Epoch 30/100\n",
      "1189/1189 [==============================] - 0s 56us/sample - loss: 1.4315 - accuracy: 0.7317 - val_loss: 1.5522 - val_accuracy: 0.6689\n",
      "Epoch 31/100\n",
      "1189/1189 [==============================] - 0s 59us/sample - loss: 1.3961 - accuracy: 0.7586 - val_loss: 1.5214 - val_accuracy: 0.6689\n",
      "Epoch 32/100\n",
      "1189/1189 [==============================] - 0s 60us/sample - loss: 1.3667 - accuracy: 0.7410 - val_loss: 1.4892 - val_accuracy: 0.6843\n",
      "Epoch 33/100\n",
      "1189/1189 [==============================] - 0s 59us/sample - loss: 1.3311 - accuracy: 0.7561 - val_loss: 1.4693 - val_accuracy: 0.6724\n",
      "Epoch 34/100\n",
      "1189/1189 [==============================] - 0s 53us/sample - loss: 1.2989 - accuracy: 0.7544 - val_loss: 1.4396 - val_accuracy: 0.6877\n",
      "Epoch 35/100\n",
      "1189/1189 [==============================] - 0s 53us/sample - loss: 1.2674 - accuracy: 0.7679 - val_loss: 1.4216 - val_accuracy: 0.6741\n",
      "Epoch 36/100\n",
      "1189/1189 [==============================] - 0s 53us/sample - loss: 1.2420 - accuracy: 0.7679 - val_loss: 1.4013 - val_accuracy: 0.6655\n",
      "Epoch 37/100\n",
      "1189/1189 [==============================] - 0s 53us/sample - loss: 1.2096 - accuracy: 0.7670 - val_loss: 1.3725 - val_accuracy: 0.6877\n",
      "Epoch 38/100\n",
      "1189/1189 [==============================] - 0s 53us/sample - loss: 1.1835 - accuracy: 0.7645 - val_loss: 1.3517 - val_accuracy: 0.6877\n",
      "Epoch 39/100\n",
      "1189/1189 [==============================] - 0s 53us/sample - loss: 1.1597 - accuracy: 0.7796 - val_loss: 1.3327 - val_accuracy: 0.6809\n",
      "Epoch 40/100\n",
      "1189/1189 [==============================] - 0s 53us/sample - loss: 1.1351 - accuracy: 0.7796 - val_loss: 1.3185 - val_accuracy: 0.6809\n",
      "Epoch 41/100\n",
      "1189/1189 [==============================] - 0s 53us/sample - loss: 1.1117 - accuracy: 0.7771 - val_loss: 1.2955 - val_accuracy: 0.6894\n"
     ]
    },
    {
     "name": "stdout",
     "output_type": "stream",
     "text": [
      "Epoch 42/100\n",
      "1189/1189 [==============================] - 0s 53us/sample - loss: 1.0871 - accuracy: 0.7822 - val_loss: 1.2811 - val_accuracy: 0.6843\n",
      "Epoch 43/100\n",
      "1189/1189 [==============================] - 0s 53us/sample - loss: 1.0611 - accuracy: 0.7931 - val_loss: 1.2672 - val_accuracy: 0.6860\n",
      "Epoch 44/100\n",
      "1189/1189 [==============================] - 0s 52us/sample - loss: 1.0419 - accuracy: 0.7839 - val_loss: 1.2451 - val_accuracy: 0.7048\n",
      "Epoch 45/100\n",
      "1189/1189 [==============================] - 0s 52us/sample - loss: 1.0191 - accuracy: 0.7914 - val_loss: 1.2413 - val_accuracy: 0.6860\n",
      "Epoch 46/100\n",
      "1189/1189 [==============================] - 0s 53us/sample - loss: 1.0042 - accuracy: 0.7948 - val_loss: 1.2246 - val_accuracy: 0.6962\n",
      "Epoch 47/100\n",
      "1189/1189 [==============================] - 0s 52us/sample - loss: 0.9832 - accuracy: 0.7906 - val_loss: 1.2174 - val_accuracy: 0.6809\n",
      "Epoch 48/100\n",
      "1189/1189 [==============================] - 0s 53us/sample - loss: 0.9666 - accuracy: 0.7965 - val_loss: 1.2009 - val_accuracy: 0.6980\n",
      "Epoch 49/100\n",
      "1189/1189 [==============================] - 0s 53us/sample - loss: 0.9491 - accuracy: 0.7914 - val_loss: 1.1838 - val_accuracy: 0.7082\n",
      "Epoch 50/100\n",
      "1189/1189 [==============================] - 0s 52us/sample - loss: 0.9269 - accuracy: 0.8040 - val_loss: 1.1782 - val_accuracy: 0.6928\n",
      "Epoch 51/100\n",
      "1189/1189 [==============================] - 0s 52us/sample - loss: 0.9157 - accuracy: 0.7981 - val_loss: 1.1650 - val_accuracy: 0.6962\n",
      "Epoch 52/100\n",
      "1189/1189 [==============================] - 0s 52us/sample - loss: 0.8951 - accuracy: 0.7939 - val_loss: 1.1470 - val_accuracy: 0.7150\n",
      "Epoch 53/100\n",
      "1189/1189 [==============================] - 0s 52us/sample - loss: 0.8820 - accuracy: 0.8074 - val_loss: 1.1655 - val_accuracy: 0.6843\n",
      "Epoch 54/100\n",
      "1189/1189 [==============================] - 0s 52us/sample - loss: 0.8652 - accuracy: 0.8150 - val_loss: 1.1335 - val_accuracy: 0.7082\n",
      "Epoch 55/100\n",
      "1189/1189 [==============================] - 0s 53us/sample - loss: 0.8547 - accuracy: 0.8057 - val_loss: 1.1389 - val_accuracy: 0.6911\n",
      "Epoch 56/100\n",
      "1189/1189 [==============================] - 0s 58us/sample - loss: 0.8455 - accuracy: 0.8066 - val_loss: 1.1296 - val_accuracy: 0.7048\n",
      "Epoch 57/100\n",
      "1189/1189 [==============================] - 0s 58us/sample - loss: 0.8286 - accuracy: 0.8099 - val_loss: 1.1199 - val_accuracy: 0.7031\n",
      "Epoch 58/100\n",
      "1189/1189 [==============================] - 0s 61us/sample - loss: 0.8242 - accuracy: 0.8141 - val_loss: 1.1145 - val_accuracy: 0.6997\n",
      "Epoch 59/100\n",
      "1189/1189 [==============================] - 0s 56us/sample - loss: 0.8043 - accuracy: 0.8234 - val_loss: 1.0926 - val_accuracy: 0.7167\n",
      "Epoch 60/100\n",
      "1189/1189 [==============================] - 0s 54us/sample - loss: 0.7895 - accuracy: 0.8217 - val_loss: 1.1111 - val_accuracy: 0.6962\n",
      "Epoch 61/100\n",
      "1189/1189 [==============================] - 0s 53us/sample - loss: 0.7814 - accuracy: 0.8167 - val_loss: 1.0827 - val_accuracy: 0.7099\n",
      "Epoch 62/100\n",
      "1189/1189 [==============================] - 0s 52us/sample - loss: 0.7726 - accuracy: 0.8175 - val_loss: 1.0763 - val_accuracy: 0.7014\n",
      "Epoch 63/100\n",
      "1189/1189 [==============================] - 0s 52us/sample - loss: 0.7563 - accuracy: 0.8217 - val_loss: 1.0814 - val_accuracy: 0.7116\n",
      "Epoch 64/100\n",
      "1189/1189 [==============================] - 0s 52us/sample - loss: 0.7507 - accuracy: 0.8242 - val_loss: 1.0707 - val_accuracy: 0.7014\n",
      "Epoch 65/100\n",
      "1189/1189 [==============================] - 0s 52us/sample - loss: 0.7388 - accuracy: 0.8335 - val_loss: 1.0660 - val_accuracy: 0.7065\n",
      "Epoch 66/100\n",
      "1189/1189 [==============================] - 0s 52us/sample - loss: 0.7319 - accuracy: 0.8225 - val_loss: 1.0683 - val_accuracy: 0.6997\n",
      "Epoch 67/100\n",
      "1189/1189 [==============================] - 0s 52us/sample - loss: 0.7196 - accuracy: 0.8259 - val_loss: 1.0564 - val_accuracy: 0.7048\n",
      "Epoch 68/100\n",
      "1189/1189 [==============================] - 0s 54us/sample - loss: 0.7082 - accuracy: 0.8326 - val_loss: 1.0562 - val_accuracy: 0.7048\n",
      "Epoch 69/100\n",
      "1189/1189 [==============================] - 0s 52us/sample - loss: 0.6982 - accuracy: 0.8301 - val_loss: 1.0585 - val_accuracy: 0.7082\n",
      "Epoch 70/100\n",
      "1189/1189 [==============================] - 0s 52us/sample - loss: 0.6876 - accuracy: 0.8326 - val_loss: 1.0414 - val_accuracy: 0.7167\n",
      "Epoch 71/100\n",
      "1189/1189 [==============================] - 0s 52us/sample - loss: 0.6804 - accuracy: 0.8419 - val_loss: 1.0456 - val_accuracy: 0.7031\n",
      "Epoch 72/100\n",
      "1189/1189 [==============================] - 0s 52us/sample - loss: 0.6698 - accuracy: 0.8394 - val_loss: 1.0424 - val_accuracy: 0.7065\n",
      "Epoch 73/100\n",
      "1189/1189 [==============================] - 0s 52us/sample - loss: 0.6630 - accuracy: 0.8427 - val_loss: 1.0542 - val_accuracy: 0.7014\n",
      "Epoch 74/100\n",
      "1189/1189 [==============================] - 0s 52us/sample - loss: 0.6551 - accuracy: 0.8377 - val_loss: 1.0363 - val_accuracy: 0.7048\n",
      "Epoch 75/100\n",
      "1189/1189 [==============================] - 0s 52us/sample - loss: 0.6502 - accuracy: 0.8377 - val_loss: 1.0373 - val_accuracy: 0.7065\n",
      "Epoch 76/100\n",
      "1189/1189 [==============================] - 0s 53us/sample - loss: 0.6408 - accuracy: 0.8427 - val_loss: 1.0278 - val_accuracy: 0.7065\n",
      "Epoch 77/100\n",
      "1189/1189 [==============================] - 0s 52us/sample - loss: 0.6307 - accuracy: 0.8486 - val_loss: 1.0320 - val_accuracy: 0.6945\n",
      "Epoch 78/100\n",
      "1189/1189 [==============================] - 0s 52us/sample - loss: 0.6187 - accuracy: 0.8528 - val_loss: 1.0183 - val_accuracy: 0.7031\n",
      "Epoch 79/100\n",
      "1189/1189 [==============================] - 0s 52us/sample - loss: 0.6162 - accuracy: 0.8410 - val_loss: 1.0233 - val_accuracy: 0.7099\n",
      "Epoch 80/100\n",
      "1189/1189 [==============================] - 0s 53us/sample - loss: 0.6147 - accuracy: 0.8511 - val_loss: 1.0234 - val_accuracy: 0.7031\n",
      "Epoch 81/100\n",
      "1189/1189 [==============================] - 0s 52us/sample - loss: 0.6049 - accuracy: 0.8511 - val_loss: 1.0205 - val_accuracy: 0.7048\n",
      "Epoch 82/100\n",
      "1189/1189 [==============================] - 0s 52us/sample - loss: 0.5961 - accuracy: 0.8503 - val_loss: 1.0233 - val_accuracy: 0.7065\n",
      "Epoch 83/100\n",
      "1189/1189 [==============================] - 0s 53us/sample - loss: 0.5919 - accuracy: 0.8570 - val_loss: 1.0167 - val_accuracy: 0.6945\n",
      "Epoch 84/100\n",
      "1189/1189 [==============================] - 0s 52us/sample - loss: 0.5857 - accuracy: 0.8604 - val_loss: 1.0180 - val_accuracy: 0.7082\n",
      "Epoch 85/100\n",
      "1189/1189 [==============================] - 0s 52us/sample - loss: 0.5751 - accuracy: 0.8646 - val_loss: 1.0106 - val_accuracy: 0.7082\n",
      "Epoch 86/100\n",
      "1189/1189 [==============================] - 0s 52us/sample - loss: 0.5773 - accuracy: 0.8638 - val_loss: 1.0138 - val_accuracy: 0.7133\n",
      "Epoch 87/100\n",
      "1189/1189 [==============================] - 0s 53us/sample - loss: 0.5622 - accuracy: 0.8570 - val_loss: 1.0104 - val_accuracy: 0.7133\n",
      "Epoch 88/100\n",
      "1189/1189 [==============================] - 0s 52us/sample - loss: 0.5518 - accuracy: 0.8747 - val_loss: 1.0136 - val_accuracy: 0.7116\n",
      "Epoch 89/100\n",
      "1189/1189 [==============================] - 0s 52us/sample - loss: 0.5559 - accuracy: 0.8545 - val_loss: 1.0002 - val_accuracy: 0.7116\n",
      "Epoch 90/100\n",
      "1189/1189 [==============================] - 0s 52us/sample - loss: 0.5491 - accuracy: 0.8654 - val_loss: 1.0056 - val_accuracy: 0.7031\n",
      "Epoch 91/100\n",
      "1189/1189 [==============================] - 0s 53us/sample - loss: 0.5449 - accuracy: 0.8587 - val_loss: 1.0021 - val_accuracy: 0.7065\n",
      "Epoch 92/100\n",
      "1189/1189 [==============================] - 0s 52us/sample - loss: 0.5330 - accuracy: 0.8747 - val_loss: 1.0075 - val_accuracy: 0.6980\n",
      "Epoch 93/100\n",
      "1189/1189 [==============================] - 0s 52us/sample - loss: 0.5309 - accuracy: 0.8688 - val_loss: 1.0056 - val_accuracy: 0.7133\n",
      "Epoch 94/100\n",
      "1189/1189 [==============================] - 0s 52us/sample - loss: 0.5259 - accuracy: 0.8696 - val_loss: 1.0055 - val_accuracy: 0.7082\n",
      "Epoch 95/100\n",
      "1189/1189 [==============================] - 0s 52us/sample - loss: 0.5188 - accuracy: 0.8831 - val_loss: 1.0085 - val_accuracy: 0.7082\n",
      "Epoch 96/100\n",
      "1189/1189 [==============================] - 0s 52us/sample - loss: 0.5197 - accuracy: 0.8722 - val_loss: 1.0095 - val_accuracy: 0.6945\n"
     ]
    },
    {
     "name": "stdout",
     "output_type": "stream",
     "text": [
      "Epoch 97/100\n",
      "1189/1189 [==============================] - 0s 52us/sample - loss: 0.5108 - accuracy: 0.8772 - val_loss: 1.0034 - val_accuracy: 0.7048\n",
      "Epoch 98/100\n",
      "1189/1189 [==============================] - 0s 52us/sample - loss: 0.5091 - accuracy: 0.8738 - val_loss: 1.0069 - val_accuracy: 0.6945\n",
      "Epoch 99/100\n",
      "1189/1189 [==============================] - 0s 52us/sample - loss: 0.5065 - accuracy: 0.8688 - val_loss: 1.0112 - val_accuracy: 0.6962\n",
      "Epoch 100/100\n",
      "1189/1189 [==============================] - 0s 52us/sample - loss: 0.4953 - accuracy: 0.8654 - val_loss: 1.0116 - val_accuracy: 0.6997\n"
     ]
    },
    {
     "data": {
      "image/png": "[encoded data removed]",
      "text/plain": [
       "<Figure size 432x288 with 1 Axes>"
      ]
     },
     "metadata": {
      "needs_background": "light"
     },
     "output_type": "display_data"
    },
    {
     "data": {
      "image/png": "[encoded data removed]",
      "text/plain": [
       "<Figure size 432x288 with 1 Axes>"
      ]
     },
     "metadata": {
      "needs_background": "light"
     },
     "output_type": "display_data"
    },
    {
     "name": "stdout",
     "output_type": "stream",
     "text": [
      "testing accuracy 0.7125984251968503\n",
      "                    precision    recall  f1-score   support\n",
      "\n",
      "          AskIndia       0.43      0.67      0.53        61\n",
      "     Non-Political       0.74      0.63      0.68        73\n",
      "     [R]eddiquette       0.50      0.25      0.33         4\n",
      "         Scheduled       0.71      0.64      0.67        75\n",
      "       Photography       0.82      0.69      0.75        65\n",
      "Science/Technology       0.72      0.78      0.75        69\n",
      "          Politics       0.70      0.91      0.79        68\n",
      "  Business/Finance       0.71      0.64      0.68        76\n",
      "    Policy/Economy       0.56      0.57      0.57        61\n",
      "            Sports       0.91      0.79      0.84        75\n",
      "              Food       0.87      0.76      0.81        68\n",
      "               AMA       0.84      0.76      0.80        67\n",
      "\n",
      "          accuracy                           0.71       762\n",
      "         macro avg       0.71      0.68      0.68       762\n",
      "      weighted avg       0.73      0.71      0.72       762\n",
      "\n",
      "training accuracy 0.8202816901408451\n",
      "                    precision    recall  f1-score   support\n",
      "\n",
      "          AskIndia       0.70      0.77      0.73       167\n",
      "     Non-Political       0.80      0.87      0.83       142\n",
      "     [R]eddiquette       1.00      0.64      0.78        14\n",
      "         Scheduled       0.76      0.80      0.78       161\n",
      "       Photography       0.92      0.77      0.84       156\n",
      "Science/Technology       0.85      0.86      0.85       153\n",
      "          Politics       0.76      0.93      0.83       180\n",
      "  Business/Finance       0.82      0.79      0.80       158\n",
      "    Policy/Economy       0.80      0.73      0.76       160\n",
      "            Sports       0.93      0.86      0.90       162\n",
      "              Food       0.86      0.84      0.85       177\n",
      "               AMA       0.90      0.82      0.86       145\n",
      "\n",
      "          accuracy                           0.82      1775\n",
      "         macro avg       0.84      0.81      0.82      1775\n",
      "      weighted avg       0.83      0.82      0.82      1775\n",
      "\n",
      "Results of Neural Network Classifier with LSTM Hidden Layer\n",
      "Train on 1189 samples, validate on 586 samples\n",
      "Epoch 1/30\n",
      "1189/1189 [==============================] - 2s 2ms/sample - loss: 2.4709 - accuracy: 0.2649 - val_loss: 2.4551 - val_accuracy: 0.3788\n",
      "Epoch 2/30\n",
      "1189/1189 [==============================] - 0s 314us/sample - loss: 2.4290 - accuracy: 0.5198 - val_loss: 2.4182 - val_accuracy: 0.4488\n",
      "Epoch 3/30\n",
      "1189/1189 [==============================] - 0s 319us/sample - loss: 2.3781 - accuracy: 0.5198 - val_loss: 2.3722 - val_accuracy: 0.4181\n",
      "Epoch 4/30\n",
      "1189/1189 [==============================] - 0s 317us/sample - loss: 2.3119 - accuracy: 0.5114 - val_loss: 2.3155 - val_accuracy: 0.4454\n",
      "Epoch 5/30\n",
      "1189/1189 [==============================] - 0s 314us/sample - loss: 2.2271 - accuracy: 0.6098 - val_loss: 2.2395 - val_accuracy: 0.5205\n",
      "Epoch 6/30\n",
      "1189/1189 [==============================] - 0s 308us/sample - loss: 2.1151 - accuracy: 0.6577 - val_loss: 2.1445 - val_accuracy: 0.5768\n",
      "Epoch 7/30\n",
      "1189/1189 [==============================] - 0s 316us/sample - loss: 1.9950 - accuracy: 0.7031 - val_loss: 2.0296 - val_accuracy: 0.6160\n",
      "Epoch 8/30\n",
      "1189/1189 [==============================] - 0s 312us/sample - loss: 1.8429 - accuracy: 0.7443 - val_loss: 1.9010 - val_accuracy: 0.6468\n",
      "Epoch 9/30\n",
      "1189/1189 [==============================] - 0s 338us/sample - loss: 1.6752 - accuracy: 0.7595 - val_loss: 1.7674 - val_accuracy: 0.6604\n",
      "Epoch 10/30\n",
      "1189/1189 [==============================] - 0s 332us/sample - loss: 1.5170 - accuracy: 0.7687 - val_loss: 1.6340 - val_accuracy: 0.6758\n",
      "Epoch 11/30\n",
      "1189/1189 [==============================] - 0s 341us/sample - loss: 1.3706 - accuracy: 0.7830 - val_loss: 1.5174 - val_accuracy: 0.6792\n",
      "Epoch 12/30\n",
      "1189/1189 [==============================] - 0s 330us/sample - loss: 1.2510 - accuracy: 0.7881 - val_loss: 1.4103 - val_accuracy: 0.6894\n",
      "Epoch 13/30\n",
      "1189/1189 [==============================] - 0s 329us/sample - loss: 1.1444 - accuracy: 0.7864 - val_loss: 1.3315 - val_accuracy: 0.6877\n",
      "Epoch 14/30\n",
      "1189/1189 [==============================] - 0s 341us/sample - loss: 1.0612 - accuracy: 0.7738 - val_loss: 1.2669 - val_accuracy: 0.6894\n",
      "Epoch 15/30\n",
      "1189/1189 [==============================] - 0s 341us/sample - loss: 0.9930 - accuracy: 0.7738 - val_loss: 1.2181 - val_accuracy: 0.6894\n",
      "Epoch 16/30\n",
      "1189/1189 [==============================] - 0s 339us/sample - loss: 0.9185 - accuracy: 0.7906 - val_loss: 1.1759 - val_accuracy: 0.6860\n",
      "Epoch 17/30\n",
      "1189/1189 [==============================] - 0s 338us/sample - loss: 0.8751 - accuracy: 0.7906 - val_loss: 1.1452 - val_accuracy: 0.6962\n",
      "Epoch 18/30\n",
      "1189/1189 [==============================] - 0s 345us/sample - loss: 0.8230 - accuracy: 0.8057 - val_loss: 1.1235 - val_accuracy: 0.6877\n",
      "Epoch 19/30\n",
      "1189/1189 [==============================] - 0s 343us/sample - loss: 0.7717 - accuracy: 0.8057 - val_loss: 1.1051 - val_accuracy: 0.6962\n",
      "Epoch 20/30\n",
      "1189/1189 [==============================] - 0s 333us/sample - loss: 0.7561 - accuracy: 0.8074 - val_loss: 1.0957 - val_accuracy: 0.6945\n",
      "Epoch 21/30\n",
      "1189/1189 [==============================] - 0s 335us/sample - loss: 0.7389 - accuracy: 0.8057 - val_loss: 1.0847 - val_accuracy: 0.6945\n",
      "Epoch 22/30\n",
      "1189/1189 [==============================] - 0s 335us/sample - loss: 0.6865 - accuracy: 0.8343 - val_loss: 1.0803 - val_accuracy: 0.6928\n",
      "Epoch 23/30\n",
      "1189/1189 [==============================] - 0s 337us/sample - loss: 0.6801 - accuracy: 0.8200 - val_loss: 1.0769 - val_accuracy: 0.6928\n",
      "Epoch 24/30\n",
      "1189/1189 [==============================] - 0s 331us/sample - loss: 0.6504 - accuracy: 0.8284 - val_loss: 1.0781 - val_accuracy: 0.6826\n",
      "Epoch 25/30\n",
      "1189/1189 [==============================] - 0s 337us/sample - loss: 0.6360 - accuracy: 0.8158 - val_loss: 1.0756 - val_accuracy: 0.6928\n",
      "Epoch 26/30\n",
      "1189/1189 [==============================] - 0s 336us/sample - loss: 0.6145 - accuracy: 0.8410 - val_loss: 1.0782 - val_accuracy: 0.6843\n",
      "Epoch 27/30\n",
      "1189/1189 [==============================] - 0s 337us/sample - loss: 0.6345 - accuracy: 0.8251 - val_loss: 1.0871 - val_accuracy: 0.6843\n",
      "Epoch 28/30\n",
      "1189/1189 [==============================] - 0s 338us/sample - loss: 0.5750 - accuracy: 0.8394 - val_loss: 1.0869 - val_accuracy: 0.6877\n",
      "Epoch 29/30\n",
      "1189/1189 [==============================] - 0s 335us/sample - loss: 0.5900 - accuracy: 0.8402 - val_loss: 1.0884 - val_accuracy: 0.6928\n",
      "Epoch 30/30\n",
      "1189/1189 [==============================] - 0s 338us/sample - loss: 0.5829 - accuracy: 0.8267 - val_loss: 1.0956 - val_accuracy: 0.6877\n"
     ]
    },
    {
     "data": {
      "image/png": "[encoded data removed]",
      "text/plain": [
       "<Figure size 432x288 with 1 Axes>"
      ]
     },
     "metadata": {
      "needs_background": "light"
     },
     "output_type": "display_data"
    },
    {
     "data": {
      "image/png": "[encoded data removed]",
      "text/plain": [
       "<Figure size 432x288 with 1 Axes>"
      ]
     },
     "metadata": {
      "needs_background": "light"
     },
     "output_type": "display_data"
    },
    {
     "name": "stdout",
     "output_type": "stream",
     "text": [
      "testing accuracy 0.7034120734908137\n",
      "                    precision    recall  f1-score   support\n",
      "\n",
      "          AskIndia       0.38      0.66      0.48        61\n",
      "     Non-Political       0.80      0.59      0.68        73\n",
      "     [R]eddiquette       0.50      0.25      0.33         4\n",
      "         Scheduled       0.77      0.63      0.69        75\n",
      "       Photography       0.75      0.77      0.76        65\n",
      "Science/Technology       0.72      0.72      0.72        69\n",
      "          Politics       0.74      0.90      0.81        68\n",
      "  Business/Finance       0.71      0.58      0.64        76\n",
      "    Policy/Economy       0.51      0.57      0.54        61\n",
      "            Sports       0.90      0.80      0.85        75\n",
      "              Food       0.80      0.78      0.79        68\n",
      "               AMA       0.88      0.78      0.83        67\n",
      "\n",
      "          accuracy                           0.70       762\n",
      "         macro avg       0.71      0.67      0.68       762\n",
      "      weighted avg       0.73      0.70      0.71       762\n",
      "\n",
      "training accuracy 0.8354929577464789\n",
      "                    precision    recall  f1-score   support\n",
      "\n",
      "          AskIndia       0.70      0.77      0.73       167\n",
      "     Non-Political       0.83      0.90      0.86       142\n",
      "     [R]eddiquette       1.00      0.64      0.78        14\n",
      "         Scheduled       0.85      0.75      0.79       161\n",
      "       Photography       0.90      0.85      0.87       156\n",
      "Science/Technology       0.89      0.86      0.87       153\n",
      "          Politics       0.80      0.90      0.85       180\n",
      "  Business/Finance       0.87      0.83      0.85       158\n",
      "    Policy/Economy       0.79      0.75      0.77       160\n",
      "            Sports       0.88      0.88      0.88       162\n",
      "              Food       0.82      0.87      0.85       177\n",
      "               AMA       0.90      0.86      0.88       145\n",
      "\n",
      "          accuracy                           0.84      1775\n",
      "         macro avg       0.85      0.82      0.83      1775\n",
      "      weighted avg       0.84      0.84      0.84      1775\n",
      "\n"
     ]
    }
   ],
   "source": [
    "print(\"Flair Detection using Comments as Feature\")\n",
    "train_test(V,cat)"
   ]
  },
  {
   "cell_type": "code",
   "execution_count": null,
   "metadata": {},
   "outputs": [],
   "source": []
  },
  {
   "cell_type": "code",
   "execution_count": null,
   "metadata": {},
   "outputs": [],
   "source": []
  },
  {
   "cell_type": "code",
   "execution_count": null,
   "metadata": {},
   "outputs": [],
   "source": []
  },
  {
   "cell_type": "code",
   "execution_count": null,
   "metadata": {},
   "outputs": [],
   "source": []
  },
  {
   "cell_type": "code",
   "execution_count": null,
   "metadata": {},
   "outputs": [],
   "source": []
  },
  {
   "cell_type": "code",
   "execution_count": null,
   "metadata": {},
   "outputs": [],
   "source": []
  },
  {
   "cell_type": "code",
   "execution_count": null,
   "metadata": {},
   "outputs": [],
   "source": []
  }
 ],
 "metadata": {
  "kernelspec": {
   "display_name": "Python 3",
   "language": "python",
   "name": "python3"
  },
  "language_info": {
   "codemirror_mode": {
    "name": "ipython",
    "version": 3
   },
   "file_extension": ".py",
   "mimetype": "text/x-python",
   "name": "python",
   "nbconvert_exporter": "python",
   "pygments_lexer": "ipython3",
   "version": "3.5.2"
  }
 },
 "nbformat": 4,
 "nbformat_minor": 2
}
