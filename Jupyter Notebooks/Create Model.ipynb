{
 "cells": [
  {
   "cell_type": "code",
   "execution_count": 1,
   "metadata": {},
   "outputs": [
    {
     "name": "stdout",
     "output_type": "stream",
     "text": [
      "Connected successfully!!!\n"
     ]
    }
   ],
   "source": [
    "from pymongo import MongoClient \n",
    "import pandas as pd\n",
    "from sklearn.metrics import accuracy_score\n",
    "import numpy as np\n",
    "\n",
    "try: \n",
    "    connection = MongoClient() \n",
    "    print(\"Connected successfully!!!\") \n",
    "except:   \n",
    "    print(\"Could not connect to MongoDB\")\n",
    "    \n",
    "database = connection.flair_database\n",
    "coll_train = database.training_data4\n",
    "coll_test = database.testing_data4"
   ]
  },
  {
   "cell_type": "code",
   "execution_count": 2,
   "metadata": {},
   "outputs": [],
   "source": [
    "training_data = pd.DataFrame(list(coll_train.find()))"
   ]
  },
  {
   "cell_type": "code",
   "execution_count": 3,
   "metadata": {},
   "outputs": [],
   "source": [
    "testing_data = pd.DataFrame(list(coll_test.find()))"
   ]
  },
  {
   "cell_type": "code",
   "execution_count": 4,
   "metadata": {},
   "outputs": [],
   "source": [
    "final_features = [u'author', u'comments', u'is_original_content',\n",
    "       u'is_reddit_media_domain', u'is_video', u'over_18', u'permalink',\n",
    "       u'secure_media', u'selftext', u'send_replies', u'title', u'url',\n",
    "       u'edited', u'num_comments', u'num_duplicates', u'subreddit_subscribers',\n",
    "       u'ups', u'upvote_ratio']"
   ]
  },
  {
   "cell_type": "code",
   "execution_count": 5,
   "metadata": {},
   "outputs": [],
   "source": [
    "y_test = testing_data['link_flair_text']\n",
    "y_train = training_data['link_flair_text']"
   ]
  },
  {
   "cell_type": "code",
   "execution_count": 6,
   "metadata": {},
   "outputs": [],
   "source": [
    "training_data = training_data[final_features]\n",
    "testing_data = testing_data[final_features]"
   ]
  },
  {
   "cell_type": "code",
   "execution_count": 10,
   "metadata": {},
   "outputs": [],
   "source": [
    "\n",
    "def get_given_features_from_data(feature_list, data):\n",
    "#     print feature_list[0]\n",
    "    final_data = np.array([x for x in data[feature_list[0]]])\n",
    "    final_data = np.atleast_2d(final_data)\n",
    "    if(final_data.shape[0]==1):\n",
    "        final_data = final_data.T\n",
    "#     print final_data.shape\n",
    "    for i in range(1,len(feature_list)):\n",
    "        feature = feature_list[i]\n",
    "#         print feature\n",
    "        data_features = np.array([x for x in data[feature]])\n",
    "        reshaped_array = np.atleast_2d(data_features)\n",
    "        if(reshaped_array.shape[0]==1):\n",
    "            reshaped_array = reshaped_array.T\n",
    "        final_data = np.concatenate((final_data,reshaped_array),axis=1)\n",
    "#     print final_data.shape\n",
    "    return final_data\n",
    "\n",
    "def get_train_test_for_feature_list(feauture_list,train,test):\n",
    "    final_training_data = get_given_features_from_data(feauture_list,train)\n",
    "    final_testing_data = get_given_features_from_data(feauture_list,test)\n",
    "    return final_training_data,final_testing_data\n",
    "    \n",
    "\n",
    "from sklearn.neural_network import MLPClassifier\n",
    "def train_and_predict1(x_train,x_test,y_train,y_test):\n",
    "    clf = MLPClassifier(solver='lbfgs',alpha=1e-5,hidden_layer_sizes=(2),random_state=1).fit(x_train, y_train)\n",
    "    y_predictions = clf.predict(x_test)\n",
    "    return accuracy_score(y_test, y_predictions),clf\n",
    "\n",
    "from sklearn.ensemble import RandomForestClassifier\n",
    "def train_and_predict2(x_train,x_test,y_train,y_test):\n",
    "    clf = RandomForestClassifier(n_estimators=1000, max_depth=10,random_state=1).fit(x_train, y_train)\n",
    "    y_predictions = clf.predict(x_test)\n",
    "    return accuracy_score(y_test, y_predictions),clf\n",
    "\n",
    "from sklearn.svm import LinearSVC\n",
    "def train_and_predict3(x_train,x_test,y_train,y_test):\n",
    "    clf = LinearSVC(random_state=1, tol=1e-5,C=0.1).fit(x_train,y_train)\n",
    "    y_predictions = clf.predict(x_test)\n",
    "    return accuracy_score(y_test, y_predictions),clf\n",
    "\n",
    "def get_accuracy_for_features(feature_list,train,test):\n",
    "    print(feature_list)\n",
    "    x_train,x_test = get_train_test_for_feature_list(feature_list,train,test)\n",
    "    acc1,mlp = train_and_predict1(x_train,x_test,y_train,y_test)\n",
    "    acc2,rf = train_and_predict2(x_train,x_test,y_train,y_test)\n",
    "    acc3,svc = train_and_predict3(x_train,x_test,y_train,y_test)\n",
    "#     print \"Features: \" + feature_list\n",
    "    print(\"MLP \" + str(acc1))\n",
    "    print(\"RF \" + str(acc2))\n",
    "    print(\"SVC \" + str(acc3))\n",
    "    print(\"\")\n",
    "    return acc1,acc2,acc3,mlp,rf,svc"
   ]
  },
  {
   "cell_type": "code",
   "execution_count": 11,
   "metadata": {},
   "outputs": [
    {
     "name": "stdout",
     "output_type": "stream",
     "text": [
      "['author', 'comments', 'is_original_content', 'is_reddit_media_domain', 'is_video', 'over_18', 'permalink', 'secure_media', 'selftext', 'send_replies', 'title', 'url', 'edited', 'num_comments', 'num_duplicates', 'subreddit_subscribers', 'ups', 'upvote_ratio']\n",
      "MLP 0.6111111111111112\n",
      "RF 0.5909090909090909\n",
      "SVC 0.5959595959595959\n",
      "\n"
     ]
    }
   ],
   "source": [
    "\n",
    "acc1,acc2,acc3,mlp,rf,svc = get_accuracy_for_features(final_features,training_data,testing_data)\n"
   ]
  },
  {
   "cell_type": "code",
   "execution_count": 12,
   "metadata": {},
   "outputs": [
    {
     "name": "stdout",
     "output_type": "stream",
     "text": [
      "['author']\n",
      "MLP 0.4797979797979798\n",
      "RF 0.494949494949495\n",
      "SVC 0.4797979797979798\n",
      "\n",
      "['comments']\n",
      "MLP 0.6060606060606061\n",
      "RF 0.5808080808080808\n",
      "SVC 0.601010101010101\n",
      "\n",
      "['is_original_content']\n",
      "MLP 0.4797979797979798\n",
      "RF 0.4797979797979798\n",
      "SVC 0.4797979797979798\n",
      "\n",
      "['is_reddit_media_domain']\n",
      "MLP 0.4797979797979798\n",
      "RF 0.4797979797979798\n",
      "SVC 0.4797979797979798\n",
      "\n",
      "['is_video']\n",
      "MLP 0.4797979797979798\n",
      "RF 0.4797979797979798\n",
      "SVC 0.4797979797979798\n",
      "\n",
      "['over_18']\n",
      "MLP 0.4797979797979798\n",
      "RF 0.4797979797979798\n",
      "SVC 0.4797979797979798\n",
      "\n",
      "['permalink']\n",
      "MLP 0.4797979797979798\n",
      "RF 0.494949494949495\n",
      "SVC 0.5050505050505051\n",
      "\n",
      "['secure_media']\n",
      "MLP 0.4797979797979798\n",
      "RF 0.4797979797979798\n",
      "SVC 0.4797979797979798\n",
      "\n",
      "['selftext']\n",
      "MLP 0.4696969696969697\n",
      "RF 0.4797979797979798\n",
      "SVC 0.4797979797979798\n",
      "\n",
      "['send_replies']\n",
      "MLP 0.4797979797979798\n",
      "RF 0.4797979797979798\n",
      "SVC 0.4797979797979798\n",
      "\n",
      "['title']\n",
      "MLP 0.5151515151515151\n",
      "RF 0.5303030303030303\n",
      "SVC 0.5202020202020202\n",
      "\n",
      "['url']\n",
      "MLP 0.51010101010101\n",
      "RF 0.48484848484848486\n",
      "SVC 0.5252525252525253\n",
      "\n",
      "['edited']\n",
      "MLP 0.4797979797979798\n",
      "RF 0.47474747474747475\n",
      "SVC 0.4797979797979798\n",
      "\n",
      "['num_comments']\n",
      "MLP 0.4797979797979798\n",
      "RF 0.4444444444444444\n",
      "SVC 0.4797979797979798\n",
      "\n",
      "['num_duplicates']\n",
      "MLP 0.4797979797979798\n",
      "RF 0.46464646464646464\n",
      "SVC 0.4797979797979798\n",
      "\n",
      "['subreddit_subscribers']\n",
      "MLP 0.4797979797979798\n",
      "RF 0.4797979797979798\n",
      "SVC 0.4797979797979798\n",
      "\n",
      "['ups']\n",
      "MLP 0.4797979797979798\n",
      "RF 0.4595959595959596\n",
      "SVC 0.4797979797979798\n",
      "\n",
      "['upvote_ratio']\n",
      "MLP 0.4797979797979798\n",
      "RF 0.47474747474747475\n",
      "SVC 0.4797979797979798\n",
      "\n"
     ]
    }
   ],
   "source": [
    "for f in final_features:\n",
    "    acc1,acc2,acc3,mlp,rf,svc = get_accuracy_for_features([f],training_data,testing_data)"
   ]
  },
  {
   "cell_type": "code",
   "execution_count": 13,
   "metadata": {},
   "outputs": [
    {
     "name": "stdout",
     "output_type": "stream",
     "text": [
      "['author', 'comments', 'permalink', 'secure_media', 'selftext', 'title', 'url']\n",
      "MLP 0.601010101010101\n",
      "RF 0.5909090909090909\n",
      "SVC 0.5909090909090909\n",
      "\n"
     ]
    },
    {
     "data": {
      "text/plain": [
       "(0.601010101010101,\n",
       " 0.5909090909090909,\n",
       " 0.5909090909090909,\n",
       " MLPClassifier(activation='relu', alpha=1e-05, batch_size='auto', beta_1=0.9,\n",
       "               beta_2=0.999, early_stopping=False, epsilon=1e-08,\n",
       "               hidden_layer_sizes=2, learning_rate='constant',\n",
       "               learning_rate_init=0.001, max_iter=200, momentum=0.9,\n",
       "               n_iter_no_change=10, nesterovs_momentum=True, power_t=0.5,\n",
       "               random_state=1, shuffle=True, solver='lbfgs', tol=0.0001,\n",
       "               validation_fraction=0.1, verbose=False, warm_start=False),\n",
       " RandomForestClassifier(bootstrap=True, class_weight=None, criterion='gini',\n",
       "                        max_depth=10, max_features='auto', max_leaf_nodes=None,\n",
       "                        min_impurity_decrease=0.0, min_impurity_split=None,\n",
       "                        min_samples_leaf=1, min_samples_split=2,\n",
       "                        min_weight_fraction_leaf=0.0, n_estimators=1000,\n",
       "                        n_jobs=None, oob_score=False, random_state=1, verbose=0,\n",
       "                        warm_start=False),\n",
       " LinearSVC(C=0.1, class_weight=None, dual=True, fit_intercept=True,\n",
       "           intercept_scaling=1, loss='squared_hinge', max_iter=1000,\n",
       "           multi_class='ovr', penalty='l2', random_state=1, tol=1e-05,\n",
       "           verbose=0))"
      ]
     },
     "execution_count": 13,
     "metadata": {},
     "output_type": "execute_result"
    }
   ],
   "source": [
    "get_accuracy_for_features([u'author', u'comments', u'permalink',\n",
    "       u'secure_media', u'selftext', u'title', u'url'],training_data,testing_data)"
   ]
  },
  {
   "cell_type": "code",
   "execution_count": 14,
   "metadata": {},
   "outputs": [
    {
     "name": "stdout",
     "output_type": "stream",
     "text": [
      "['comments', 'selftext', 'title']\n",
      "MLP 0.5909090909090909\n",
      "RF 0.5909090909090909\n",
      "SVC 0.5909090909090909\n",
      "\n"
     ]
    },
    {
     "data": {
      "text/plain": [
       "(0.5909090909090909,\n",
       " 0.5909090909090909,\n",
       " 0.5909090909090909,\n",
       " MLPClassifier(activation='relu', alpha=1e-05, batch_size='auto', beta_1=0.9,\n",
       "               beta_2=0.999, early_stopping=False, epsilon=1e-08,\n",
       "               hidden_layer_sizes=2, learning_rate='constant',\n",
       "               learning_rate_init=0.001, max_iter=200, momentum=0.9,\n",
       "               n_iter_no_change=10, nesterovs_momentum=True, power_t=0.5,\n",
       "               random_state=1, shuffle=True, solver='lbfgs', tol=0.0001,\n",
       "               validation_fraction=0.1, verbose=False, warm_start=False),\n",
       " RandomForestClassifier(bootstrap=True, class_weight=None, criterion='gini',\n",
       "                        max_depth=10, max_features='auto', max_leaf_nodes=None,\n",
       "                        min_impurity_decrease=0.0, min_impurity_split=None,\n",
       "                        min_samples_leaf=1, min_samples_split=2,\n",
       "                        min_weight_fraction_leaf=0.0, n_estimators=1000,\n",
       "                        n_jobs=None, oob_score=False, random_state=1, verbose=0,\n",
       "                        warm_start=False),\n",
       " LinearSVC(C=0.1, class_weight=None, dual=True, fit_intercept=True,\n",
       "           intercept_scaling=1, loss='squared_hinge', max_iter=1000,\n",
       "           multi_class='ovr', penalty='l2', random_state=1, tol=1e-05,\n",
       "           verbose=0))"
      ]
     },
     "execution_count": 14,
     "metadata": {},
     "output_type": "execute_result"
    }
   ],
   "source": [
    "get_accuracy_for_features([u'comments', u'selftext', u'title'],training_data,testing_data)"
   ]
  },
  {
   "cell_type": "code",
   "execution_count": 15,
   "metadata": {},
   "outputs": [
    {
     "name": "stdout",
     "output_type": "stream",
     "text": [
      "['comments', 'title']\n",
      "MLP 0.601010101010101\n",
      "RF 0.5757575757575758\n",
      "SVC 0.5858585858585859\n",
      "\n"
     ]
    },
    {
     "data": {
      "text/plain": [
       "(0.601010101010101,\n",
       " 0.5757575757575758,\n",
       " 0.5858585858585859,\n",
       " MLPClassifier(activation='relu', alpha=1e-05, batch_size='auto', beta_1=0.9,\n",
       "               beta_2=0.999, early_stopping=False, epsilon=1e-08,\n",
       "               hidden_layer_sizes=2, learning_rate='constant',\n",
       "               learning_rate_init=0.001, max_iter=200, momentum=0.9,\n",
       "               n_iter_no_change=10, nesterovs_momentum=True, power_t=0.5,\n",
       "               random_state=1, shuffle=True, solver='lbfgs', tol=0.0001,\n",
       "               validation_fraction=0.1, verbose=False, warm_start=False),\n",
       " RandomForestClassifier(bootstrap=True, class_weight=None, criterion='gini',\n",
       "                        max_depth=10, max_features='auto', max_leaf_nodes=None,\n",
       "                        min_impurity_decrease=0.0, min_impurity_split=None,\n",
       "                        min_samples_leaf=1, min_samples_split=2,\n",
       "                        min_weight_fraction_leaf=0.0, n_estimators=1000,\n",
       "                        n_jobs=None, oob_score=False, random_state=1, verbose=0,\n",
       "                        warm_start=False),\n",
       " LinearSVC(C=0.1, class_weight=None, dual=True, fit_intercept=True,\n",
       "           intercept_scaling=1, loss='squared_hinge', max_iter=1000,\n",
       "           multi_class='ovr', penalty='l2', random_state=1, tol=1e-05,\n",
       "           verbose=0))"
      ]
     },
     "execution_count": 15,
     "metadata": {},
     "output_type": "execute_result"
    }
   ],
   "source": [
    "get_accuracy_for_features([u'comments',u'title'],training_data,testing_data)"
   ]
  },
  {
   "cell_type": "code",
   "execution_count": 16,
   "metadata": {},
   "outputs": [
    {
     "name": "stdout",
     "output_type": "stream",
     "text": [
      "Index(['is_original_content', 'is_reddit_media_domain', 'is_video', 'over_18',\n",
      "       'send_replies', 'edited', 'num_comments', 'num_duplicates',\n",
      "       'subreddit_subscribers', 'ups', 'upvote_ratio'],\n",
      "      dtype='object')\n",
      "MLP 0.4797979797979798\n",
      "RF 0.5050505050505051\n",
      "SVC 0.494949494949495\n",
      "\n"
     ]
    },
    {
     "data": {
      "text/plain": [
       "(0.4797979797979798,\n",
       " 0.5050505050505051,\n",
       " 0.494949494949495,\n",
       " MLPClassifier(activation='relu', alpha=1e-05, batch_size='auto', beta_1=0.9,\n",
       "               beta_2=0.999, early_stopping=False, epsilon=1e-08,\n",
       "               hidden_layer_sizes=2, learning_rate='constant',\n",
       "               learning_rate_init=0.001, max_iter=200, momentum=0.9,\n",
       "               n_iter_no_change=10, nesterovs_momentum=True, power_t=0.5,\n",
       "               random_state=1, shuffle=True, solver='lbfgs', tol=0.0001,\n",
       "               validation_fraction=0.1, verbose=False, warm_start=False),\n",
       " RandomForestClassifier(bootstrap=True, class_weight=None, criterion='gini',\n",
       "                        max_depth=10, max_features='auto', max_leaf_nodes=None,\n",
       "                        min_impurity_decrease=0.0, min_impurity_split=None,\n",
       "                        min_samples_leaf=1, min_samples_split=2,\n",
       "                        min_weight_fraction_leaf=0.0, n_estimators=1000,\n",
       "                        n_jobs=None, oob_score=False, random_state=1, verbose=0,\n",
       "                        warm_start=False),\n",
       " LinearSVC(C=0.1, class_weight=None, dual=True, fit_intercept=True,\n",
       "           intercept_scaling=1, loss='squared_hinge', max_iter=1000,\n",
       "           multi_class='ovr', penalty='l2', random_state=1, tol=1e-05,\n",
       "           verbose=0))"
      ]
     },
     "execution_count": 16,
     "metadata": {},
     "output_type": "execute_result"
    }
   ],
   "source": [
    "get_accuracy_for_features(training_data.select_dtypes(include=[np.number]).columns,training_data,testing_data)"
   ]
  },
  {
   "cell_type": "code",
   "execution_count": 17,
   "metadata": {},
   "outputs": [
    {
     "name": "stdout",
     "output_type": "stream",
     "text": [
      "['is_original_content', 'is_reddit_media_domain', 'is_video', 'over_18', 'send_replies']\n",
      "MLP 0.4797979797979798\n",
      "RF 0.4797979797979798\n",
      "SVC 0.4797979797979798\n",
      "\n"
     ]
    },
    {
     "data": {
      "text/plain": [
       "(0.4797979797979798,\n",
       " 0.4797979797979798,\n",
       " 0.4797979797979798,\n",
       " MLPClassifier(activation='relu', alpha=1e-05, batch_size='auto', beta_1=0.9,\n",
       "               beta_2=0.999, early_stopping=False, epsilon=1e-08,\n",
       "               hidden_layer_sizes=2, learning_rate='constant',\n",
       "               learning_rate_init=0.001, max_iter=200, momentum=0.9,\n",
       "               n_iter_no_change=10, nesterovs_momentum=True, power_t=0.5,\n",
       "               random_state=1, shuffle=True, solver='lbfgs', tol=0.0001,\n",
       "               validation_fraction=0.1, verbose=False, warm_start=False),\n",
       " RandomForestClassifier(bootstrap=True, class_weight=None, criterion='gini',\n",
       "                        max_depth=10, max_features='auto', max_leaf_nodes=None,\n",
       "                        min_impurity_decrease=0.0, min_impurity_split=None,\n",
       "                        min_samples_leaf=1, min_samples_split=2,\n",
       "                        min_weight_fraction_leaf=0.0, n_estimators=1000,\n",
       "                        n_jobs=None, oob_score=False, random_state=1, verbose=0,\n",
       "                        warm_start=False),\n",
       " LinearSVC(C=0.1, class_weight=None, dual=True, fit_intercept=True,\n",
       "           intercept_scaling=1, loss='squared_hinge', max_iter=1000,\n",
       "           multi_class='ovr', penalty='l2', random_state=1, tol=1e-05,\n",
       "           verbose=0))"
      ]
     },
     "execution_count": 17,
     "metadata": {},
     "output_type": "execute_result"
    }
   ],
   "source": [
    "get_accuracy_for_features([u'is_original_content', u'is_reddit_media_domain', u'is_video',\n",
    "       u'over_18', u'send_replies'],training_data,testing_data)"
   ]
  },
  {
   "cell_type": "code",
   "execution_count": 18,
   "metadata": {},
   "outputs": [
    {
     "name": "stdout",
     "output_type": "stream",
     "text": [
      "['author', 'comments', 'permalink', 'secure_media', 'selftext', 'title', 'url', 'edited', 'num_comments', 'num_duplicates', 'subreddit_subscribers', 'ups', 'upvote_ratio']\n",
      "MLP 0.6212121212121212\n",
      "RF 0.5858585858585859\n",
      "SVC 0.601010101010101\n",
      "\n"
     ]
    },
    {
     "data": {
      "text/plain": [
       "(0.6212121212121212,\n",
       " 0.5858585858585859,\n",
       " 0.601010101010101,\n",
       " MLPClassifier(activation='relu', alpha=1e-05, batch_size='auto', beta_1=0.9,\n",
       "               beta_2=0.999, early_stopping=False, epsilon=1e-08,\n",
       "               hidden_layer_sizes=2, learning_rate='constant',\n",
       "               learning_rate_init=0.001, max_iter=200, momentum=0.9,\n",
       "               n_iter_no_change=10, nesterovs_momentum=True, power_t=0.5,\n",
       "               random_state=1, shuffle=True, solver='lbfgs', tol=0.0001,\n",
       "               validation_fraction=0.1, verbose=False, warm_start=False),\n",
       " RandomForestClassifier(bootstrap=True, class_weight=None, criterion='gini',\n",
       "                        max_depth=10, max_features='auto', max_leaf_nodes=None,\n",
       "                        min_impurity_decrease=0.0, min_impurity_split=None,\n",
       "                        min_samples_leaf=1, min_samples_split=2,\n",
       "                        min_weight_fraction_leaf=0.0, n_estimators=1000,\n",
       "                        n_jobs=None, oob_score=False, random_state=1, verbose=0,\n",
       "                        warm_start=False),\n",
       " LinearSVC(C=0.1, class_weight=None, dual=True, fit_intercept=True,\n",
       "           intercept_scaling=1, loss='squared_hinge', max_iter=1000,\n",
       "           multi_class='ovr', penalty='l2', random_state=1, tol=1e-05,\n",
       "           verbose=0))"
      ]
     },
     "execution_count": 18,
     "metadata": {},
     "output_type": "execute_result"
    }
   ],
   "source": [
    "get_accuracy_for_features([u'author', u'comments', u'permalink',\n",
    "       u'secure_media', u'selftext', u'title', u'url',\n",
    "       u'edited', u'num_comments', u'num_duplicates', u'subreddit_subscribers',\n",
    "       u'ups', u'upvote_ratio'],training_data,testing_data)"
   ]
  },
  {
   "cell_type": "code",
   "execution_count": 19,
   "metadata": {},
   "outputs": [
    {
     "name": "stdout",
     "output_type": "stream",
     "text": [
      "['author', 'comments', 'is_original_content', 'is_reddit_media_domain', 'is_video', 'over_18', 'permalink', 'secure_media', 'selftext', 'send_replies', 'title', 'url']\n",
      "MLP 0.4797979797979798\n",
      "RF 0.5808080808080808\n",
      "SVC 0.5909090909090909\n",
      "\n"
     ]
    },
    {
     "data": {
      "text/plain": [
       "(0.4797979797979798,\n",
       " 0.5808080808080808,\n",
       " 0.5909090909090909,\n",
       " MLPClassifier(activation='relu', alpha=1e-05, batch_size='auto', beta_1=0.9,\n",
       "               beta_2=0.999, early_stopping=False, epsilon=1e-08,\n",
       "               hidden_layer_sizes=2, learning_rate='constant',\n",
       "               learning_rate_init=0.001, max_iter=200, momentum=0.9,\n",
       "               n_iter_no_change=10, nesterovs_momentum=True, power_t=0.5,\n",
       "               random_state=1, shuffle=True, solver='lbfgs', tol=0.0001,\n",
       "               validation_fraction=0.1, verbose=False, warm_start=False),\n",
       " RandomForestClassifier(bootstrap=True, class_weight=None, criterion='gini',\n",
       "                        max_depth=10, max_features='auto', max_leaf_nodes=None,\n",
       "                        min_impurity_decrease=0.0, min_impurity_split=None,\n",
       "                        min_samples_leaf=1, min_samples_split=2,\n",
       "                        min_weight_fraction_leaf=0.0, n_estimators=1000,\n",
       "                        n_jobs=None, oob_score=False, random_state=1, verbose=0,\n",
       "                        warm_start=False),\n",
       " LinearSVC(C=0.1, class_weight=None, dual=True, fit_intercept=True,\n",
       "           intercept_scaling=1, loss='squared_hinge', max_iter=1000,\n",
       "           multi_class='ovr', penalty='l2', random_state=1, tol=1e-05,\n",
       "           verbose=0))"
      ]
     },
     "execution_count": 19,
     "metadata": {},
     "output_type": "execute_result"
    }
   ],
   "source": [
    "get_accuracy_for_features([u'author', u'comments', u'is_original_content',\n",
    "       u'is_reddit_media_domain', u'is_video', u'over_18', u'permalink',\n",
    "       u'secure_media', u'selftext', u'send_replies', u'title', u'url'],training_data,testing_data)"
   ]
  },
  {
   "cell_type": "code",
   "execution_count": 20,
   "metadata": {},
   "outputs": [
    {
     "name": "stdout",
     "output_type": "stream",
     "text": [
      "['author', 'comments', 'is_original_content', 'is_reddit_media_domain', 'is_video', 'over_18', 'permalink', 'secure_media', 'selftext', 'send_replies', 'title', 'url', 'edited', 'num_comments', 'num_duplicates', 'subreddit_subscribers', 'ups', 'upvote_ratio']\n",
      "MLP 0.6111111111111112\n",
      "RF 0.5909090909090909\n",
      "SVC 0.5959595959595959\n",
      "\n"
     ]
    }
   ],
   "source": [
    "\n",
    "acc1,acc2,acc3,mlp,rf,svc = get_accuracy_for_features(final_features,training_data,testing_data)\n"
   ]
  },
  {
   "cell_type": "code",
   "execution_count": 21,
   "metadata": {},
   "outputs": [
    {
     "data": {
      "text/plain": [
       "['classifier.pkl']"
      ]
     },
     "execution_count": 21,
     "metadata": {},
     "output_type": "execute_result"
    }
   ],
   "source": [
    "import joblib \n",
    "joblib.dump(mlp, 'classifier.pkl') "
   ]
  },
  {
   "cell_type": "code",
   "execution_count": null,
   "metadata": {},
   "outputs": [],
   "source": []
  }
 ],
 "metadata": {
  "kernelspec": {
   "display_name": "Python 3",
   "language": "python",
   "name": "python3"
  },
  "language_info": {
   "codemirror_mode": {
    "name": "ipython",
    "version": 3
   },
   "file_extension": ".py",
   "mimetype": "text/x-python",
   "name": "python",
   "nbconvert_exporter": "python",
   "pygments_lexer": "ipython3",
   "version": "3.6.8"
  }
 },
 "nbformat": 4,
 "nbformat_minor": 2
}
